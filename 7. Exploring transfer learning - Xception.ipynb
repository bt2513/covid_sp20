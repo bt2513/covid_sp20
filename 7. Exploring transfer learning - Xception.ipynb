{
 "cells": [
  {
   "cell_type": "markdown",
   "metadata": {},
   "source": [
    "# Exploring transfer learning - part3\n",
    "\n",
    "Bertrand Thia (bt2513)\n",
    "\n",
    "This time, we are going to work with the network Xception.\n",
    "\n",
    "---"
   ]
  },
  {
   "cell_type": "code",
   "execution_count": 1,
   "metadata": {},
   "outputs": [],
   "source": [
    "# importing the librairies\n",
    "\n",
    "import pandas as pd\n",
    "import numpy as np\n",
    "import matplotlib.pyplot as plt\n",
    "import seaborn as sns\n",
    "from sklearn.model_selection import train_test_split\n",
    "from sklearn.metrics import accuracy_score\n",
    "from keras.preprocessing.image import ImageDataGenerator\n",
    "from keras.models import Sequential\n",
    "from keras.layers import Flatten, Dense, Dropout\n",
    "from keras.optimizers import Adam, SGD\n",
    "from keras.callbacks.callbacks import EarlyStopping, ModelCheckpoint\n",
    "from sklearn.metrics import confusion_matrix, classification_report\n",
    "from sklearn.utils import compute_class_weight\n",
    "from keras.preprocessing import image\n",
    "from keras.applications import Xception\n",
    "from keras.utils import to_categorical\n",
    "\n",
    "np.random.seed(0)"
   ]
  },
  {
   "cell_type": "markdown",
   "metadata": {},
   "source": [
    "# Loading the data and data preprocessing"
   ]
  },
  {
   "cell_type": "code",
   "execution_count": 2,
   "metadata": {
    "scrolled": true
   },
   "outputs": [],
   "source": [
    "train_labels = pd.read_csv('../train.csv')"
   ]
  },
  {
   "cell_type": "markdown",
   "metadata": {},
   "source": [
    "### Splitting into training set and validation set "
   ]
  },
  {
   "cell_type": "code",
   "execution_count": 3,
   "metadata": {},
   "outputs": [],
   "source": [
    "train_set, valid_set = train_test_split(train_labels, test_size= 0.2, random_state= 0, \n",
    "                                        stratify= train_labels['label'])"
   ]
  },
  {
   "cell_type": "code",
   "execution_count": 4,
   "metadata": {
    "scrolled": true
   },
   "outputs": [
    {
     "name": "stdout",
     "output_type": "stream",
     "text": [
      "Train size: 901 \t Validation size: 226\n"
     ]
    }
   ],
   "source": [
    "print('Train size: %d \\t Validation size: %d' %(len(train_set), len(valid_set)))"
   ]
  },
  {
   "cell_type": "code",
   "execution_count": 5,
   "metadata": {},
   "outputs": [
    {
     "data": {
      "text/plain": [
       "normal       280\n",
       "bacterial    280\n",
       "viral        280\n",
       "covid         61\n",
       "Name: label, dtype: int64"
      ]
     },
     "execution_count": 5,
     "metadata": {},
     "output_type": "execute_result"
    }
   ],
   "source": [
    "train_set['label'].value_counts()"
   ]
  },
  {
   "cell_type": "markdown",
   "metadata": {},
   "source": [
    "### Standardization"
   ]
  },
  {
   "cell_type": "markdown",
   "metadata": {},
   "source": [
    "Let's load and standardized our data. To address the overfitting issue, we are going to use data augmentation here. This will allow us to increase the size of our dataset, but also make the classification more challenging. Since the network is deep, we are going to use aggresive modifications:"
   ]
  },
  {
   "cell_type": "code",
   "execution_count": 10,
   "metadata": {},
   "outputs": [],
   "source": [
    "train_datagen = ImageDataGenerator(samplewise_center=True,\n",
    "                                  samplewise_std_normalization=True, \n",
    "                                  rotation_range= 20,\n",
    "                                  horizontal_flip= True,\n",
    "                                  shear_range= 0.2,\n",
    "                                  zoom_range= 0.2)\n",
    "\n",
    "val_datagen = ImageDataGenerator(samplewise_center=True,\n",
    "                                 samplewise_std_normalization=True)"
   ]
  },
  {
   "cell_type": "markdown",
   "metadata": {},
   "source": [
    "Let's use the same parameters as previously:"
   ]
  },
  {
   "cell_type": "code",
   "execution_count": 11,
   "metadata": {},
   "outputs": [
    {
     "name": "stdout",
     "output_type": "stream",
     "text": [
      "Found 901 validated image filenames belonging to 4 classes.\n",
      "Found 226 validated image filenames belonging to 4 classes.\n"
     ]
    }
   ],
   "source": [
    "BATCH_SIZE = 32\n",
    "W = 312\n",
    "H = 251\n",
    "\n",
    "X_train = train_datagen.flow_from_dataframe(dataframe= train_set,\n",
    "                                            directory= '../train2/',\n",
    "                                            x_col = 'filename',\n",
    "                                            y_col = 'label', \n",
    "                                            target_size = (H, W),\n",
    "                                            batch_size= BATCH_SIZE, \n",
    "                                            shuffle= False)\n",
    "\n",
    "X_val = val_datagen.flow_from_dataframe(dataframe= valid_set,\n",
    "                                        directory= '../train2/',\n",
    "                                        x_col = 'filename',\n",
    "                                        y_col = 'label', \n",
    "                                        target_size = (H, W),\n",
    "                                        batch_size= BATCH_SIZE, \n",
    "                                        shuffle= False)"
   ]
  },
  {
   "cell_type": "markdown",
   "metadata": {},
   "source": [
    "# Model building"
   ]
  },
  {
   "cell_type": "markdown",
   "metadata": {},
   "source": [
    "We are going to use the network ResNet50 and pre-trained weights from the ImageNet dataset:"
   ]
  },
  {
   "cell_type": "code",
   "execution_count": 12,
   "metadata": {
    "scrolled": false
   },
   "outputs": [],
   "source": [
    "model = Xception(include_top=False, weights='imagenet')"
   ]
  },
  {
   "cell_type": "markdown",
   "metadata": {},
   "source": [
    "As it is very expansive to run the whole network, we are going to only do it once and save the output at the end of the pre-trained part of the network. We will then train fully-connected layers for the top layers of the model."
   ]
  },
  {
   "cell_type": "code",
   "execution_count": 13,
   "metadata": {},
   "outputs": [],
   "source": [
    "bottleneck_features_train = model.predict_generator(X_train, steps= len(train_set) // BATCH_SIZE)\n",
    "np.save(open('bottleneck_features_train.npy', 'wb'), bottleneck_features_train)\n",
    "\n",
    "bottleneck_features_val = model.predict_generator(X_val, steps= len(valid_set) // BATCH_SIZE)\n",
    "np.save(open('bottleneck_features_val.npy', 'wb'), bottleneck_features_val)"
   ]
  },
  {
   "cell_type": "markdown",
   "metadata": {},
   "source": [
    "### Training the top layers "
   ]
  },
  {
   "cell_type": "code",
   "execution_count": 14,
   "metadata": {},
   "outputs": [],
   "source": [
    "train_data = np.load(open('bottleneck_features_train.npy', 'rb'))\n",
    "train_y = to_categorical(train_set['label'].map({'bacterial': 0, 'covid': 1, 'normal': 2, 'viral': 3}).values[:-5])\n",
    "\n",
    "validation_data = np.load(open('bottleneck_features_val.npy', 'rb'))\n",
    "validation_y = to_categorical(valid_set['label'].map({'bacterial': 0, 'covid': 1, \n",
    "                                                     'normal': 2, 'viral': 3}).values[:-2])"
   ]
  },
  {
   "cell_type": "code",
   "execution_count": 15,
   "metadata": {
    "scrolled": true
   },
   "outputs": [
    {
     "name": "stdout",
     "output_type": "stream",
     "text": [
      "Size of the training: 896 \t labels: 896\n",
      "Size of the validation: 224 \t labels: 224\n"
     ]
    }
   ],
   "source": [
    "print('Size of the training: %d \\t labels: %d' %(len(train_data), len(train_y)))\n",
    "print('Size of the validation: %d \\t labels: %d' %(len(validation_data), len(validation_y)))"
   ]
  },
  {
   "cell_type": "markdown",
   "metadata": {},
   "source": [
    "Since we are using batches of data, we don't end up with the whole dataset, but this will allow to speed up the process."
   ]
  },
  {
   "cell_type": "markdown",
   "metadata": {},
   "source": [
    "Since this network is very deep and different from the previous one, we are going to modify our fully connected layers here. We obtained satisfying results with the following structure:"
   ]
  },
  {
   "cell_type": "code",
   "execution_count": 30,
   "metadata": {},
   "outputs": [],
   "source": [
    "top_model = Sequential()\n",
    "top_model.add(Flatten(input_shape=train_data.shape[1:]))\n",
    "top_model.add(Dense(units= 256, activation= 'relu')) \n",
    "top_model.add(Dropout(0.4)) \n",
    "top_model.add(Dense(units= 128, activation= 'relu')) \n",
    "top_model.add(Dropout(0.25)) \n",
    "top_model.add(Dense(units= 16, activation= 'relu'))\n",
    "top_model.add(Dense(units= 4, activation= 'softmax'))\n",
    "\n",
    "top_model.compile(loss= 'categorical_crossentropy',\n",
    "              optimizer= Adam(lr= 1e-4), \n",
    "              metrics = ['accuracy'])"
   ]
  },
  {
   "cell_type": "code",
   "execution_count": 31,
   "metadata": {},
   "outputs": [],
   "source": [
    "epochs= 30\n",
    "#es = EarlyStopping(monitor='val_accuracy', mode='max', verbose=1, restore_best_weights= True, patience= 3)\n",
    "filepath=\"./weights/weights-improvement-{epoch:02d}-{val_accuracy:.2f}.hdf5\"\n",
    "checkpoint = ModelCheckpoint(filepath, monitor= 'val_accuracy', verbose= 1, period= 1)"
   ]
  },
  {
   "cell_type": "markdown",
   "metadata": {},
   "source": [
    "Since our dataset is imbalanced, we are going to use class weigthing to address the issue:"
   ]
  },
  {
   "cell_type": "code",
   "execution_count": 32,
   "metadata": {},
   "outputs": [
    {
     "data": {
      "text/plain": [
       "array([0.80446429, 3.69262295, 0.80446429, 0.80446429])"
      ]
     },
     "execution_count": 32,
     "metadata": {},
     "output_type": "execute_result"
    }
   ],
   "source": [
    "train_set2 = train_set.copy()\n",
    "train_set2['label'] = train_set2['label'].map({'bacterial': 0, 'covid': 1, 'normal': 2, 'viral': 3})\n",
    "class_weight = compute_class_weight('balanced', [0, 1, 2, 3], train_set2['label'])\n",
    "class_weight"
   ]
  },
  {
   "cell_type": "code",
   "execution_count": 33,
   "metadata": {
    "scrolled": true
   },
   "outputs": [
    {
     "name": "stdout",
     "output_type": "stream",
     "text": [
      "Train on 896 samples, validate on 224 samples\n",
      "Epoch 1/30\n",
      "896/896 [==============================] - 15s 16ms/step - loss: 1.3742 - accuracy: 0.4275 - val_loss: 1.0029 - val_accuracy: 0.4955\n",
      "\n",
      "Epoch 00001: saving model to ./weights/weights-improvement-01-0.50.hdf5\n",
      "Epoch 2/30\n",
      "896/896 [==============================] - 13s 15ms/step - loss: 1.1036 - accuracy: 0.5078 - val_loss: 0.9874 - val_accuracy: 0.4955\n",
      "\n",
      "Epoch 00002: saving model to ./weights/weights-improvement-02-0.50.hdf5\n",
      "Epoch 3/30\n",
      "896/896 [==============================] - 14s 15ms/step - loss: 0.9151 - accuracy: 0.5804 - val_loss: 0.9028 - val_accuracy: 0.5804\n",
      "\n",
      "Epoch 00003: saving model to ./weights/weights-improvement-03-0.58.hdf5\n",
      "Epoch 4/30\n",
      "896/896 [==============================] - 13s 15ms/step - loss: 0.8076 - accuracy: 0.6317 - val_loss: 0.9322 - val_accuracy: 0.6116\n",
      "\n",
      "Epoch 00004: saving model to ./weights/weights-improvement-04-0.61.hdf5\n",
      "Epoch 5/30\n",
      "896/896 [==============================] - 13s 15ms/step - loss: 0.7244 - accuracy: 0.6830 - val_loss: 0.7480 - val_accuracy: 0.7143\n",
      "\n",
      "Epoch 00005: saving model to ./weights/weights-improvement-05-0.71.hdf5\n",
      "Epoch 6/30\n",
      "896/896 [==============================] - 13s 15ms/step - loss: 0.6148 - accuracy: 0.7132 - val_loss: 0.8806 - val_accuracy: 0.6027\n",
      "\n",
      "Epoch 00006: saving model to ./weights/weights-improvement-06-0.60.hdf5\n",
      "Epoch 7/30\n",
      "896/896 [==============================] - 14s 15ms/step - loss: 0.5755 - accuracy: 0.7511 - val_loss: 0.7165 - val_accuracy: 0.7232\n",
      "\n",
      "Epoch 00007: saving model to ./weights/weights-improvement-07-0.72.hdf5\n",
      "Epoch 8/30\n",
      "896/896 [==============================] - 14s 15ms/step - loss: 0.5205 - accuracy: 0.7734 - val_loss: 0.7435 - val_accuracy: 0.7143\n",
      "\n",
      "Epoch 00008: saving model to ./weights/weights-improvement-08-0.71.hdf5\n",
      "Epoch 9/30\n",
      "896/896 [==============================] - 14s 15ms/step - loss: 0.5124 - accuracy: 0.7701 - val_loss: 0.8267 - val_accuracy: 0.6741\n",
      "\n",
      "Epoch 00009: saving model to ./weights/weights-improvement-09-0.67.hdf5\n",
      "Epoch 10/30\n",
      "896/896 [==============================] - 13s 15ms/step - loss: 0.4600 - accuracy: 0.8158 - val_loss: 0.8993 - val_accuracy: 0.6696\n",
      "\n",
      "Epoch 00010: saving model to ./weights/weights-improvement-10-0.67.hdf5\n",
      "Epoch 11/30\n",
      "896/896 [==============================] - 13s 15ms/step - loss: 0.4264 - accuracy: 0.8170 - val_loss: 0.7771 - val_accuracy: 0.7188\n",
      "\n",
      "Epoch 00011: saving model to ./weights/weights-improvement-11-0.72.hdf5\n",
      "Epoch 12/30\n",
      "896/896 [==============================] - 14s 16ms/step - loss: 0.3349 - accuracy: 0.8571 - val_loss: 0.9657 - val_accuracy: 0.6964\n",
      "\n",
      "Epoch 00012: saving model to ./weights/weights-improvement-12-0.70.hdf5\n",
      "Epoch 13/30\n",
      "896/896 [==============================] - 14s 16ms/step - loss: 0.3466 - accuracy: 0.8538 - val_loss: 0.8660 - val_accuracy: 0.7232\n",
      "\n",
      "Epoch 00013: saving model to ./weights/weights-improvement-13-0.72.hdf5\n",
      "Epoch 14/30\n",
      "896/896 [==============================] - 15s 16ms/step - loss: 0.3182 - accuracy: 0.8583 - val_loss: 0.8311 - val_accuracy: 0.7277\n",
      "\n",
      "Epoch 00014: saving model to ./weights/weights-improvement-14-0.73.hdf5\n",
      "Epoch 15/30\n",
      "896/896 [==============================] - 14s 15ms/step - loss: 0.3145 - accuracy: 0.8705 - val_loss: 0.8927 - val_accuracy: 0.7232\n",
      "\n",
      "Epoch 00015: saving model to ./weights/weights-improvement-15-0.72.hdf5\n",
      "Epoch 16/30\n",
      "896/896 [==============================] - 13s 15ms/step - loss: 0.2524 - accuracy: 0.8917 - val_loss: 0.9525 - val_accuracy: 0.7098\n",
      "\n",
      "Epoch 00016: saving model to ./weights/weights-improvement-16-0.71.hdf5\n",
      "Epoch 17/30\n",
      "896/896 [==============================] - 14s 15ms/step - loss: 0.2432 - accuracy: 0.8984 - val_loss: 0.8880 - val_accuracy: 0.7321\n",
      "\n",
      "Epoch 00017: saving model to ./weights/weights-improvement-17-0.73.hdf5\n",
      "Epoch 18/30\n",
      "896/896 [==============================] - 14s 16ms/step - loss: 0.2153 - accuracy: 0.9096 - val_loss: 1.0512 - val_accuracy: 0.7009\n",
      "\n",
      "Epoch 00018: saving model to ./weights/weights-improvement-18-0.70.hdf5\n",
      "Epoch 19/30\n",
      "896/896 [==============================] - 14s 15ms/step - loss: 0.2108 - accuracy: 0.9174 - val_loss: 0.9751 - val_accuracy: 0.7098\n",
      "\n",
      "Epoch 00019: saving model to ./weights/weights-improvement-19-0.71.hdf5\n",
      "Epoch 20/30\n",
      "896/896 [==============================] - 14s 15ms/step - loss: 0.1843 - accuracy: 0.9252 - val_loss: 1.2602 - val_accuracy: 0.6920\n",
      "\n",
      "Epoch 00020: saving model to ./weights/weights-improvement-20-0.69.hdf5\n",
      "Epoch 21/30\n",
      "896/896 [==============================] - 14s 15ms/step - loss: 0.1743 - accuracy: 0.9386 - val_loss: 0.9926 - val_accuracy: 0.7143\n",
      "\n",
      "Epoch 00021: saving model to ./weights/weights-improvement-21-0.71.hdf5\n",
      "Epoch 22/30\n",
      "896/896 [==============================] - 14s 15ms/step - loss: 0.1632 - accuracy: 0.9386 - val_loss: 1.0876 - val_accuracy: 0.7143\n",
      "\n",
      "Epoch 00022: saving model to ./weights/weights-improvement-22-0.71.hdf5\n",
      "Epoch 23/30\n",
      "896/896 [==============================] - 14s 15ms/step - loss: 0.1581 - accuracy: 0.9408 - val_loss: 1.0789 - val_accuracy: 0.7098\n",
      "\n",
      "Epoch 00023: saving model to ./weights/weights-improvement-23-0.71.hdf5\n",
      "Epoch 24/30\n",
      "896/896 [==============================] - 14s 15ms/step - loss: 0.1542 - accuracy: 0.9408 - val_loss: 1.2978 - val_accuracy: 0.7277\n",
      "\n",
      "Epoch 00024: saving model to ./weights/weights-improvement-24-0.73.hdf5\n",
      "Epoch 25/30\n",
      "896/896 [==============================] - 14s 15ms/step - loss: 0.1225 - accuracy: 0.9621 - val_loss: 1.1338 - val_accuracy: 0.7098\n",
      "\n",
      "Epoch 00025: saving model to ./weights/weights-improvement-25-0.71.hdf5\n",
      "Epoch 26/30\n",
      "896/896 [==============================] - 14s 15ms/step - loss: 0.1322 - accuracy: 0.9598 - val_loss: 1.1937 - val_accuracy: 0.7143\n",
      "\n",
      "Epoch 00026: saving model to ./weights/weights-improvement-26-0.71.hdf5\n",
      "Epoch 27/30\n",
      "896/896 [==============================] - 14s 16ms/step - loss: 0.0999 - accuracy: 0.9676 - val_loss: 1.3206 - val_accuracy: 0.7232\n",
      "\n",
      "Epoch 00027: saving model to ./weights/weights-improvement-27-0.72.hdf5\n",
      "Epoch 28/30\n",
      "896/896 [==============================] - 14s 15ms/step - loss: 0.0947 - accuracy: 0.9621 - val_loss: 1.3565 - val_accuracy: 0.7232\n",
      "\n",
      "Epoch 00028: saving model to ./weights/weights-improvement-28-0.72.hdf5\n",
      "Epoch 29/30\n",
      "896/896 [==============================] - 14s 15ms/step - loss: 0.0938 - accuracy: 0.9676 - val_loss: 1.4276 - val_accuracy: 0.7143\n",
      "\n",
      "Epoch 00029: saving model to ./weights/weights-improvement-29-0.71.hdf5\n",
      "Epoch 30/30\n",
      "896/896 [==============================] - 14s 16ms/step - loss: 0.0952 - accuracy: 0.9676 - val_loss: 1.2384 - val_accuracy: 0.7098\n",
      "\n",
      "Epoch 00030: saving model to ./weights/weights-improvement-30-0.71.hdf5\n"
     ]
    }
   ],
   "source": [
    "hist = top_model.fit(train_data, train_y,\n",
    "                 epochs= epochs, \n",
    "                 batch_size = BATCH_SIZE,\n",
    "                 verbose= 1, \n",
    "                 validation_data = (validation_data, validation_y),\n",
    "                 class_weight= class_weight,\n",
    "                 callbacks= [checkpoint])"
   ]
  },
  {
   "cell_type": "code",
   "execution_count": 34,
   "metadata": {
    "scrolled": true
   },
   "outputs": [
    {
     "data": {
      "image/png": "[encoded data removed]",
      "text/plain": [
       "<Figure size 1080x360 with 2 Axes>"
      ]
     },
     "metadata": {
      "needs_background": "light"
     },
     "output_type": "display_data"
    }
   ],
   "source": [
    "# Plotting the training curves\n",
    "\n",
    "fig, axs = plt.subplots(1, 2, figsize= (15, 5))\n",
    "\n",
    "# Plot training & validation accuracy values\n",
    "axs[0].plot(hist.history['accuracy'])\n",
    "axs[0].plot(hist.history['val_accuracy'])\n",
    "axs[0].set_title('Model accuracy')\n",
    "axs[0].set_ylabel('Accuracy')\n",
    "axs[0].set_xlabel('Epoch')\n",
    "axs[0].legend(['Train', 'Valid'], loc='upper left')\n",
    "axs[0].grid()\n",
    "\n",
    "# Plot training & validation loss values\n",
    "axs[1].plot(hist.history['loss'])\n",
    "axs[1].plot(hist.history['val_loss'])\n",
    "axs[1].set_title('Model loss')\n",
    "axs[1].set_ylabel('Loss')\n",
    "axs[1].set_xlabel('Epoch')\n",
    "axs[1].grid()\n",
    "axs[1].legend(['Train', 'Valid'], loc='upper left')\n",
    "plt.show()"
   ]
  },
  {
   "cell_type": "markdown",
   "metadata": {},
   "source": [
    "### Evaluating our model"
   ]
  },
  {
   "cell_type": "code",
   "execution_count": 35,
   "metadata": {},
   "outputs": [],
   "source": [
    "# Loading the best weights\n",
    "top_model.load_weights(\"./weights/weights-improvement-07-0.72.hdf5\")"
   ]
  },
  {
   "cell_type": "code",
   "execution_count": 36,
   "metadata": {
    "scrolled": true
   },
   "outputs": [
    {
     "name": "stdout",
     "output_type": "stream",
     "text": [
      "224/224 [==============================] - 0s 2ms/step\n",
      "Accuracy on the validation set: 0.723\n"
     ]
    }
   ],
   "source": [
    "evaluation = top_model.evaluate(validation_data, validation_y)\n",
    "print('Accuracy on the validation set: {:.3f}'.format(evaluation[1]))"
   ]
  },
  {
   "cell_type": "code",
   "execution_count": 37,
   "metadata": {
    "scrolled": true
   },
   "outputs": [
    {
     "data": {
      "text/plain": [
       "array([1, 3, 3, 0, 2, 2, 0, 0, 3, 0])"
      ]
     },
     "execution_count": 37,
     "metadata": {},
     "output_type": "execute_result"
    }
   ],
   "source": [
    "pred = top_model.predict(validation_data)\n",
    "y_pred = pred.argmax(axis=1)\n",
    "y_pred[:10]"
   ]
  },
  {
   "cell_type": "code",
   "execution_count": 38,
   "metadata": {
    "scrolled": true
   },
   "outputs": [
    {
     "data": {
      "text/plain": [
       "{'bacterial': 0, 'covid': 1, 'normal': 2, 'viral': 3}"
      ]
     },
     "execution_count": 38,
     "metadata": {},
     "output_type": "execute_result"
    }
   ],
   "source": [
    "X_val.class_indices"
   ]
  },
  {
   "cell_type": "code",
   "execution_count": 39,
   "metadata": {},
   "outputs": [],
   "source": [
    "y_val = valid_set['label'].map(X_val.class_indices).values"
   ]
  },
  {
   "cell_type": "code",
   "execution_count": 40,
   "metadata": {
    "scrolled": true
   },
   "outputs": [
    {
     "data": {
      "image/png": "[encoded data removed]",
      "text/plain": [
       "<Figure size 432x288 with 2 Axes>"
      ]
     },
     "metadata": {
      "needs_background": "light"
     },
     "output_type": "display_data"
    }
   ],
   "source": [
    "data = {'y_val': y_val[:-2], 'y_pred': y_pred}\n",
    "df = pd.DataFrame(data)\n",
    "confusion_matrix = pd.crosstab(df['y_val'], df['y_pred'], \n",
    "                               rownames=['Actual'], \n",
    "                               colnames=['Predicted'],\n",
    "                               normalize= 'index')\n",
    "\n",
    "cmap = sns.diverging_palette(220, 10, as_cmap= True)\n",
    "sns.heatmap(confusion_matrix, annot=True, cmap= cmap)\n",
    "plt.title('Confusion matrix')\n",
    "plt.show()"
   ]
  },
  {
   "cell_type": "code",
   "execution_count": 41,
   "metadata": {
    "scrolled": true
   },
   "outputs": [
    {
     "name": "stdout",
     "output_type": "stream",
     "text": [
      "              precision    recall  f1-score   support\n",
      "\n",
      "           0       0.69      0.53      0.60        70\n",
      "           1       1.00      0.81      0.90        16\n",
      "           2       0.82      0.96      0.88        70\n",
      "           3       0.60      0.66      0.63        68\n",
      "\n",
      "    accuracy                           0.72       224\n",
      "   macro avg       0.78      0.74      0.75       224\n",
      "weighted avg       0.72      0.72      0.72       224\n",
      "\n"
     ]
    }
   ],
   "source": [
    "print(classification_report(y_val[:-2], y_pred))"
   ]
  },
  {
   "cell_type": "markdown",
   "metadata": {},
   "source": [
    "We didn't manage to have better results than with VGG16."
   ]
  },
  {
   "cell_type": "code",
   "execution_count": null,
   "metadata": {},
   "outputs": [],
   "source": []
  }
 ],
 "metadata": {
  "kernelspec": {
   "display_name": "Python 3",
   "language": "python",
   "name": "python3"
  },
  "language_info": {
   "codemirror_mode": {
    "name": "ipython",
    "version": 3
   },
   "file_extension": ".py",
   "mimetype": "text/x-python",
   "name": "python",
   "nbconvert_exporter": "python",
   "pygments_lexer": "ipython3",
   "version": "3.7.5"
  }
 },
 "nbformat": 4,
 "nbformat_minor": 2
}
