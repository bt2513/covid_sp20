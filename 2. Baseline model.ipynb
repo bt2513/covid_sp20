{
 "cells": [
  {
   "cell_type": "markdown",
   "metadata": {},
   "source": [
    "# Baseline model\n",
    "\n",
    "Bertrand Thia (bt2513)\n",
    "\n",
    "In this notebook, we are going to create a baseline model.\n",
    "\n",
    "---"
   ]
  },
  {
   "cell_type": "code",
   "execution_count": 1,
   "metadata": {},
   "outputs": [
    {
     "name": "stderr",
     "output_type": "stream",
     "text": [
      "Using TensorFlow backend.\n"
     ]
    }
   ],
   "source": [
    "# importing the librairies\n",
    "\n",
    "import pandas as pd\n",
    "import numpy as np\n",
    "import matplotlib.pyplot as plt\n",
    "import seaborn as sns\n",
    "from sklearn.model_selection import train_test_split\n",
    "from keras.preprocessing.image import ImageDataGenerator\n",
    "from keras.models import Sequential\n",
    "from keras.layers import Conv2D, MaxPooling2D, Flatten, Dense, Dropout, BatchNormalization\n",
    "from keras.optimizers import Adam\n",
    "from keras.callbacks.callbacks import EarlyStopping, ModelCheckpoint\n",
    "from sklearn.metrics import confusion_matrix, classification_report\n",
    "from sklearn.utils import compute_class_weight\n",
    "\n",
    "np.random.seed(0)"
   ]
  },
  {
   "cell_type": "markdown",
   "metadata": {},
   "source": [
    "# Loading the data and data preprocessing"
   ]
  },
  {
   "cell_type": "code",
   "execution_count": 2,
   "metadata": {
    "scrolled": true
   },
   "outputs": [],
   "source": [
    "train_labels = pd.read_csv('./train.csv')"
   ]
  },
  {
   "cell_type": "markdown",
   "metadata": {},
   "source": [
    "### Splitting into training set and validation set "
   ]
  },
  {
   "cell_type": "code",
   "execution_count": 3,
   "metadata": {},
   "outputs": [],
   "source": [
    "train_set, valid_set = train_test_split(train_labels, test_size= 0.2, random_state= 0, \n",
    "                                        stratify= train_labels['label'])"
   ]
  },
  {
   "cell_type": "code",
   "execution_count": 4,
   "metadata": {
    "scrolled": true
   },
   "outputs": [
    {
     "name": "stdout",
     "output_type": "stream",
     "text": [
      "Train size: 901 \t Validation size: 226\n"
     ]
    }
   ],
   "source": [
    "print('Train size: %d \\t Validation size: %d' %(len(train_set), len(valid_set)))"
   ]
  },
  {
   "cell_type": "code",
   "execution_count": 5,
   "metadata": {},
   "outputs": [
    {
     "data": {
      "text/plain": [
       "normal       280\n",
       "bacterial    280\n",
       "viral        280\n",
       "covid         61\n",
       "Name: label, dtype: int64"
      ]
     },
     "execution_count": 5,
     "metadata": {},
     "output_type": "execute_result"
    }
   ],
   "source": [
    "train_set['label'].value_counts()"
   ]
  },
  {
   "cell_type": "markdown",
   "metadata": {},
   "source": [
    "### Standardization"
   ]
  },
  {
   "cell_type": "markdown",
   "metadata": {},
   "source": [
    "Let's load and standardized our data:"
   ]
  },
  {
   "cell_type": "code",
   "execution_count": 6,
   "metadata": {},
   "outputs": [],
   "source": [
    "train_datagen = ImageDataGenerator(samplewise_center=True,\n",
    "                                  samplewise_std_normalization=True)\n",
    "\n",
    "val_datagen = ImageDataGenerator(samplewise_center=True,\n",
    "                                 samplewise_std_normalization=True)"
   ]
  },
  {
   "cell_type": "markdown",
   "metadata": {},
   "source": [
    "Based on the litterature, the resizing of the input images for neural networks is generally around ~250 x 250 pixels. We are thus going to use the resizing 251 x 312, corresponding to the median shape of our images divided by 3. "
   ]
  },
  {
   "cell_type": "code",
   "execution_count": 7,
   "metadata": {},
   "outputs": [
    {
     "name": "stdout",
     "output_type": "stream",
     "text": [
      "Found 901 validated image filenames belonging to 4 classes.\n",
      "Found 226 validated image filenames belonging to 4 classes.\n"
     ]
    }
   ],
   "source": [
    "BATCH_SIZE = 32\n",
    "W = 312\n",
    "H = 251\n",
    "\n",
    "X_train = train_datagen.flow_from_dataframe(dataframe= train_set,\n",
    "                                            directory= './train/',\n",
    "                                            x_col = 'filename',\n",
    "                                            y_col = 'label', \n",
    "                                            target_size = (H, W),\n",
    "                                            batch_size= BATCH_SIZE, \n",
    "                                            color_mode= 'grayscale',\n",
    "                                            seed= 0)\n",
    "\n",
    "X_val = val_datagen.flow_from_dataframe(dataframe= valid_set,\n",
    "                                        directory= './train/',\n",
    "                                        x_col = 'filename',\n",
    "                                        y_col = 'label', \n",
    "                                        target_size = (H, W),\n",
    "                                        batch_size= BATCH_SIZE, \n",
    "                                        color_mode= 'grayscale',\n",
    "                                        seed= 0)"
   ]
  },
  {
   "cell_type": "markdown",
   "metadata": {},
   "source": [
    "# Model building"
   ]
  },
  {
   "cell_type": "markdown",
   "metadata": {},
   "source": [
    "Let's create a simple baseline model here. Since our dataset is small, we are going to use dropout layers to avoid overfitting:"
   ]
  },
  {
   "cell_type": "code",
   "execution_count": 8,
   "metadata": {},
   "outputs": [],
   "source": [
    "bas_model = Sequential()\n",
    "bas_model.add(Conv2D(16, (3, 3), input_shape= (H, W, 1), activation= 'relu'))\n",
    "bas_model.add(MaxPooling2D(pool_size= (2, 2)))\n",
    "\n",
    "bas_model.add(Conv2D(32, (3, 3), activation= 'relu'))\n",
    "bas_model.add(Conv2D(32, (3, 3), activation= 'relu'))\n",
    "bas_model.add(BatchNormalization())\n",
    "bas_model.add(MaxPooling2D(pool_size= (2, 2)))\n",
    "bas_model.add(Dropout(0.25)) \n",
    "\n",
    "bas_model.add(Flatten())\n",
    "\n",
    "bas_model.add(Dense(units= 128, activation= 'relu')) \n",
    "bas_model.add(Dropout(0.5)) \n",
    "\n",
    "bas_model.add(Dense(units= 64, activation= 'relu')) \n",
    "bas_model.add(Dropout(0.3)) \n",
    "\n",
    "bas_model.add(Dense(units= 4, activation= 'softmax'))"
   ]
  },
  {
   "cell_type": "code",
   "execution_count": 9,
   "metadata": {},
   "outputs": [
    {
     "name": "stdout",
     "output_type": "stream",
     "text": [
      "Model: \"sequential_1\"\n",
      "_________________________________________________________________\n",
      "Layer (type)                 Output Shape              Param #   \n",
      "=================================================================\n",
      "conv2d_1 (Conv2D)            (None, 310, 249, 16)      160       \n",
      "_________________________________________________________________\n",
      "max_pooling2d_1 (MaxPooling2 (None, 155, 124, 16)      0         \n",
      "_________________________________________________________________\n",
      "conv2d_2 (Conv2D)            (None, 153, 122, 32)      4640      \n",
      "_________________________________________________________________\n",
      "conv2d_3 (Conv2D)            (None, 151, 120, 32)      9248      \n",
      "_________________________________________________________________\n",
      "batch_normalization_1 (Batch (None, 151, 120, 32)      128       \n",
      "_________________________________________________________________\n",
      "max_pooling2d_2 (MaxPooling2 (None, 75, 60, 32)        0         \n",
      "_________________________________________________________________\n",
      "dropout_1 (Dropout)          (None, 75, 60, 32)        0         \n",
      "_________________________________________________________________\n",
      "flatten_1 (Flatten)          (None, 144000)            0         \n",
      "_________________________________________________________________\n",
      "dense_1 (Dense)              (None, 128)               18432128  \n",
      "_________________________________________________________________\n",
      "dropout_2 (Dropout)          (None, 128)               0         \n",
      "_________________________________________________________________\n",
      "dense_2 (Dense)              (None, 64)                8256      \n",
      "_________________________________________________________________\n",
      "dropout_3 (Dropout)          (None, 64)                0         \n",
      "_________________________________________________________________\n",
      "dense_3 (Dense)              (None, 4)                 260       \n",
      "=================================================================\n",
      "Total params: 18,454,820\n",
      "Trainable params: 18,454,756\n",
      "Non-trainable params: 64\n",
      "_________________________________________________________________\n"
     ]
    }
   ],
   "source": [
    "bas_model.summary()"
   ]
  },
  {
   "cell_type": "code",
   "execution_count": 10,
   "metadata": {},
   "outputs": [],
   "source": [
    "bas_model.compile(loss= 'categorical_crossentropy',\n",
    "                 optimizer= Adam(lr= 0.001), \n",
    "                 metrics = ['accuracy'])"
   ]
  },
  {
   "cell_type": "markdown",
   "metadata": {},
   "source": [
    "### Training "
   ]
  },
  {
   "cell_type": "code",
   "execution_count": 24,
   "metadata": {},
   "outputs": [],
   "source": [
    "epochs= 50\n",
    "#es = EarlyStopping(monitor='val_accuracy', mode='max', verbose=1, restore_best_weights= True, patience= 3)\n",
    "checkpoint = ModelCheckpoint(\"baseline_model.hdf5\", monitor= 'val_accuracy', verbose= 1, save_best_only= True)"
   ]
  },
  {
   "cell_type": "markdown",
   "metadata": {},
   "source": [
    "Since our dataset is imbalanced, we are going to use class weigthing to address the issue:"
   ]
  },
  {
   "cell_type": "code",
   "execution_count": 25,
   "metadata": {},
   "outputs": [
    {
     "data": {
      "text/plain": [
       "array([0.80446429, 3.69262295, 0.80446429, 0.80446429])"
      ]
     },
     "execution_count": 25,
     "metadata": {},
     "output_type": "execute_result"
    }
   ],
   "source": [
    "train_set2 = train_set.copy()\n",
    "train_set2['label'] = train_set2['label'].map({'bacterial': 0, 'covid': 1, 'normal': 2, 'viral': 3})\n",
    "class_weight = compute_class_weight('balanced', [0, 1, 2, 3], train_set2['label'])\n",
    "class_weight"
   ]
  },
  {
   "cell_type": "code",
   "execution_count": 26,
   "metadata": {
    "scrolled": true
   },
   "outputs": [
    {
     "name": "stdout",
     "output_type": "stream",
     "text": [
      "Epoch 1/50\n",
      "28/28 [==============================] - 35s 1s/step - loss: 4.5998 - accuracy: 0.4315 - val_loss: 1.2979 - val_accuracy: 0.4598\n",
      "\n",
      "Epoch 00001: val_accuracy improved from -inf to 0.45982, saving model to baseline_model.hdf5\n",
      "Epoch 2/50\n",
      "28/28 [==============================] - 35s 1s/step - loss: 1.3750 - accuracy: 0.4902 - val_loss: 1.2942 - val_accuracy: 0.5155\n",
      "\n",
      "Epoch 00002: val_accuracy improved from 0.45982 to 0.51546, saving model to baseline_model.hdf5\n",
      "Epoch 3/50\n",
      "28/28 [==============================] - 39s 1s/step - loss: 1.2382 - accuracy: 0.5178 - val_loss: 1.2487 - val_accuracy: 0.4794\n",
      "\n",
      "Epoch 00003: val_accuracy did not improve from 0.51546\n",
      "Epoch 4/50\n",
      "28/28 [==============================] - 37s 1s/step - loss: 1.2398 - accuracy: 0.4776 - val_loss: 1.2421 - val_accuracy: 0.4021\n",
      "\n",
      "Epoch 00004: val_accuracy did not improve from 0.51546\n",
      "Epoch 5/50\n",
      "28/28 [==============================] - 38s 1s/step - loss: 1.1519 - accuracy: 0.5259 - val_loss: 1.4862 - val_accuracy: 0.0670\n",
      "\n",
      "Epoch 00005: val_accuracy did not improve from 0.51546\n",
      "Epoch 6/50\n",
      "28/28 [==============================] - 37s 1s/step - loss: 1.0124 - accuracy: 0.5351 - val_loss: 1.2138 - val_accuracy: 0.5567\n",
      "\n",
      "Epoch 00006: val_accuracy improved from 0.51546 to 0.55670, saving model to baseline_model.hdf5\n",
      "Epoch 7/50\n",
      "28/28 [==============================] - 39s 1s/step - loss: 1.0222 - accuracy: 0.6060 - val_loss: 1.2806 - val_accuracy: 0.3711\n",
      "\n",
      "Epoch 00007: val_accuracy did not improve from 0.55670\n",
      "Epoch 8/50\n",
      "28/28 [==============================] - 36s 1s/step - loss: 0.8525 - accuracy: 0.6237 - val_loss: 1.3548 - val_accuracy: 0.4897\n",
      "\n",
      "Epoch 00008: val_accuracy did not improve from 0.55670\n",
      "Epoch 9/50\n",
      "28/28 [==============================] - 36s 1s/step - loss: 0.7870 - accuracy: 0.6697 - val_loss: 0.8900 - val_accuracy: 0.6295\n",
      "\n",
      "Epoch 00009: val_accuracy improved from 0.55670 to 0.62946, saving model to baseline_model.hdf5\n",
      "Epoch 10/50\n",
      "28/28 [==============================] - 35s 1s/step - loss: 0.8159 - accuracy: 0.6591 - val_loss: 1.0212 - val_accuracy: 0.5515\n",
      "\n",
      "Epoch 00010: val_accuracy did not improve from 0.62946\n",
      "Epoch 11/50\n",
      "28/28 [==============================] - 36s 1s/step - loss: 0.7267 - accuracy: 0.6931 - val_loss: 0.9439 - val_accuracy: 0.7062\n",
      "\n",
      "Epoch 00011: val_accuracy improved from 0.62946 to 0.70619, saving model to baseline_model.hdf5\n",
      "Epoch 12/50\n",
      "28/28 [==============================] - 34s 1s/step - loss: 0.6494 - accuracy: 0.7067 - val_loss: 1.6233 - val_accuracy: 0.2423\n",
      "\n",
      "Epoch 00012: val_accuracy did not improve from 0.70619\n",
      "Epoch 13/50\n",
      "28/28 [==============================] - 36s 1s/step - loss: 0.6247 - accuracy: 0.7277 - val_loss: 1.0641 - val_accuracy: 0.5052\n",
      "\n",
      "Epoch 00013: val_accuracy did not improve from 0.70619\n",
      "Epoch 14/50\n",
      "28/28 [==============================] - 34s 1s/step - loss: 0.6375 - accuracy: 0.7506 - val_loss: 1.1155 - val_accuracy: 0.3969\n",
      "\n",
      "Epoch 00014: val_accuracy did not improve from 0.70619\n",
      "Epoch 15/50\n",
      "28/28 [==============================] - 36s 1s/step - loss: 0.6408 - accuracy: 0.7399 - val_loss: 0.8610 - val_accuracy: 0.5412\n",
      "\n",
      "Epoch 00015: val_accuracy did not improve from 0.70619\n",
      "Epoch 16/50\n",
      "28/28 [==============================] - 37s 1s/step - loss: 0.5783 - accuracy: 0.7589 - val_loss: 1.2491 - val_accuracy: 0.5052\n",
      "\n",
      "Epoch 00016: val_accuracy did not improve from 0.70619\n",
      "Epoch 17/50\n",
      "28/28 [==============================] - 36s 1s/step - loss: 0.4787 - accuracy: 0.7779 - val_loss: 0.6871 - val_accuracy: 0.6920\n",
      "\n",
      "Epoch 00017: val_accuracy did not improve from 0.70619\n",
      "Epoch 18/50\n",
      "28/28 [==============================] - 35s 1s/step - loss: 0.4706 - accuracy: 0.8101 - val_loss: 0.8574 - val_accuracy: 0.6959\n",
      "\n",
      "Epoch 00018: val_accuracy did not improve from 0.70619\n",
      "Epoch 19/50\n",
      "28/28 [==============================] - 35s 1s/step - loss: 0.4545 - accuracy: 0.8147 - val_loss: 0.5606 - val_accuracy: 0.7010\n",
      "\n",
      "Epoch 00019: val_accuracy did not improve from 0.70619\n",
      "Epoch 20/50\n",
      "28/28 [==============================] - 36s 1s/step - loss: 0.4069 - accuracy: 0.8147 - val_loss: 0.5315 - val_accuracy: 0.6701\n",
      "\n",
      "Epoch 00020: val_accuracy did not improve from 0.70619\n",
      "Epoch 21/50\n",
      "28/28 [==============================] - 36s 1s/step - loss: 0.3651 - accuracy: 0.8326 - val_loss: 0.6760 - val_accuracy: 0.6546\n",
      "\n",
      "Epoch 00021: val_accuracy did not improve from 0.70619\n",
      "Epoch 22/50\n",
      "28/28 [==============================] - 34s 1s/step - loss: 0.3754 - accuracy: 0.8290 - val_loss: 0.6356 - val_accuracy: 0.7371\n",
      "\n",
      "Epoch 00022: val_accuracy improved from 0.70619 to 0.73711, saving model to baseline_model.hdf5\n",
      "Epoch 23/50\n",
      "28/28 [==============================] - 37s 1s/step - loss: 0.3394 - accuracy: 0.8560 - val_loss: 0.6778 - val_accuracy: 0.7113\n",
      "\n",
      "Epoch 00023: val_accuracy did not improve from 0.73711\n",
      "Epoch 24/50\n",
      "28/28 [==============================] - 35s 1s/step - loss: 0.3043 - accuracy: 0.8585 - val_loss: 0.0458 - val_accuracy: 0.5979\n",
      "\n",
      "Epoch 00024: val_accuracy did not improve from 0.73711\n",
      "Epoch 25/50\n",
      "28/28 [==============================] - 36s 1s/step - loss: 0.3074 - accuracy: 0.8757 - val_loss: 0.9712 - val_accuracy: 0.6875\n",
      "\n",
      "Epoch 00025: val_accuracy did not improve from 0.73711\n",
      "Epoch 26/50\n",
      "28/28 [==============================] - 35s 1s/step - loss: 0.2662 - accuracy: 0.8860 - val_loss: 0.4839 - val_accuracy: 0.7165\n",
      "\n",
      "Epoch 00026: val_accuracy did not improve from 0.73711\n",
      "Epoch 27/50\n",
      "28/28 [==============================] - 36s 1s/step - loss: 0.3018 - accuracy: 0.8783 - val_loss: 0.7699 - val_accuracy: 0.7474\n",
      "\n",
      "Epoch 00027: val_accuracy improved from 0.73711 to 0.74742, saving model to baseline_model.hdf5\n",
      "Epoch 28/50\n",
      "28/28 [==============================] - 35s 1s/step - loss: 0.2790 - accuracy: 0.8895 - val_loss: 0.8328 - val_accuracy: 0.7062\n",
      "\n",
      "Epoch 00028: val_accuracy did not improve from 0.74742\n",
      "Epoch 29/50\n",
      "28/28 [==============================] - 35s 1s/step - loss: 0.2934 - accuracy: 0.8723 - val_loss: 0.7335 - val_accuracy: 0.7216\n",
      "\n",
      "Epoch 00029: val_accuracy did not improve from 0.74742\n",
      "Epoch 30/50\n",
      "28/28 [==============================] - 36s 1s/step - loss: 0.3165 - accuracy: 0.8895 - val_loss: 0.8521 - val_accuracy: 0.6959\n",
      "\n",
      "Epoch 00030: val_accuracy did not improve from 0.74742\n",
      "Epoch 31/50\n",
      "28/28 [==============================] - 54s 2s/step - loss: 0.2559 - accuracy: 0.9018 - val_loss: 0.7837 - val_accuracy: 0.7629\n",
      "\n",
      "Epoch 00031: val_accuracy improved from 0.74742 to 0.76289, saving model to baseline_model.hdf5\n",
      "Epoch 32/50\n",
      "28/28 [==============================] - 34s 1s/step - loss: 0.2591 - accuracy: 0.9097 - val_loss: 0.1252 - val_accuracy: 0.6804\n",
      "\n",
      "Epoch 00032: val_accuracy did not improve from 0.76289\n",
      "Epoch 33/50\n",
      "28/28 [==============================] - 38s 1s/step - loss: 0.1848 - accuracy: 0.9160 - val_loss: 1.2069 - val_accuracy: 0.7188\n",
      "\n",
      "Epoch 00033: val_accuracy did not improve from 0.76289\n",
      "Epoch 34/50\n",
      "28/28 [==============================] - 37s 1s/step - loss: 0.2893 - accuracy: 0.9045 - val_loss: 1.3418 - val_accuracy: 0.4639\n",
      "\n",
      "Epoch 00034: val_accuracy did not improve from 0.76289\n",
      "Epoch 35/50\n",
      "28/28 [==============================] - 36s 1s/step - loss: 0.2147 - accuracy: 0.9125 - val_loss: 1.6254 - val_accuracy: 0.7062\n",
      "\n",
      "Epoch 00035: val_accuracy did not improve from 0.76289\n",
      "Epoch 36/50\n",
      "28/28 [==============================] - 36s 1s/step - loss: 0.2969 - accuracy: 0.8918 - val_loss: 1.6292 - val_accuracy: 0.6186\n",
      "\n",
      "Epoch 00036: val_accuracy did not improve from 0.76289\n",
      "Epoch 37/50\n",
      "28/28 [==============================] - 36s 1s/step - loss: 0.1851 - accuracy: 0.9379 - val_loss: 0.9345 - val_accuracy: 0.6959\n",
      "\n",
      "Epoch 00037: val_accuracy did not improve from 0.76289\n",
      "Epoch 38/50\n",
      "28/28 [==============================] - 36s 1s/step - loss: 0.2105 - accuracy: 0.9114 - val_loss: 1.1920 - val_accuracy: 0.7062\n",
      "\n",
      "Epoch 00038: val_accuracy did not improve from 0.76289\n",
      "Epoch 39/50\n",
      "28/28 [==============================] - 40s 1s/step - loss: 0.2119 - accuracy: 0.9219 - val_loss: 0.9938 - val_accuracy: 0.7113\n",
      "\n",
      "Epoch 00039: val_accuracy did not improve from 0.76289\n",
      "Epoch 40/50\n",
      "28/28 [==============================] - 37s 1s/step - loss: 0.2524 - accuracy: 0.9114 - val_loss: 0.1098 - val_accuracy: 0.6753\n",
      "\n",
      "Epoch 00040: val_accuracy did not improve from 0.76289\n",
      "Epoch 41/50\n"
     ]
    },
    {
     "name": "stdout",
     "output_type": "stream",
     "text": [
      "28/28 [==============================] - 37s 1s/step - loss: 0.1725 - accuracy: 0.9299 - val_loss: 0.7443 - val_accuracy: 0.6696\n",
      "\n",
      "Epoch 00041: val_accuracy did not improve from 0.76289\n",
      "Epoch 42/50\n",
      "28/28 [==============================] - 37s 1s/step - loss: 0.2275 - accuracy: 0.9310 - val_loss: 1.2670 - val_accuracy: 0.6907\n",
      "\n",
      "Epoch 00042: val_accuracy did not improve from 0.76289\n",
      "Epoch 43/50\n",
      "28/28 [==============================] - 35s 1s/step - loss: 0.1982 - accuracy: 0.9194 - val_loss: 0.8357 - val_accuracy: 0.7371\n",
      "\n",
      "Epoch 00043: val_accuracy did not improve from 0.76289\n",
      "Epoch 44/50\n",
      "28/28 [==============================] - 36s 1s/step - loss: 0.1941 - accuracy: 0.9321 - val_loss: 1.1154 - val_accuracy: 0.6907\n",
      "\n",
      "Epoch 00044: val_accuracy did not improve from 0.76289\n",
      "Epoch 45/50\n",
      "28/28 [==============================] - 38s 1s/step - loss: 0.1589 - accuracy: 0.9286 - val_loss: 1.1346 - val_accuracy: 0.7216\n",
      "\n",
      "Epoch 00045: val_accuracy did not improve from 0.76289\n",
      "Epoch 46/50\n",
      "28/28 [==============================] - 40s 1s/step - loss: 0.1456 - accuracy: 0.9356 - val_loss: 0.5798 - val_accuracy: 0.7371\n",
      "\n",
      "Epoch 00046: val_accuracy did not improve from 0.76289\n",
      "Epoch 47/50\n",
      "28/28 [==============================] - 37s 1s/step - loss: 0.1337 - accuracy: 0.9406 - val_loss: 2.1890 - val_accuracy: 0.6856\n",
      "\n",
      "Epoch 00047: val_accuracy did not improve from 0.76289\n",
      "Epoch 48/50\n",
      "28/28 [==============================] - 37s 1s/step - loss: 0.1500 - accuracy: 0.9397 - val_loss: 3.4288 - val_accuracy: 0.7216\n",
      "\n",
      "Epoch 00048: val_accuracy did not improve from 0.76289\n",
      "Epoch 49/50\n",
      "28/28 [==============================] - 37s 1s/step - loss: 0.1004 - accuracy: 0.9632 - val_loss: 1.6784 - val_accuracy: 0.7143\n",
      "\n",
      "Epoch 00049: val_accuracy did not improve from 0.76289\n",
      "Epoch 50/50\n",
      "28/28 [==============================] - 37s 1s/step - loss: 0.1439 - accuracy: 0.9436 - val_loss: 0.8479 - val_accuracy: 0.7165\n",
      "\n",
      "Epoch 00050: val_accuracy did not improve from 0.76289\n"
     ]
    }
   ],
   "source": [
    "hist = bas_model.fit_generator(X_train, \n",
    "                                steps_per_epoch= len(train_set) // BATCH_SIZE, \n",
    "                                epochs= epochs, \n",
    "                                verbose= 1, \n",
    "                                validation_data = X_val, \n",
    "                                validation_steps= len(valid_set) // BATCH_SIZE,\n",
    "                                class_weight= class_weight,\n",
    "                                callbacks= [checkpoint])"
   ]
  },
  {
   "cell_type": "code",
   "execution_count": 78,
   "metadata": {},
   "outputs": [
    {
     "data": {
      "image/png": "[encoded data removed]",
      "text/plain": [
       "<Figure size 1080x360 with 2 Axes>"
      ]
     },
     "metadata": {
      "needs_background": "light"
     },
     "output_type": "display_data"
    }
   ],
   "source": [
    "# Plotting the training curves\n",
    "\n",
    "fig, axs = plt.subplots(1, 2, figsize= (15, 5))\n",
    "\n",
    "# Plot training & validation accuracy values\n",
    "axs[0].plot(hist.history['accuracy'])\n",
    "axs[0].plot(hist.history['val_accuracy'])\n",
    "axs[0].set_title('Model accuracy')\n",
    "axs[0].set_ylabel('Accuracy')\n",
    "axs[0].set_xlabel('Epoch')\n",
    "axs[0].legend(['Train', 'Valid'], loc='upper left')\n",
    "axs[0].grid()\n",
    "\n",
    "# Plot training & validation loss values\n",
    "axs[1].plot(hist.history['loss'])\n",
    "axs[1].plot(hist.history['val_loss'])\n",
    "axs[1].set_title('Model loss')\n",
    "axs[1].set_ylabel('Loss')\n",
    "axs[1].set_xlabel('Epoch')\n",
    "axs[1].grid()\n",
    "axs[1].legend(['Train', 'Valid'], loc='upper left')\n",
    "plt.show()"
   ]
  },
  {
   "cell_type": "markdown",
   "metadata": {},
   "source": [
    "We can see that the training accuracy gets very high while the validation accuracy  stops increasing after ~30 epochs and the validation loss increases: our model overfits. To address this issue, we will explore data augmentation later. "
   ]
  },
  {
   "cell_type": "markdown",
   "metadata": {},
   "source": [
    "### Evaluating our best model"
   ]
  },
  {
   "cell_type": "code",
   "execution_count": 11,
   "metadata": {},
   "outputs": [],
   "source": [
    "# Loading the best weights\n",
    "bas_model.load_weights(\"baseline_model.hdf5\")"
   ]
  },
  {
   "cell_type": "code",
   "execution_count": 12,
   "metadata": {
    "scrolled": true
   },
   "outputs": [
    {
     "name": "stdout",
     "output_type": "stream",
     "text": [
      "Accuracy on the validation set: 0.730\n"
     ]
    }
   ],
   "source": [
    "evaluation = bas_model.evaluate_generator(X_val)\n",
    "print('Accuracy on the validation set: {:.3f}'.format(evaluation[1]))"
   ]
  },
  {
   "cell_type": "code",
   "execution_count": 13,
   "metadata": {},
   "outputs": [
    {
     "name": "stdout",
     "output_type": "stream",
     "text": [
      "Found 226 validated image filenames belonging to 4 classes.\n"
     ]
    }
   ],
   "source": [
    "# Loading the validation set without shuffling the data to compare manually \n",
    "X_val2 = val_datagen.flow_from_dataframe(dataframe= valid_set,\n",
    "                                        directory= './train/',\n",
    "                                        x_col = 'filename',\n",
    "                                        y_col = 'label', \n",
    "                                        target_size = (H, W),\n",
    "                                        batch_size= BATCH_SIZE, \n",
    "                                        color_mode= 'grayscale',\n",
    "                                        shuffle= False)"
   ]
  },
  {
   "cell_type": "code",
   "execution_count": 14,
   "metadata": {
    "scrolled": true
   },
   "outputs": [
    {
     "data": {
      "text/plain": [
       "array([1, 3, 0, 0, 2, 2, 3, 0, 0, 0])"
      ]
     },
     "execution_count": 14,
     "metadata": {},
     "output_type": "execute_result"
    }
   ],
   "source": [
    "pred = bas_model.predict_generator(X_val2)\n",
    "y_pred = pred.argmax(axis=1)\n",
    "y_pred[:10]"
   ]
  },
  {
   "cell_type": "code",
   "execution_count": 15,
   "metadata": {
    "scrolled": true
   },
   "outputs": [
    {
     "data": {
      "text/plain": [
       "{'bacterial': 0, 'covid': 1, 'normal': 2, 'viral': 3}"
      ]
     },
     "execution_count": 15,
     "metadata": {},
     "output_type": "execute_result"
    }
   ],
   "source": [
    "X_val.class_indices"
   ]
  },
  {
   "cell_type": "code",
   "execution_count": 16,
   "metadata": {},
   "outputs": [],
   "source": [
    "y_val = valid_set['label'].map(X_val.class_indices).values"
   ]
  },
  {
   "cell_type": "code",
   "execution_count": 17,
   "metadata": {
    "scrolled": true
   },
   "outputs": [
    {
     "data": {
      "image/png": "[encoded data removed]",
      "text/plain": [
       "<Figure size 432x288 with 2 Axes>"
      ]
     },
     "metadata": {
      "needs_background": "light"
     },
     "output_type": "display_data"
    }
   ],
   "source": [
    "data = {'y_val': y_val, 'y_pred': y_pred}\n",
    "df = pd.DataFrame(data)\n",
    "confusion_matrix = pd.crosstab(df['y_val'], df['y_pred'], \n",
    "                               rownames=['Actual'], \n",
    "                               colnames=['Predicted'],\n",
    "                               normalize= 'index')\n",
    "\n",
    "cmap = sns.diverging_palette(220, 10, as_cmap= True)\n",
    "sns.heatmap(confusion_matrix, annot=True, cmap= cmap)\n",
    "plt.title('Confusion matrix')\n",
    "plt.show()"
   ]
  },
  {
   "cell_type": "code",
   "execution_count": 59,
   "metadata": {},
   "outputs": [
    {
     "name": "stdout",
     "output_type": "stream",
     "text": [
      "              precision    recall  f1-score   support\n",
      "\n",
      "           0       0.64      0.71      0.68        70\n",
      "           1       0.85      0.69      0.76        16\n",
      "           2       0.86      0.94      0.90        70\n",
      "           3       0.66      0.54      0.59        70\n",
      "\n",
      "    accuracy                           0.73       226\n",
      "   macro avg       0.75      0.72      0.73       226\n",
      "weighted avg       0.73      0.73      0.73       226\n",
      "\n"
     ]
    }
   ],
   "source": [
    "print(classification_report(y_val, y_pred))"
   ]
  },
  {
   "cell_type": "markdown",
   "metadata": {},
   "source": [
    "**Our model seems to classify covid and normal cases quite well, but has some troubles with the bacterial and viral cases. Also, we saw that we have an overfitting issue. We will address this problem in our next work.**"
   ]
  },
  {
   "cell_type": "markdown",
   "metadata": {},
   "source": [
    "---\n",
    "\n",
    "# Appendix"
   ]
  },
  {
   "cell_type": "code",
   "execution_count": 67,
   "metadata": {},
   "outputs": [
    {
     "data": {
      "text/plain": [
       "0.7300884955752213"
      ]
     },
     "execution_count": 67,
     "metadata": {},
     "output_type": "execute_result"
    }
   ],
   "source": [
    "# Computing the accuracy manually to check \n",
    "(df['y_val'] == df['y_pred']).sum() / len(df)"
   ]
  },
  {
   "cell_type": "code",
   "execution_count": null,
   "metadata": {},
   "outputs": [],
   "source": []
  }
 ],
 "metadata": {
  "kernelspec": {
   "display_name": "Python 3",
   "language": "python",
   "name": "python3"
  },
  "language_info": {
   "codemirror_mode": {
    "name": "ipython",
    "version": 3
   },
   "file_extension": ".py",
   "mimetype": "text/x-python",
   "name": "python",
   "nbconvert_exporter": "python",
   "pygments_lexer": "ipython3",
   "version": "3.7.5"
  }
 },
 "nbformat": 4,
 "nbformat_minor": 2
}
