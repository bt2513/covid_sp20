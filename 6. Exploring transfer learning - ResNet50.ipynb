{
 "cells": [
  {
   "cell_type": "markdown",
   "metadata": {},
   "source": [
    "# Exploring transfer learning - part2\n",
    "\n",
    "Bertrand Thia (bt2513)\n",
    "\n",
    "This time, we are going to work with the network ResNet50.\n",
    "\n",
    "---"
   ]
  },
  {
   "cell_type": "code",
   "execution_count": 1,
   "metadata": {},
   "outputs": [
    {
     "name": "stderr",
     "output_type": "stream",
     "text": [
      "Using TensorFlow backend.\n"
     ]
    }
   ],
   "source": [
    "# importing the librairies\n",
    "\n",
    "import pandas as pd\n",
    "import numpy as np\n",
    "import matplotlib.pyplot as plt\n",
    "import seaborn as sns\n",
    "from sklearn.model_selection import train_test_split\n",
    "from sklearn.metrics import accuracy_score\n",
    "from keras.preprocessing.image import ImageDataGenerator\n",
    "from keras.models import Sequential\n",
    "from keras.layers import Flatten, Dense, Dropout\n",
    "from keras.optimizers import Adam, SGD\n",
    "from keras.callbacks.callbacks import EarlyStopping, ModelCheckpoint\n",
    "from sklearn.metrics import confusion_matrix, classification_report\n",
    "from sklearn.utils import compute_class_weight\n",
    "from keras.preprocessing import image\n",
    "from keras.applications import ResNet50\n",
    "from keras.utils import to_categorical\n",
    "\n",
    "np.random.seed(0)"
   ]
  },
  {
   "cell_type": "markdown",
   "metadata": {},
   "source": [
    "# Loading the data and data preprocessing"
   ]
  },
  {
   "cell_type": "code",
   "execution_count": 2,
   "metadata": {
    "scrolled": true
   },
   "outputs": [],
   "source": [
    "train_labels = pd.read_csv('../train.csv')"
   ]
  },
  {
   "cell_type": "markdown",
   "metadata": {},
   "source": [
    "### Splitting into training set and validation set "
   ]
  },
  {
   "cell_type": "code",
   "execution_count": 3,
   "metadata": {},
   "outputs": [],
   "source": [
    "train_set, valid_set = train_test_split(train_labels, test_size= 0.2, random_state= 0, \n",
    "                                        stratify= train_labels['label'])"
   ]
  },
  {
   "cell_type": "code",
   "execution_count": 4,
   "metadata": {
    "scrolled": true
   },
   "outputs": [
    {
     "name": "stdout",
     "output_type": "stream",
     "text": [
      "Train size: 901 \t Validation size: 226\n"
     ]
    }
   ],
   "source": [
    "print('Train size: %d \\t Validation size: %d' %(len(train_set), len(valid_set)))"
   ]
  },
  {
   "cell_type": "code",
   "execution_count": 5,
   "metadata": {},
   "outputs": [
    {
     "data": {
      "text/plain": [
       "normal       280\n",
       "bacterial    280\n",
       "viral        280\n",
       "covid         61\n",
       "Name: label, dtype: int64"
      ]
     },
     "execution_count": 5,
     "metadata": {},
     "output_type": "execute_result"
    }
   ],
   "source": [
    "train_set['label'].value_counts()"
   ]
  },
  {
   "cell_type": "markdown",
   "metadata": {},
   "source": [
    "### Standardization"
   ]
  },
  {
   "cell_type": "markdown",
   "metadata": {},
   "source": [
    "Let's load and standardized our data. To address the overfitting issue, we are going to use data augmentation here. This will allow us to increase the size of our dataset, but also make the classification more challenging. Since our dataset is small, we are just going to use some small image rotation:"
   ]
  },
  {
   "cell_type": "code",
   "execution_count": 6,
   "metadata": {},
   "outputs": [],
   "source": [
    "train_datagen = ImageDataGenerator(samplewise_center=True,\n",
    "                                  samplewise_std_normalization=True, \n",
    "                                  rotation_range= 20)\n",
    "\n",
    "val_datagen = ImageDataGenerator(samplewise_center=True,\n",
    "                                 samplewise_std_normalization=True)"
   ]
  },
  {
   "cell_type": "markdown",
   "metadata": {},
   "source": [
    "Let's use the same parameters as previously:"
   ]
  },
  {
   "cell_type": "code",
   "execution_count": 7,
   "metadata": {},
   "outputs": [
    {
     "name": "stdout",
     "output_type": "stream",
     "text": [
      "Found 901 validated image filenames belonging to 4 classes.\n",
      "Found 226 validated image filenames belonging to 4 classes.\n"
     ]
    }
   ],
   "source": [
    "BATCH_SIZE = 32\n",
    "W = 312\n",
    "H = 251\n",
    "\n",
    "X_train = train_datagen.flow_from_dataframe(dataframe= train_set,\n",
    "                                            directory= '../train2/',\n",
    "                                            x_col = 'filename',\n",
    "                                            y_col = 'label', \n",
    "                                            target_size = (H, W),\n",
    "                                            batch_size= BATCH_SIZE, \n",
    "                                            shuffle= False)\n",
    "\n",
    "X_val = val_datagen.flow_from_dataframe(dataframe= valid_set,\n",
    "                                        directory= '../train2/',\n",
    "                                        x_col = 'filename',\n",
    "                                        y_col = 'label', \n",
    "                                        target_size = (H, W),\n",
    "                                        batch_size= BATCH_SIZE, \n",
    "                                        shuffle= False)"
   ]
  },
  {
   "cell_type": "markdown",
   "metadata": {},
   "source": [
    "# Model building"
   ]
  },
  {
   "cell_type": "markdown",
   "metadata": {},
   "source": [
    "We are going to use the network ResNet50 and pre-trained weights from the ImageNet dataset:"
   ]
  },
  {
   "cell_type": "code",
   "execution_count": 8,
   "metadata": {
    "scrolled": true
   },
   "outputs": [
    {
     "name": "stderr",
     "output_type": "stream",
     "text": [
      "/Users/bertrandthia/anaconda3/lib/python3.7/site-packages/keras_applications/resnet50.py:265: UserWarning: The output shape of `ResNet50(include_top=False)` has been changed since Keras 2.2.0.\n",
      "  warnings.warn('The output shape of `ResNet50(include_top=False)` '\n"
     ]
    }
   ],
   "source": [
    "model = ResNet50(include_top=False, weights='imagenet')"
   ]
  },
  {
   "cell_type": "markdown",
   "metadata": {},
   "source": [
    "As it is very expansive to run the whole network, we are going to only do it once and save the output at the end of the pre-trained part of the network. We will then train fully-connected layers for the top layers of the model."
   ]
  },
  {
   "cell_type": "code",
   "execution_count": 9,
   "metadata": {},
   "outputs": [],
   "source": [
    "bottleneck_features_train = model.predict_generator(X_train, steps= len(train_set) // BATCH_SIZE)\n",
    "np.save(open('bottleneck_features_train.npy', 'wb'), bottleneck_features_train)\n",
    "\n",
    "bottleneck_features_val = model.predict_generator(X_val, steps= len(valid_set) // BATCH_SIZE)\n",
    "np.save(open('bottleneck_features_val.npy', 'wb'), bottleneck_features_val)"
   ]
  },
  {
   "cell_type": "markdown",
   "metadata": {},
   "source": [
    "### Training the top layers "
   ]
  },
  {
   "cell_type": "code",
   "execution_count": 9,
   "metadata": {},
   "outputs": [],
   "source": [
    "train_data = np.load(open('bottleneck_features_train.npy', 'rb'))\n",
    "train_y = to_categorical(train_set['label'].map({'bacterial': 0, 'covid': 1, 'normal': 2, 'viral': 3}).values[:-5])\n",
    "\n",
    "validation_data = np.load(open('bottleneck_features_val.npy', 'rb'))\n",
    "validation_y = to_categorical(valid_set['label'].map({'bacterial': 0, 'covid': 1, \n",
    "                                                     'normal': 2, 'viral': 3}).values[:-2])"
   ]
  },
  {
   "cell_type": "code",
   "execution_count": 10,
   "metadata": {
    "scrolled": true
   },
   "outputs": [
    {
     "name": "stdout",
     "output_type": "stream",
     "text": [
      "Size of the training: 896 \t labels: 896\n",
      "Size of the validation: 224 \t labels: 224\n"
     ]
    }
   ],
   "source": [
    "print('Size of the training: %d \\t labels: %d' %(len(train_data), len(train_y)))\n",
    "print('Size of the validation: %d \\t labels: %d' %(len(validation_data), len(validation_y)))"
   ]
  },
  {
   "cell_type": "markdown",
   "metadata": {},
   "source": [
    "Since we are using batches of data, we don't end up with the whole dataset, but this will allow to speed up the process."
   ]
  },
  {
   "cell_type": "markdown",
   "metadata": {},
   "source": [
    "Since this network is very deep and different from the previous one, we are going to modify our fully connected layers here. We obtained satisfying results with the following structure:"
   ]
  },
  {
   "cell_type": "code",
   "execution_count": 11,
   "metadata": {},
   "outputs": [],
   "source": [
    "top_model = Sequential()\n",
    "top_model.add(Flatten(input_shape=train_data.shape[1:]))\n",
    "top_model.add(Dense(units= 256, activation= 'relu')) \n",
    "top_model.add(Dropout(0.5)) \n",
    "top_model.add(Dense(units= 4, activation= 'softmax'))\n",
    "\n",
    "top_model.compile(loss= 'categorical_crossentropy',\n",
    "              optimizer= Adam(lr= 1e-4), \n",
    "              metrics = ['accuracy'])"
   ]
  },
  {
   "cell_type": "code",
   "execution_count": 12,
   "metadata": {},
   "outputs": [],
   "source": [
    "epochs= 50\n",
    "#es = EarlyStopping(monitor='val_accuracy', mode='max', verbose=1, restore_best_weights= True, patience= 3)\n",
    "filepath=\"./weights/weights-improvement-{epoch:02d}-{val_accuracy:.2f}.hdf5\"\n",
    "checkpoint = ModelCheckpoint(filepath, monitor= 'val_accuracy', verbose= 1, period= 1)"
   ]
  },
  {
   "cell_type": "markdown",
   "metadata": {},
   "source": [
    "Since our dataset is imbalanced, we are going to use class weigthing to address the issue:"
   ]
  },
  {
   "cell_type": "code",
   "execution_count": 13,
   "metadata": {},
   "outputs": [
    {
     "data": {
      "text/plain": [
       "array([0.80446429, 3.69262295, 0.80446429, 0.80446429])"
      ]
     },
     "execution_count": 13,
     "metadata": {},
     "output_type": "execute_result"
    }
   ],
   "source": [
    "train_set2 = train_set.copy()\n",
    "train_set2['label'] = train_set2['label'].map({'bacterial': 0, 'covid': 1, 'normal': 2, 'viral': 3})\n",
    "class_weight = compute_class_weight('balanced', [0, 1, 2, 3], train_set2['label'])\n",
    "class_weight"
   ]
  },
  {
   "cell_type": "code",
   "execution_count": 14,
   "metadata": {
    "scrolled": true
   },
   "outputs": [
    {
     "name": "stdout",
     "output_type": "stream",
     "text": [
      "Train on 896 samples, validate on 224 samples\n",
      "Epoch 1/50\n",
      "896/896 [==============================] - 15s 16ms/step - loss: 2.5730 - accuracy: 0.4397 - val_loss: 1.0064 - val_accuracy: 0.5938\n",
      "\n",
      "Epoch 00001: saving model to ./weights/weights-improvement-01-0.59.hdf5\n",
      "Epoch 2/50\n",
      "896/896 [==============================] - 13s 15ms/step - loss: 0.8903 - accuracy: 0.6172 - val_loss: 0.7270 - val_accuracy: 0.6473\n",
      "\n",
      "Epoch 00002: saving model to ./weights/weights-improvement-02-0.65.hdf5\n",
      "Epoch 3/50\n",
      "896/896 [==============================] - 13s 15ms/step - loss: 0.7682 - accuracy: 0.6462 - val_loss: 0.7022 - val_accuracy: 0.6875\n",
      "\n",
      "Epoch 00003: saving model to ./weights/weights-improvement-03-0.69.hdf5\n",
      "Epoch 4/50\n",
      "896/896 [==============================] - 14s 15ms/step - loss: 0.7032 - accuracy: 0.6842 - val_loss: 0.7096 - val_accuracy: 0.6920\n",
      "\n",
      "Epoch 00004: saving model to ./weights/weights-improvement-04-0.69.hdf5\n",
      "Epoch 5/50\n",
      "896/896 [==============================] - 14s 16ms/step - loss: 0.6458 - accuracy: 0.7087 - val_loss: 0.7044 - val_accuracy: 0.6696\n",
      "\n",
      "Epoch 00005: saving model to ./weights/weights-improvement-05-0.67.hdf5\n",
      "Epoch 6/50\n",
      "896/896 [==============================] - 14s 15ms/step - loss: 0.6014 - accuracy: 0.7299 - val_loss: 0.6818 - val_accuracy: 0.6652\n",
      "\n",
      "Epoch 00006: saving model to ./weights/weights-improvement-06-0.67.hdf5\n",
      "Epoch 7/50\n",
      "896/896 [==============================] - 14s 15ms/step - loss: 0.5665 - accuracy: 0.7377 - val_loss: 0.6698 - val_accuracy: 0.7054\n",
      "\n",
      "Epoch 00007: saving model to ./weights/weights-improvement-07-0.71.hdf5\n",
      "Epoch 8/50\n",
      "896/896 [==============================] - 14s 15ms/step - loss: 0.5608 - accuracy: 0.7567 - val_loss: 0.7421 - val_accuracy: 0.6696\n",
      "\n",
      "Epoch 00008: saving model to ./weights/weights-improvement-08-0.67.hdf5\n",
      "Epoch 9/50\n",
      "896/896 [==============================] - 14s 15ms/step - loss: 0.4900 - accuracy: 0.7656 - val_loss: 0.7030 - val_accuracy: 0.6741\n",
      "\n",
      "Epoch 00009: saving model to ./weights/weights-improvement-09-0.67.hdf5\n",
      "Epoch 10/50\n",
      "896/896 [==============================] - 14s 15ms/step - loss: 0.4610 - accuracy: 0.7958 - val_loss: 0.6776 - val_accuracy: 0.7143\n",
      "\n",
      "Epoch 00010: saving model to ./weights/weights-improvement-10-0.71.hdf5\n",
      "Epoch 11/50\n",
      "896/896 [==============================] - 14s 15ms/step - loss: 0.4534 - accuracy: 0.8013 - val_loss: 0.6897 - val_accuracy: 0.7143\n",
      "\n",
      "Epoch 00011: saving model to ./weights/weights-improvement-11-0.71.hdf5\n",
      "Epoch 12/50\n",
      "896/896 [==============================] - 14s 15ms/step - loss: 0.4355 - accuracy: 0.8069 - val_loss: 0.7180 - val_accuracy: 0.7009\n",
      "\n",
      "Epoch 00012: saving model to ./weights/weights-improvement-12-0.70.hdf5\n",
      "Epoch 13/50\n",
      "896/896 [==============================] - 14s 15ms/step - loss: 0.4299 - accuracy: 0.8136 - val_loss: 0.6190 - val_accuracy: 0.7455\n",
      "\n",
      "Epoch 00013: saving model to ./weights/weights-improvement-13-0.75.hdf5\n",
      "Epoch 14/50\n",
      "896/896 [==============================] - 14s 15ms/step - loss: 0.3976 - accuracy: 0.8426 - val_loss: 0.8263 - val_accuracy: 0.7009\n",
      "\n",
      "Epoch 00014: saving model to ./weights/weights-improvement-14-0.70.hdf5\n",
      "Epoch 15/50\n",
      "896/896 [==============================] - 13s 15ms/step - loss: 0.3943 - accuracy: 0.8337 - val_loss: 0.6320 - val_accuracy: 0.7366\n",
      "\n",
      "Epoch 00015: saving model to ./weights/weights-improvement-15-0.74.hdf5\n",
      "Epoch 16/50\n",
      "896/896 [==============================] - 13s 15ms/step - loss: 0.3805 - accuracy: 0.8248 - val_loss: 0.6133 - val_accuracy: 0.7321\n",
      "\n",
      "Epoch 00016: saving model to ./weights/weights-improvement-16-0.73.hdf5\n",
      "Epoch 17/50\n",
      "896/896 [==============================] - 14s 15ms/step - loss: 0.3636 - accuracy: 0.8493 - val_loss: 0.7119 - val_accuracy: 0.7455\n",
      "\n",
      "Epoch 00017: saving model to ./weights/weights-improvement-17-0.75.hdf5\n",
      "Epoch 18/50\n",
      "896/896 [==============================] - 13s 15ms/step - loss: 0.3447 - accuracy: 0.8438 - val_loss: 0.6720 - val_accuracy: 0.7500\n",
      "\n",
      "Epoch 00018: saving model to ./weights/weights-improvement-18-0.75.hdf5\n",
      "Epoch 19/50\n",
      "896/896 [==============================] - 14s 15ms/step - loss: 0.2979 - accuracy: 0.8661 - val_loss: 0.7608 - val_accuracy: 0.7232\n",
      "\n",
      "Epoch 00019: saving model to ./weights/weights-improvement-19-0.72.hdf5\n",
      "Epoch 20/50\n",
      "896/896 [==============================] - 14s 15ms/step - loss: 0.2893 - accuracy: 0.8884 - val_loss: 0.6579 - val_accuracy: 0.7455\n",
      "\n",
      "Epoch 00020: saving model to ./weights/weights-improvement-20-0.75.hdf5\n",
      "Epoch 21/50\n",
      "896/896 [==============================] - 14s 15ms/step - loss: 0.2920 - accuracy: 0.8817 - val_loss: 0.7260 - val_accuracy: 0.7098\n",
      "\n",
      "Epoch 00021: saving model to ./weights/weights-improvement-21-0.71.hdf5\n",
      "Epoch 22/50\n",
      "896/896 [==============================] - 14s 15ms/step - loss: 0.3080 - accuracy: 0.8750 - val_loss: 0.7854 - val_accuracy: 0.7188\n",
      "\n",
      "Epoch 00022: saving model to ./weights/weights-improvement-22-0.72.hdf5\n",
      "Epoch 23/50\n",
      "896/896 [==============================] - 14s 15ms/step - loss: 0.2914 - accuracy: 0.8806 - val_loss: 0.7911 - val_accuracy: 0.7455\n",
      "\n",
      "Epoch 00023: saving model to ./weights/weights-improvement-23-0.75.hdf5\n",
      "Epoch 24/50\n",
      "896/896 [==============================] - 14s 15ms/step - loss: 0.2794 - accuracy: 0.8951 - val_loss: 0.7431 - val_accuracy: 0.7366\n",
      "\n",
      "Epoch 00024: saving model to ./weights/weights-improvement-24-0.74.hdf5\n",
      "Epoch 25/50\n",
      "896/896 [==============================] - 14s 15ms/step - loss: 0.2823 - accuracy: 0.8761 - val_loss: 0.7238 - val_accuracy: 0.7634\n",
      "\n",
      "Epoch 00025: saving model to ./weights/weights-improvement-25-0.76.hdf5\n",
      "Epoch 26/50\n",
      "896/896 [==============================] - 13s 15ms/step - loss: 0.2363 - accuracy: 0.9208 - val_loss: 0.7145 - val_accuracy: 0.7545\n",
      "\n",
      "Epoch 00026: saving model to ./weights/weights-improvement-26-0.75.hdf5\n",
      "Epoch 27/50\n",
      "896/896 [==============================] - 13s 15ms/step - loss: 0.2438 - accuracy: 0.9129 - val_loss: 0.8060 - val_accuracy: 0.7232\n",
      "\n",
      "Epoch 00027: saving model to ./weights/weights-improvement-27-0.72.hdf5\n",
      "Epoch 28/50\n",
      "896/896 [==============================] - 14s 15ms/step - loss: 0.2410 - accuracy: 0.9007 - val_loss: 0.8048 - val_accuracy: 0.7232\n",
      "\n",
      "Epoch 00028: saving model to ./weights/weights-improvement-28-0.72.hdf5\n",
      "Epoch 29/50\n",
      "896/896 [==============================] - 14s 15ms/step - loss: 0.2184 - accuracy: 0.9118 - val_loss: 0.7552 - val_accuracy: 0.7455\n",
      "\n",
      "Epoch 00029: saving model to ./weights/weights-improvement-29-0.75.hdf5\n",
      "Epoch 30/50\n",
      "896/896 [==============================] - 14s 15ms/step - loss: 0.2438 - accuracy: 0.9107 - val_loss: 0.7401 - val_accuracy: 0.7634\n",
      "\n",
      "Epoch 00030: saving model to ./weights/weights-improvement-30-0.76.hdf5\n",
      "Epoch 31/50\n",
      "896/896 [==============================] - 14s 15ms/step - loss: 0.2190 - accuracy: 0.9174 - val_loss: 0.8531 - val_accuracy: 0.7500\n",
      "\n",
      "Epoch 00031: saving model to ./weights/weights-improvement-31-0.75.hdf5\n",
      "Epoch 32/50\n",
      "896/896 [==============================] - 14s 15ms/step - loss: 0.2115 - accuracy: 0.9163 - val_loss: 0.7092 - val_accuracy: 0.7545\n",
      "\n",
      "Epoch 00032: saving model to ./weights/weights-improvement-32-0.75.hdf5\n",
      "Epoch 33/50\n",
      "896/896 [==============================] - 13s 15ms/step - loss: 0.2344 - accuracy: 0.9096 - val_loss: 0.7798 - val_accuracy: 0.7366\n",
      "\n",
      "Epoch 00033: saving model to ./weights/weights-improvement-33-0.74.hdf5\n",
      "Epoch 34/50\n",
      "896/896 [==============================] - 13s 15ms/step - loss: 0.2144 - accuracy: 0.9219 - val_loss: 0.8563 - val_accuracy: 0.7545\n",
      "\n",
      "Epoch 00034: saving model to ./weights/weights-improvement-34-0.75.hdf5\n",
      "Epoch 35/50\n",
      "896/896 [==============================] - 14s 15ms/step - loss: 0.1971 - accuracy: 0.9208 - val_loss: 0.8110 - val_accuracy: 0.7500\n",
      "\n",
      "Epoch 00035: saving model to ./weights/weights-improvement-35-0.75.hdf5\n",
      "Epoch 36/50\n",
      "896/896 [==============================] - 13s 15ms/step - loss: 0.1878 - accuracy: 0.9297 - val_loss: 0.7962 - val_accuracy: 0.7366\n",
      "\n",
      "Epoch 00036: saving model to ./weights/weights-improvement-36-0.74.hdf5\n",
      "Epoch 37/50\n",
      "896/896 [==============================] - 13s 15ms/step - loss: 0.1950 - accuracy: 0.9319 - val_loss: 0.8196 - val_accuracy: 0.7366\n",
      "\n",
      "Epoch 00037: saving model to ./weights/weights-improvement-37-0.74.hdf5\n",
      "Epoch 38/50\n",
      "896/896 [==============================] - 13s 15ms/step - loss: 0.1615 - accuracy: 0.9431 - val_loss: 0.8001 - val_accuracy: 0.7723\n",
      "\n",
      "Epoch 00038: saving model to ./weights/weights-improvement-38-0.77.hdf5\n",
      "Epoch 39/50\n",
      "896/896 [==============================] - 13s 15ms/step - loss: 0.1688 - accuracy: 0.9353 - val_loss: 0.8843 - val_accuracy: 0.7411\n",
      "\n",
      "Epoch 00039: saving model to ./weights/weights-improvement-39-0.74.hdf5\n",
      "Epoch 40/50\n",
      "896/896 [==============================] - 13s 15ms/step - loss: 0.1875 - accuracy: 0.9252 - val_loss: 0.7872 - val_accuracy: 0.7545\n",
      "\n",
      "Epoch 00040: saving model to ./weights/weights-improvement-40-0.75.hdf5\n",
      "Epoch 41/50\n",
      "896/896 [==============================] - 13s 15ms/step - loss: 0.1793 - accuracy: 0.9219 - val_loss: 0.8617 - val_accuracy: 0.7321\n",
      "\n",
      "Epoch 00041: saving model to ./weights/weights-improvement-41-0.73.hdf5\n",
      "Epoch 42/50\n",
      "896/896 [==============================] - 14s 16ms/step - loss: 0.1551 - accuracy: 0.9509 - val_loss: 0.8406 - val_accuracy: 0.7589\n",
      "\n",
      "Epoch 00042: saving model to ./weights/weights-improvement-42-0.76.hdf5\n",
      "Epoch 43/50\n",
      "896/896 [==============================] - 14s 15ms/step - loss: 0.1394 - accuracy: 0.9576 - val_loss: 0.8338 - val_accuracy: 0.7321\n",
      "\n",
      "Epoch 00043: saving model to ./weights/weights-improvement-43-0.73.hdf5\n",
      "Epoch 44/50\n",
      "896/896 [==============================] - 13s 15ms/step - loss: 0.1379 - accuracy: 0.9587 - val_loss: 0.9310 - val_accuracy: 0.7277\n",
      "\n",
      "Epoch 00044: saving model to ./weights/weights-improvement-44-0.73.hdf5\n",
      "Epoch 45/50\n",
      "896/896 [==============================] - 14s 15ms/step - loss: 0.1619 - accuracy: 0.9397 - val_loss: 0.9133 - val_accuracy: 0.7634\n",
      "\n",
      "Epoch 00045: saving model to ./weights/weights-improvement-45-0.76.hdf5\n",
      "Epoch 46/50\n",
      "896/896 [==============================] - 13s 15ms/step - loss: 0.1374 - accuracy: 0.9587 - val_loss: 0.8560 - val_accuracy: 0.7589\n",
      "\n",
      "Epoch 00046: saving model to ./weights/weights-improvement-46-0.76.hdf5\n",
      "Epoch 47/50\n",
      "896/896 [==============================] - 13s 15ms/step - loss: 0.1313 - accuracy: 0.9688 - val_loss: 0.8591 - val_accuracy: 0.7455\n",
      "\n",
      "Epoch 00047: saving model to ./weights/weights-improvement-47-0.75.hdf5\n",
      "Epoch 48/50\n",
      "896/896 [==============================] - 13s 15ms/step - loss: 0.1381 - accuracy: 0.9475 - val_loss: 0.9268 - val_accuracy: 0.7455\n",
      "\n",
      "Epoch 00048: saving model to ./weights/weights-improvement-48-0.75.hdf5\n",
      "Epoch 49/50\n",
      "896/896 [==============================] - 13s 15ms/step - loss: 0.1452 - accuracy: 0.9509 - val_loss: 0.8511 - val_accuracy: 0.7500\n",
      "\n",
      "Epoch 00049: saving model to ./weights/weights-improvement-49-0.75.hdf5\n",
      "Epoch 50/50\n",
      "896/896 [==============================] - 14s 15ms/step - loss: 0.1444 - accuracy: 0.9464 - val_loss: 0.9401 - val_accuracy: 0.7455\n",
      "\n",
      "Epoch 00050: saving model to ./weights/weights-improvement-50-0.75.hdf5\n"
     ]
    }
   ],
   "source": [
    "hist = top_model.fit(train_data, train_y,\n",
    "                 epochs= epochs, \n",
    "                 batch_size = BATCH_SIZE,\n",
    "                 verbose= 1, \n",
    "                 validation_data = (validation_data, validation_y),\n",
    "                 class_weight= class_weight,\n",
    "                 callbacks= [checkpoint])"
   ]
  },
  {
   "cell_type": "code",
   "execution_count": 15,
   "metadata": {
    "scrolled": true
   },
   "outputs": [
    {
     "data": {
      "image/png": "[encoded data removed]",
      "text/plain": [
       "<Figure size 1080x360 with 2 Axes>"
      ]
     },
     "metadata": {
      "needs_background": "light"
     },
     "output_type": "display_data"
    }
   ],
   "source": [
    "# Plotting the training curves\n",
    "\n",
    "fig, axs = plt.subplots(1, 2, figsize= (15, 5))\n",
    "\n",
    "# Plot training & validation accuracy values\n",
    "axs[0].plot(hist.history['accuracy'])\n",
    "axs[0].plot(hist.history['val_accuracy'])\n",
    "axs[0].set_title('Model accuracy')\n",
    "axs[0].set_ylabel('Accuracy')\n",
    "axs[0].set_xlabel('Epoch')\n",
    "axs[0].legend(['Train', 'Valid'], loc='upper left')\n",
    "axs[0].grid()\n",
    "\n",
    "# Plot training & validation loss values\n",
    "axs[1].plot(hist.history['loss'])\n",
    "axs[1].plot(hist.history['val_loss'])\n",
    "axs[1].set_title('Model loss')\n",
    "axs[1].set_ylabel('Loss')\n",
    "axs[1].set_xlabel('Epoch')\n",
    "axs[1].grid()\n",
    "axs[1].legend(['Train', 'Valid'], loc='upper left')\n",
    "plt.show()"
   ]
  },
  {
   "cell_type": "markdown",
   "metadata": {},
   "source": [
    "We can see that we were able to obtain better results than previously by using pre-trained weights!"
   ]
  },
  {
   "cell_type": "markdown",
   "metadata": {},
   "source": [
    "### Evaluating our model"
   ]
  },
  {
   "cell_type": "code",
   "execution_count": 16,
   "metadata": {},
   "outputs": [],
   "source": [
    "# Loading the best weights\n",
    "top_model.load_weights(\"./weights/weights-improvement-38-0.77.hdf5\")"
   ]
  },
  {
   "cell_type": "code",
   "execution_count": 17,
   "metadata": {
    "scrolled": true
   },
   "outputs": [
    {
     "name": "stdout",
     "output_type": "stream",
     "text": [
      "224/224 [==============================] - 0s 1ms/step\n",
      "Accuracy on the validation set: 0.772\n"
     ]
    }
   ],
   "source": [
    "evaluation = top_model.evaluate(validation_data, validation_y)\n",
    "print('Accuracy on the validation set: {:.3f}'.format(evaluation[1]))"
   ]
  },
  {
   "cell_type": "code",
   "execution_count": 18,
   "metadata": {
    "scrolled": true
   },
   "outputs": [
    {
     "data": {
      "text/plain": [
       "array([3, 3, 0, 0, 2, 2, 3, 0, 3, 3])"
      ]
     },
     "execution_count": 18,
     "metadata": {},
     "output_type": "execute_result"
    }
   ],
   "source": [
    "pred = top_model.predict(validation_data)\n",
    "y_pred = pred.argmax(axis=1)\n",
    "y_pred[:10]"
   ]
  },
  {
   "cell_type": "code",
   "execution_count": 19,
   "metadata": {
    "scrolled": true
   },
   "outputs": [
    {
     "data": {
      "text/plain": [
       "{'bacterial': 0, 'covid': 1, 'normal': 2, 'viral': 3}"
      ]
     },
     "execution_count": 19,
     "metadata": {},
     "output_type": "execute_result"
    }
   ],
   "source": [
    "X_val.class_indices"
   ]
  },
  {
   "cell_type": "code",
   "execution_count": 20,
   "metadata": {},
   "outputs": [],
   "source": [
    "y_val = valid_set['label'].map(X_val.class_indices).values"
   ]
  },
  {
   "cell_type": "code",
   "execution_count": 21,
   "metadata": {
    "scrolled": true
   },
   "outputs": [
    {
     "data": {
      "image/png": "[encoded data removed]",
      "text/plain": [
       "<Figure size 432x288 with 2 Axes>"
      ]
     },
     "metadata": {
      "needs_background": "light"
     },
     "output_type": "display_data"
    }
   ],
   "source": [
    "data = {'y_val': y_val[:-2], 'y_pred': y_pred}\n",
    "df = pd.DataFrame(data)\n",
    "confusion_matrix = pd.crosstab(df['y_val'], df['y_pred'], \n",
    "                               rownames=['Actual'], \n",
    "                               colnames=['Predicted'],\n",
    "                               normalize= 'index')\n",
    "\n",
    "cmap = sns.diverging_palette(220, 10, as_cmap= True)\n",
    "sns.heatmap(confusion_matrix, annot=True, cmap= cmap)\n",
    "plt.title('Confusion matrix')\n",
    "plt.show()"
   ]
  },
  {
   "cell_type": "code",
   "execution_count": 22,
   "metadata": {
    "scrolled": true
   },
   "outputs": [
    {
     "name": "stdout",
     "output_type": "stream",
     "text": [
      "              precision    recall  f1-score   support\n",
      "\n",
      "           0       0.74      0.71      0.72        70\n",
      "           1       0.92      0.75      0.83        16\n",
      "           2       0.82      0.97      0.89        70\n",
      "           3       0.72      0.63      0.67        68\n",
      "\n",
      "    accuracy                           0.77       224\n",
      "   macro avg       0.80      0.77      0.78       224\n",
      "weighted avg       0.77      0.77      0.77       224\n",
      "\n"
     ]
    }
   ],
   "source": [
    "print(classification_report(y_val[:-2], y_pred))"
   ]
  },
  {
   "cell_type": "markdown",
   "metadata": {},
   "source": [
    "We didn't manage to have better results than with VGG16."
   ]
  },
  {
   "cell_type": "code",
   "execution_count": null,
   "metadata": {},
   "outputs": [],
   "source": []
  }
 ],
 "metadata": {
  "kernelspec": {
   "display_name": "Python 3",
   "language": "python",
   "name": "python3"
  },
  "language_info": {
   "codemirror_mode": {
    "name": "ipython",
    "version": 3
   },
   "file_extension": ".py",
   "mimetype": "text/x-python",
   "name": "python",
   "nbconvert_exporter": "python",
   "pygments_lexer": "ipython3",
   "version": "3.7.5"
  }
 },
 "nbformat": 4,
 "nbformat_minor": 2
}
