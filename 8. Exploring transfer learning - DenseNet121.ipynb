{
 "cells": [
  {
   "cell_type": "markdown",
   "metadata": {},
   "source": [
    "# Exploring transfer learning - part4\n",
    "\n",
    "Bertrand Thia (bt2513)\n",
    "\n",
    "This time, we are going to work with the network DenseNet121.\n",
    "\n",
    "---"
   ]
  },
  {
   "cell_type": "code",
   "execution_count": 1,
   "metadata": {},
   "outputs": [
    {
     "name": "stderr",
     "output_type": "stream",
     "text": [
      "Using TensorFlow backend.\n"
     ]
    }
   ],
   "source": [
    "# importing the librairies\n",
    "\n",
    "import pandas as pd\n",
    "import numpy as np\n",
    "import matplotlib.pyplot as plt\n",
    "import seaborn as sns\n",
    "from sklearn.model_selection import train_test_split\n",
    "from sklearn.metrics import accuracy_score\n",
    "from keras.preprocessing.image import ImageDataGenerator\n",
    "from keras.models import Sequential, Model\n",
    "from keras.layers import Flatten, Dense, Dropout\n",
    "from keras.optimizers import Adam, SGD\n",
    "from keras.callbacks.callbacks import EarlyStopping, ModelCheckpoint\n",
    "from sklearn.metrics import confusion_matrix, classification_report\n",
    "from sklearn.utils import compute_class_weight\n",
    "from keras.preprocessing import image\n",
    "from keras.applications import DenseNet121\n",
    "from keras.utils import to_categorical\n",
    "\n",
    "np.random.seed(0)"
   ]
  },
  {
   "cell_type": "markdown",
   "metadata": {},
   "source": [
    "# Loading the data and data preprocessing"
   ]
  },
  {
   "cell_type": "code",
   "execution_count": 2,
   "metadata": {
    "scrolled": true
   },
   "outputs": [],
   "source": [
    "train_labels = pd.read_csv('../train.csv')"
   ]
  },
  {
   "cell_type": "markdown",
   "metadata": {},
   "source": [
    "### Splitting into training set and validation set "
   ]
  },
  {
   "cell_type": "code",
   "execution_count": 3,
   "metadata": {},
   "outputs": [],
   "source": [
    "train_set, valid_set = train_test_split(train_labels, test_size= 0.2, random_state= 0, \n",
    "                                        stratify= train_labels['label'])"
   ]
  },
  {
   "cell_type": "code",
   "execution_count": 4,
   "metadata": {
    "scrolled": true
   },
   "outputs": [
    {
     "name": "stdout",
     "output_type": "stream",
     "text": [
      "Train size: 901 \t Validation size: 226\n"
     ]
    }
   ],
   "source": [
    "print('Train size: %d \\t Validation size: %d' %(len(train_set), len(valid_set)))"
   ]
  },
  {
   "cell_type": "code",
   "execution_count": 5,
   "metadata": {},
   "outputs": [
    {
     "data": {
      "text/plain": [
       "normal       280\n",
       "bacterial    280\n",
       "viral        280\n",
       "covid         61\n",
       "Name: label, dtype: int64"
      ]
     },
     "execution_count": 5,
     "metadata": {},
     "output_type": "execute_result"
    }
   ],
   "source": [
    "train_set['label'].value_counts()"
   ]
  },
  {
   "cell_type": "markdown",
   "metadata": {},
   "source": [
    "### Standardization"
   ]
  },
  {
   "cell_type": "markdown",
   "metadata": {},
   "source": [
    "Let's load and standardized our data. To address the overfitting issue, we are going to use data augmentation here. This will allow us to increase the size of our dataset, but also make the classification more challenging. Since the network is deep, we are going to use aggresive modifications:"
   ]
  },
  {
   "cell_type": "code",
   "execution_count": 6,
   "metadata": {},
   "outputs": [],
   "source": [
    "train_datagen = ImageDataGenerator(samplewise_center=True,\n",
    "                                  samplewise_std_normalization=True, \n",
    "                                  rotation_range= 20,\n",
    "                                  horizontal_flip= True)\n",
    "\n",
    "val_datagen = ImageDataGenerator(samplewise_center=True,\n",
    "                                 samplewise_std_normalization=True)"
   ]
  },
  {
   "cell_type": "markdown",
   "metadata": {},
   "source": [
    "Let's use the same parameters as previously:"
   ]
  },
  {
   "cell_type": "code",
   "execution_count": 7,
   "metadata": {},
   "outputs": [
    {
     "name": "stdout",
     "output_type": "stream",
     "text": [
      "Found 901 validated image filenames belonging to 4 classes.\n",
      "Found 226 validated image filenames belonging to 4 classes.\n"
     ]
    }
   ],
   "source": [
    "BATCH_SIZE = 32\n",
    "W = 312\n",
    "H = 251\n",
    "\n",
    "X_train = train_datagen.flow_from_dataframe(dataframe= train_set,\n",
    "                                            directory= '../train2/',\n",
    "                                            x_col = 'filename',\n",
    "                                            y_col = 'label', \n",
    "                                            target_size = (H, W),\n",
    "                                            batch_size= BATCH_SIZE, \n",
    "                                            shuffle= False)\n",
    "\n",
    "X_val = val_datagen.flow_from_dataframe(dataframe= valid_set,\n",
    "                                        directory= '../train2/',\n",
    "                                        x_col = 'filename',\n",
    "                                        y_col = 'label', \n",
    "                                        target_size = (H, W),\n",
    "                                        batch_size= BATCH_SIZE, \n",
    "                                        shuffle= False)"
   ]
  },
  {
   "cell_type": "markdown",
   "metadata": {},
   "source": [
    "# Model building"
   ]
  },
  {
   "cell_type": "markdown",
   "metadata": {},
   "source": [
    "We are going to use the network ResNet50 and pre-trained weights from the ImageNet dataset:"
   ]
  },
  {
   "cell_type": "code",
   "execution_count": 8,
   "metadata": {
    "scrolled": false
   },
   "outputs": [],
   "source": [
    "model = DenseNet121(include_top=False, weights='imagenet')"
   ]
  },
  {
   "cell_type": "markdown",
   "metadata": {},
   "source": [
    "As it is very expansive to run the whole network, we are going to only do it once and save the output at the end of the pre-trained part of the network. We will then train fully-connected layers for the top layers of the model."
   ]
  },
  {
   "cell_type": "code",
   "execution_count": 9,
   "metadata": {},
   "outputs": [],
   "source": [
    "bottleneck_features_train = model.predict_generator(X_train, steps= len(train_set) // BATCH_SIZE)\n",
    "np.save(open('bottleneck_features_train.npy', 'wb'), bottleneck_features_train)\n",
    "\n",
    "bottleneck_features_val = model.predict_generator(X_val, steps= len(valid_set) // BATCH_SIZE)\n",
    "np.save(open('bottleneck_features_val.npy', 'wb'), bottleneck_features_val)"
   ]
  },
  {
   "cell_type": "markdown",
   "metadata": {},
   "source": [
    "### Training the top layers "
   ]
  },
  {
   "cell_type": "code",
   "execution_count": 10,
   "metadata": {},
   "outputs": [],
   "source": [
    "train_data = np.load(open('bottleneck_features_train.npy', 'rb'))\n",
    "train_y = to_categorical(train_set['label'].map({'bacterial': 0, 'covid': 1, 'normal': 2, 'viral': 3}).values[:-5])\n",
    "\n",
    "validation_data = np.load(open('bottleneck_features_val.npy', 'rb'))\n",
    "validation_y = to_categorical(valid_set['label'].map({'bacterial': 0, 'covid': 1, \n",
    "                                                     'normal': 2, 'viral': 3}).values[:-2])"
   ]
  },
  {
   "cell_type": "code",
   "execution_count": 11,
   "metadata": {
    "scrolled": true
   },
   "outputs": [
    {
     "name": "stdout",
     "output_type": "stream",
     "text": [
      "Size of the training: 896 \t labels: 896\n",
      "Size of the validation: 224 \t labels: 224\n"
     ]
    }
   ],
   "source": [
    "print('Size of the training: %d \\t labels: %d' %(len(train_data), len(train_y)))\n",
    "print('Size of the validation: %d \\t labels: %d' %(len(validation_data), len(validation_y)))"
   ]
  },
  {
   "cell_type": "markdown",
   "metadata": {},
   "source": [
    "Since we are using batches of data, we don't end up with the whole dataset, but this will allow to speed up the process."
   ]
  },
  {
   "cell_type": "markdown",
   "metadata": {},
   "source": [
    "Since this network is very deep and different from the previous one, we are going to modify our fully connected layers here. We obtained satisfying results with the following structure:"
   ]
  },
  {
   "cell_type": "code",
   "execution_count": 12,
   "metadata": {},
   "outputs": [],
   "source": [
    "top_model = Sequential()\n",
    "top_model.add(Flatten(input_shape=train_data.shape[1:]))\n",
    "top_model.add(Dense(units= 128, activation= 'relu')) \n",
    "top_model.add(Dropout(0.5)) \n",
    "top_model.add(Dense(units= 64, activation= 'relu'))\n",
    "top_model.add(Dropout(0.3)) \n",
    "top_model.add(Dense(units= 4, activation= 'softmax'))\n",
    "\n",
    "top_model.compile(loss= 'categorical_crossentropy',\n",
    "              optimizer= Adam(lr= 1e-4), \n",
    "              metrics = ['accuracy'])"
   ]
  },
  {
   "cell_type": "code",
   "execution_count": 13,
   "metadata": {},
   "outputs": [],
   "source": [
    "epochs= 70\n",
    "#es = EarlyStopping(monitor='val_accuracy', mode='max', verbose=1, restore_best_weights= True, patience= 3)\n",
    "filepath=\"./weights/weights-improvement-{epoch:02d}-{val_accuracy:.2f}.hdf5\"\n",
    "checkpoint = ModelCheckpoint(filepath, monitor= 'val_accuracy', verbose= 1, period= 1)"
   ]
  },
  {
   "cell_type": "markdown",
   "metadata": {},
   "source": [
    "Since our dataset is imbalanced, we are going to use class weigthing to address the issue:"
   ]
  },
  {
   "cell_type": "code",
   "execution_count": 14,
   "metadata": {},
   "outputs": [
    {
     "data": {
      "text/plain": [
       "array([0.80446429, 3.69262295, 0.80446429, 0.80446429])"
      ]
     },
     "execution_count": 14,
     "metadata": {},
     "output_type": "execute_result"
    }
   ],
   "source": [
    "train_set2 = train_set.copy()\n",
    "train_set2['label'] = train_set2['label'].map({'bacterial': 0, 'covid': 1, 'normal': 2, 'viral': 3})\n",
    "class_weight = compute_class_weight('balanced', [0, 1, 2, 3], train_set2['label'])\n",
    "class_weight"
   ]
  },
  {
   "cell_type": "code",
   "execution_count": 15,
   "metadata": {
    "scrolled": true
   },
   "outputs": [
    {
     "name": "stdout",
     "output_type": "stream",
     "text": [
      "Train on 896 samples, validate on 224 samples\n",
      "Epoch 1/70\n",
      "896/896 [==============================] - 2s 3ms/step - loss: 1.8245 - accuracy: 0.3806 - val_loss: 1.0529 - val_accuracy: 0.5670\n",
      "\n",
      "Epoch 00001: saving model to ./weights/weights-improvement-01-0.57.hdf5\n",
      "Epoch 2/70\n",
      "896/896 [==============================] - 2s 3ms/step - loss: 1.1018 - accuracy: 0.5134 - val_loss: 0.7825 - val_accuracy: 0.6562\n",
      "\n",
      "Epoch 00002: saving model to ./weights/weights-improvement-02-0.66.hdf5\n",
      "Epoch 3/70\n",
      "896/896 [==============================] - 2s 3ms/step - loss: 1.0042 - accuracy: 0.5681 - val_loss: 0.8037 - val_accuracy: 0.6250\n",
      "\n",
      "Epoch 00003: saving model to ./weights/weights-improvement-03-0.62.hdf5\n",
      "Epoch 4/70\n",
      "896/896 [==============================] - 2s 2ms/step - loss: 0.9574 - accuracy: 0.6004 - val_loss: 0.7222 - val_accuracy: 0.7009\n",
      "\n",
      "Epoch 00004: saving model to ./weights/weights-improvement-04-0.70.hdf5\n",
      "Epoch 5/70\n",
      "896/896 [==============================] - 2s 2ms/step - loss: 0.8650 - accuracy: 0.6362 - val_loss: 0.6783 - val_accuracy: 0.7188\n",
      "\n",
      "Epoch 00005: saving model to ./weights/weights-improvement-05-0.72.hdf5\n",
      "Epoch 6/70\n",
      "896/896 [==============================] - 2s 2ms/step - loss: 0.8024 - accuracy: 0.6518 - val_loss: 0.6167 - val_accuracy: 0.7679\n",
      "\n",
      "Epoch 00006: saving model to ./weights/weights-improvement-06-0.77.hdf5\n",
      "Epoch 7/70\n",
      "896/896 [==============================] - 2s 2ms/step - loss: 0.7749 - accuracy: 0.6663 - val_loss: 0.6382 - val_accuracy: 0.7500\n",
      "\n",
      "Epoch 00007: saving model to ./weights/weights-improvement-07-0.75.hdf5\n",
      "Epoch 8/70\n",
      "896/896 [==============================] - 2s 3ms/step - loss: 0.7638 - accuracy: 0.6518 - val_loss: 0.6273 - val_accuracy: 0.7411\n",
      "\n",
      "Epoch 00008: saving model to ./weights/weights-improvement-08-0.74.hdf5\n",
      "Epoch 9/70\n",
      "896/896 [==============================] - 2s 3ms/step - loss: 0.6699 - accuracy: 0.7221 - val_loss: 0.6160 - val_accuracy: 0.7500\n",
      "\n",
      "Epoch 00009: saving model to ./weights/weights-improvement-09-0.75.hdf5\n",
      "Epoch 10/70\n",
      "896/896 [==============================] - 2s 3ms/step - loss: 0.6265 - accuracy: 0.7344 - val_loss: 0.5705 - val_accuracy: 0.7589\n",
      "\n",
      "Epoch 00010: saving model to ./weights/weights-improvement-10-0.76.hdf5\n",
      "Epoch 11/70\n",
      "896/896 [==============================] - 2s 3ms/step - loss: 0.6015 - accuracy: 0.7344 - val_loss: 0.5252 - val_accuracy: 0.7634\n",
      "\n",
      "Epoch 00011: saving model to ./weights/weights-improvement-11-0.76.hdf5\n",
      "Epoch 12/70\n",
      "896/896 [==============================] - 2s 2ms/step - loss: 0.5714 - accuracy: 0.7433 - val_loss: 0.5551 - val_accuracy: 0.7723\n",
      "\n",
      "Epoch 00012: saving model to ./weights/weights-improvement-12-0.77.hdf5\n",
      "Epoch 13/70\n",
      "896/896 [==============================] - 2s 3ms/step - loss: 0.5451 - accuracy: 0.7801 - val_loss: 0.5944 - val_accuracy: 0.7812\n",
      "\n",
      "Epoch 00013: saving model to ./weights/weights-improvement-13-0.78.hdf5\n",
      "Epoch 14/70\n",
      "896/896 [==============================] - 2s 3ms/step - loss: 0.5336 - accuracy: 0.7500 - val_loss: 0.5139 - val_accuracy: 0.7812\n",
      "\n",
      "Epoch 00014: saving model to ./weights/weights-improvement-14-0.78.hdf5\n",
      "Epoch 15/70\n",
      "896/896 [==============================] - 2s 3ms/step - loss: 0.5026 - accuracy: 0.7913 - val_loss: 0.5804 - val_accuracy: 0.7277\n",
      "\n",
      "Epoch 00015: saving model to ./weights/weights-improvement-15-0.73.hdf5\n",
      "Epoch 16/70\n",
      "896/896 [==============================] - 2s 3ms/step - loss: 0.5446 - accuracy: 0.7734 - val_loss: 0.5455 - val_accuracy: 0.7411\n",
      "\n",
      "Epoch 00016: saving model to ./weights/weights-improvement-16-0.74.hdf5\n",
      "Epoch 17/70\n",
      "896/896 [==============================] - 2s 2ms/step - loss: 0.4959 - accuracy: 0.7824 - val_loss: 0.5110 - val_accuracy: 0.7991\n",
      "\n",
      "Epoch 00017: saving model to ./weights/weights-improvement-17-0.80.hdf5\n",
      "Epoch 18/70\n",
      "896/896 [==============================] - 2s 2ms/step - loss: 0.4442 - accuracy: 0.8047 - val_loss: 0.5408 - val_accuracy: 0.7723\n",
      "\n",
      "Epoch 00018: saving model to ./weights/weights-improvement-18-0.77.hdf5\n",
      "Epoch 19/70\n",
      "896/896 [==============================] - 2s 2ms/step - loss: 0.4323 - accuracy: 0.8114 - val_loss: 0.4827 - val_accuracy: 0.7857\n",
      "\n",
      "Epoch 00019: saving model to ./weights/weights-improvement-19-0.79.hdf5\n",
      "Epoch 20/70\n",
      "896/896 [==============================] - 2s 3ms/step - loss: 0.4277 - accuracy: 0.8136 - val_loss: 0.5227 - val_accuracy: 0.7679\n",
      "\n",
      "Epoch 00020: saving model to ./weights/weights-improvement-20-0.77.hdf5\n",
      "Epoch 21/70\n",
      "896/896 [==============================] - 2s 3ms/step - loss: 0.3811 - accuracy: 0.8371 - val_loss: 0.5226 - val_accuracy: 0.7411\n",
      "\n",
      "Epoch 00021: saving model to ./weights/weights-improvement-21-0.74.hdf5\n",
      "Epoch 22/70\n",
      "896/896 [==============================] - 2s 3ms/step - loss: 0.3663 - accuracy: 0.8359 - val_loss: 0.4840 - val_accuracy: 0.7902\n",
      "\n",
      "Epoch 00022: saving model to ./weights/weights-improvement-22-0.79.hdf5\n",
      "Epoch 23/70\n",
      "896/896 [==============================] - 2s 3ms/step - loss: 0.3664 - accuracy: 0.8393 - val_loss: 0.5215 - val_accuracy: 0.7500\n",
      "\n",
      "Epoch 00023: saving model to ./weights/weights-improvement-23-0.75.hdf5\n",
      "Epoch 24/70\n",
      "896/896 [==============================] - 2s 3ms/step - loss: 0.3367 - accuracy: 0.8571 - val_loss: 0.5175 - val_accuracy: 0.7768\n",
      "\n",
      "Epoch 00024: saving model to ./weights/weights-improvement-24-0.78.hdf5\n",
      "Epoch 25/70\n",
      "896/896 [==============================] - 2s 2ms/step - loss: 0.3494 - accuracy: 0.8549 - val_loss: 0.4911 - val_accuracy: 0.7902\n",
      "\n",
      "Epoch 00025: saving model to ./weights/weights-improvement-25-0.79.hdf5\n",
      "Epoch 26/70\n",
      "896/896 [==============================] - 2s 2ms/step - loss: 0.3441 - accuracy: 0.8471 - val_loss: 0.5163 - val_accuracy: 0.7857\n",
      "\n",
      "Epoch 00026: saving model to ./weights/weights-improvement-26-0.79.hdf5\n",
      "Epoch 27/70\n",
      "896/896 [==============================] - 2s 3ms/step - loss: 0.3216 - accuracy: 0.8594 - val_loss: 0.5368 - val_accuracy: 0.7679\n",
      "\n",
      "Epoch 00027: saving model to ./weights/weights-improvement-27-0.77.hdf5\n",
      "Epoch 28/70\n",
      "896/896 [==============================] - 2s 2ms/step - loss: 0.3197 - accuracy: 0.8549 - val_loss: 0.5325 - val_accuracy: 0.7679\n",
      "\n",
      "Epoch 00028: saving model to ./weights/weights-improvement-28-0.77.hdf5\n",
      "Epoch 29/70\n",
      "896/896 [==============================] - 2s 2ms/step - loss: 0.3493 - accuracy: 0.8304 - val_loss: 0.5053 - val_accuracy: 0.7812\n",
      "\n",
      "Epoch 00029: saving model to ./weights/weights-improvement-29-0.78.hdf5\n",
      "Epoch 30/70\n",
      "896/896 [==============================] - 2s 2ms/step - loss: 0.3225 - accuracy: 0.8594 - val_loss: 0.5159 - val_accuracy: 0.7679\n",
      "\n",
      "Epoch 00030: saving model to ./weights/weights-improvement-30-0.77.hdf5\n",
      "Epoch 31/70\n",
      "896/896 [==============================] - 2s 3ms/step - loss: 0.3238 - accuracy: 0.8482 - val_loss: 0.5116 - val_accuracy: 0.7812\n",
      "\n",
      "Epoch 00031: saving model to ./weights/weights-improvement-31-0.78.hdf5\n",
      "Epoch 32/70\n",
      "896/896 [==============================] - 2s 3ms/step - loss: 0.2812 - accuracy: 0.8739 - val_loss: 0.5190 - val_accuracy: 0.7812\n",
      "\n",
      "Epoch 00032: saving model to ./weights/weights-improvement-32-0.78.hdf5\n",
      "Epoch 33/70\n",
      "896/896 [==============================] - 2s 2ms/step - loss: 0.2868 - accuracy: 0.8650 - val_loss: 0.5632 - val_accuracy: 0.7679\n",
      "\n",
      "Epoch 00033: saving model to ./weights/weights-improvement-33-0.77.hdf5\n",
      "Epoch 34/70\n",
      "896/896 [==============================] - 2s 2ms/step - loss: 0.2768 - accuracy: 0.8783 - val_loss: 0.5378 - val_accuracy: 0.7812\n",
      "\n",
      "Epoch 00034: saving model to ./weights/weights-improvement-34-0.78.hdf5\n",
      "Epoch 35/70\n",
      "896/896 [==============================] - 2s 2ms/step - loss: 0.2778 - accuracy: 0.8661 - val_loss: 0.5500 - val_accuracy: 0.7723\n",
      "\n",
      "Epoch 00035: saving model to ./weights/weights-improvement-35-0.77.hdf5\n",
      "Epoch 36/70\n",
      "896/896 [==============================] - 2s 2ms/step - loss: 0.2915 - accuracy: 0.8527 - val_loss: 0.5655 - val_accuracy: 0.7679\n",
      "\n",
      "Epoch 00036: saving model to ./weights/weights-improvement-36-0.77.hdf5\n",
      "Epoch 37/70\n",
      "896/896 [==============================] - 2s 2ms/step - loss: 0.2564 - accuracy: 0.8884 - val_loss: 0.6685 - val_accuracy: 0.7143\n",
      "\n",
      "Epoch 00037: saving model to ./weights/weights-improvement-37-0.71.hdf5\n",
      "Epoch 38/70\n",
      "896/896 [==============================] - 2s 3ms/step - loss: 0.2549 - accuracy: 0.8705 - val_loss: 0.5811 - val_accuracy: 0.7634\n",
      "\n",
      "Epoch 00038: saving model to ./weights/weights-improvement-38-0.76.hdf5\n"
     ]
    },
    {
     "name": "stdout",
     "output_type": "stream",
     "text": [
      "Epoch 39/70\n",
      "896/896 [==============================] - 2s 2ms/step - loss: 0.2202 - accuracy: 0.8962 - val_loss: 0.6074 - val_accuracy: 0.7455\n",
      "\n",
      "Epoch 00039: saving model to ./weights/weights-improvement-39-0.75.hdf5\n",
      "Epoch 40/70\n",
      "896/896 [==============================] - 2s 3ms/step - loss: 0.2403 - accuracy: 0.8806 - val_loss: 0.5500 - val_accuracy: 0.7723\n",
      "\n",
      "Epoch 00040: saving model to ./weights/weights-improvement-40-0.77.hdf5\n",
      "Epoch 41/70\n",
      "896/896 [==============================] - 2s 2ms/step - loss: 0.2538 - accuracy: 0.8795 - val_loss: 0.5396 - val_accuracy: 0.7723\n",
      "\n",
      "Epoch 00041: saving model to ./weights/weights-improvement-41-0.77.hdf5\n",
      "Epoch 42/70\n",
      "896/896 [==============================] - 2s 2ms/step - loss: 0.2248 - accuracy: 0.8862 - val_loss: 0.5990 - val_accuracy: 0.7634\n",
      "\n",
      "Epoch 00042: saving model to ./weights/weights-improvement-42-0.76.hdf5\n",
      "Epoch 43/70\n",
      "896/896 [==============================] - 2s 2ms/step - loss: 0.2350 - accuracy: 0.8873 - val_loss: 0.6617 - val_accuracy: 0.7455\n",
      "\n",
      "Epoch 00043: saving model to ./weights/weights-improvement-43-0.75.hdf5\n",
      "Epoch 44/70\n",
      "896/896 [==============================] - 2s 2ms/step - loss: 0.2481 - accuracy: 0.8873 - val_loss: 0.5654 - val_accuracy: 0.7634\n",
      "\n",
      "Epoch 00044: saving model to ./weights/weights-improvement-44-0.76.hdf5\n",
      "Epoch 45/70\n",
      "896/896 [==============================] - 2s 3ms/step - loss: 0.2209 - accuracy: 0.8940 - val_loss: 0.7262 - val_accuracy: 0.7589\n",
      "\n",
      "Epoch 00045: saving model to ./weights/weights-improvement-45-0.76.hdf5\n",
      "Epoch 46/70\n",
      "896/896 [==============================] - 2s 3ms/step - loss: 0.2313 - accuracy: 0.8783 - val_loss: 0.6329 - val_accuracy: 0.7634\n",
      "\n",
      "Epoch 00046: saving model to ./weights/weights-improvement-46-0.76.hdf5\n",
      "Epoch 47/70\n",
      "896/896 [==============================] - 2s 2ms/step - loss: 0.2471 - accuracy: 0.8917 - val_loss: 0.5979 - val_accuracy: 0.7679\n",
      "\n",
      "Epoch 00047: saving model to ./weights/weights-improvement-47-0.77.hdf5\n",
      "Epoch 48/70\n",
      "896/896 [==============================] - 2s 3ms/step - loss: 0.2386 - accuracy: 0.8917 - val_loss: 0.6248 - val_accuracy: 0.7768\n",
      "\n",
      "Epoch 00048: saving model to ./weights/weights-improvement-48-0.78.hdf5\n",
      "Epoch 49/70\n",
      "896/896 [==============================] - 2s 3ms/step - loss: 0.1903 - accuracy: 0.9096 - val_loss: 0.6917 - val_accuracy: 0.7589\n",
      "\n",
      "Epoch 00049: saving model to ./weights/weights-improvement-49-0.76.hdf5\n",
      "Epoch 50/70\n",
      "896/896 [==============================] - 2s 3ms/step - loss: 0.2033 - accuracy: 0.8962 - val_loss: 0.6081 - val_accuracy: 0.7857\n",
      "\n",
      "Epoch 00050: saving model to ./weights/weights-improvement-50-0.79.hdf5\n",
      "Epoch 51/70\n",
      "896/896 [==============================] - 2s 3ms/step - loss: 0.2078 - accuracy: 0.9074 - val_loss: 0.5844 - val_accuracy: 0.7812\n",
      "\n",
      "Epoch 00051: saving model to ./weights/weights-improvement-51-0.78.hdf5\n",
      "Epoch 52/70\n",
      "896/896 [==============================] - 2s 3ms/step - loss: 0.2516 - accuracy: 0.8795 - val_loss: 0.7131 - val_accuracy: 0.7634\n",
      "\n",
      "Epoch 00052: saving model to ./weights/weights-improvement-52-0.76.hdf5\n",
      "Epoch 53/70\n",
      "896/896 [==============================] - 2s 2ms/step - loss: 0.1969 - accuracy: 0.9029 - val_loss: 0.6499 - val_accuracy: 0.7812\n",
      "\n",
      "Epoch 00053: saving model to ./weights/weights-improvement-53-0.78.hdf5\n",
      "Epoch 54/70\n",
      "896/896 [==============================] - 2s 2ms/step - loss: 0.1937 - accuracy: 0.9062 - val_loss: 0.5912 - val_accuracy: 0.7679\n",
      "\n",
      "Epoch 00054: saving model to ./weights/weights-improvement-54-0.77.hdf5\n",
      "Epoch 55/70\n",
      "896/896 [==============================] - 2s 2ms/step - loss: 0.2187 - accuracy: 0.8973 - val_loss: 0.6842 - val_accuracy: 0.7679\n",
      "\n",
      "Epoch 00055: saving model to ./weights/weights-improvement-55-0.77.hdf5\n",
      "Epoch 56/70\n",
      "896/896 [==============================] - 2s 2ms/step - loss: 0.2135 - accuracy: 0.8951 - val_loss: 0.6062 - val_accuracy: 0.7857\n",
      "\n",
      "Epoch 00056: saving model to ./weights/weights-improvement-56-0.79.hdf5\n",
      "Epoch 57/70\n",
      "896/896 [==============================] - 2s 3ms/step - loss: 0.2168 - accuracy: 0.8996 - val_loss: 0.6988 - val_accuracy: 0.7768\n",
      "\n",
      "Epoch 00057: saving model to ./weights/weights-improvement-57-0.78.hdf5\n",
      "Epoch 58/70\n",
      "896/896 [==============================] - 2s 2ms/step - loss: 0.2096 - accuracy: 0.8951 - val_loss: 0.7333 - val_accuracy: 0.7500\n",
      "\n",
      "Epoch 00058: saving model to ./weights/weights-improvement-58-0.75.hdf5\n",
      "Epoch 59/70\n",
      "896/896 [==============================] - 2s 3ms/step - loss: 0.1882 - accuracy: 0.9074 - val_loss: 0.6793 - val_accuracy: 0.7634\n",
      "\n",
      "Epoch 00059: saving model to ./weights/weights-improvement-59-0.76.hdf5\n",
      "Epoch 60/70\n",
      "896/896 [==============================] - 3s 3ms/step - loss: 0.2241 - accuracy: 0.8817 - val_loss: 0.5915 - val_accuracy: 0.7723\n",
      "\n",
      "Epoch 00060: saving model to ./weights/weights-improvement-60-0.77.hdf5\n",
      "Epoch 61/70\n",
      "896/896 [==============================] - 2s 3ms/step - loss: 0.2125 - accuracy: 0.8984 - val_loss: 0.6348 - val_accuracy: 0.7589\n",
      "\n",
      "Epoch 00061: saving model to ./weights/weights-improvement-61-0.76.hdf5\n",
      "Epoch 62/70\n",
      "896/896 [==============================] - 2s 3ms/step - loss: 0.2112 - accuracy: 0.9007 - val_loss: 0.6353 - val_accuracy: 0.7723\n",
      "\n",
      "Epoch 00062: saving model to ./weights/weights-improvement-62-0.77.hdf5\n",
      "Epoch 63/70\n",
      "896/896 [==============================] - 2s 3ms/step - loss: 0.2047 - accuracy: 0.8973 - val_loss: 0.7291 - val_accuracy: 0.7634\n",
      "\n",
      "Epoch 00063: saving model to ./weights/weights-improvement-63-0.76.hdf5\n",
      "Epoch 64/70\n",
      "896/896 [==============================] - 2s 3ms/step - loss: 0.1665 - accuracy: 0.9141 - val_loss: 0.7287 - val_accuracy: 0.7589\n",
      "\n",
      "Epoch 00064: saving model to ./weights/weights-improvement-64-0.76.hdf5\n",
      "Epoch 65/70\n",
      "896/896 [==============================] - 2s 3ms/step - loss: 0.1963 - accuracy: 0.9074 - val_loss: 0.6384 - val_accuracy: 0.7768\n",
      "\n",
      "Epoch 00065: saving model to ./weights/weights-improvement-65-0.78.hdf5\n",
      "Epoch 66/70\n",
      "896/896 [==============================] - 3s 3ms/step - loss: 0.1855 - accuracy: 0.9062 - val_loss: 0.6420 - val_accuracy: 0.7723\n",
      "\n",
      "Epoch 00066: saving model to ./weights/weights-improvement-66-0.77.hdf5\n",
      "Epoch 67/70\n",
      "896/896 [==============================] - 2s 3ms/step - loss: 0.1572 - accuracy: 0.9196 - val_loss: 0.6795 - val_accuracy: 0.7857\n",
      "\n",
      "Epoch 00067: saving model to ./weights/weights-improvement-67-0.79.hdf5\n",
      "Epoch 68/70\n",
      "896/896 [==============================] - 2s 3ms/step - loss: 0.1917 - accuracy: 0.9118 - val_loss: 0.7285 - val_accuracy: 0.7768\n",
      "\n",
      "Epoch 00068: saving model to ./weights/weights-improvement-68-0.78.hdf5\n",
      "Epoch 69/70\n",
      "896/896 [==============================] - 2s 3ms/step - loss: 0.2008 - accuracy: 0.9051 - val_loss: 0.7125 - val_accuracy: 0.7812\n",
      "\n",
      "Epoch 00069: saving model to ./weights/weights-improvement-69-0.78.hdf5\n",
      "Epoch 70/70\n",
      "896/896 [==============================] - 2s 3ms/step - loss: 0.1995 - accuracy: 0.8996 - val_loss: 0.6774 - val_accuracy: 0.7545\n",
      "\n",
      "Epoch 00070: saving model to ./weights/weights-improvement-70-0.75.hdf5\n"
     ]
    }
   ],
   "source": [
    "hist = top_model.fit(train_data, train_y,\n",
    "                 epochs= epochs, \n",
    "                 batch_size = BATCH_SIZE,\n",
    "                 verbose= 1, \n",
    "                 validation_data = (validation_data, validation_y),\n",
    "                 class_weight= class_weight,\n",
    "                 callbacks= [checkpoint])"
   ]
  },
  {
   "cell_type": "code",
   "execution_count": 16,
   "metadata": {
    "scrolled": true
   },
   "outputs": [
    {
     "data": {
      "image/png": "[encoded data removed]",
      "text/plain": [
       "<Figure size 1080x360 with 2 Axes>"
      ]
     },
     "metadata": {
      "needs_background": "light"
     },
     "output_type": "display_data"
    }
   ],
   "source": [
    "# Plotting the training curves\n",
    "\n",
    "fig, axs = plt.subplots(1, 2, figsize= (15, 5))\n",
    "\n",
    "# Plot training & validation accuracy values\n",
    "axs[0].plot(hist.history['accuracy'])\n",
    "axs[0].plot(hist.history['val_accuracy'])\n",
    "axs[0].set_title('Model accuracy')\n",
    "axs[0].set_ylabel('Accuracy')\n",
    "axs[0].set_xlabel('Epoch')\n",
    "axs[0].legend(['Train', 'Valid'], loc='upper left')\n",
    "axs[0].grid()\n",
    "\n",
    "# Plot training & validation loss values\n",
    "axs[1].plot(hist.history['loss'])\n",
    "axs[1].plot(hist.history['val_loss'])\n",
    "axs[1].set_title('Model loss')\n",
    "axs[1].set_ylabel('Loss')\n",
    "axs[1].set_xlabel('Epoch')\n",
    "axs[1].grid()\n",
    "axs[1].legend(['Train', 'Valid'], loc='upper left')\n",
    "plt.show()"
   ]
  },
  {
   "cell_type": "markdown",
   "metadata": {},
   "source": [
    "### Evaluating our model"
   ]
  },
  {
   "cell_type": "code",
   "execution_count": 94,
   "metadata": {},
   "outputs": [],
   "source": [
    "# Loading the best weights\n",
    "top_model.load_weights(\"./weights/weights-improvement-17-0.80.hdf5\")"
   ]
  },
  {
   "cell_type": "code",
   "execution_count": 95,
   "metadata": {
    "scrolled": true
   },
   "outputs": [
    {
     "name": "stdout",
     "output_type": "stream",
     "text": [
      "224/224 [==============================] - 0s 928us/step\n",
      "Accuracy on the validation set: 0.799\n"
     ]
    }
   ],
   "source": [
    "evaluation = top_model.evaluate(validation_data, validation_y)\n",
    "print('Accuracy on the validation set: {:.3f}'.format(evaluation[1]))"
   ]
  },
  {
   "cell_type": "code",
   "execution_count": 96,
   "metadata": {
    "scrolled": true
   },
   "outputs": [
    {
     "data": {
      "text/plain": [
       "array([1, 3, 0, 3, 2, 2, 0, 0, 3, 3])"
      ]
     },
     "execution_count": 96,
     "metadata": {},
     "output_type": "execute_result"
    }
   ],
   "source": [
    "pred = top_model.predict(validation_data)\n",
    "y_pred = pred.argmax(axis=1)\n",
    "y_pred[:10]"
   ]
  },
  {
   "cell_type": "code",
   "execution_count": 97,
   "metadata": {
    "scrolled": true
   },
   "outputs": [
    {
     "data": {
      "text/plain": [
       "{'bacterial': 0, 'covid': 1, 'normal': 2, 'viral': 3}"
      ]
     },
     "execution_count": 97,
     "metadata": {},
     "output_type": "execute_result"
    }
   ],
   "source": [
    "X_val.class_indices"
   ]
  },
  {
   "cell_type": "code",
   "execution_count": 98,
   "metadata": {},
   "outputs": [],
   "source": [
    "y_val = valid_set['label'].map(X_val.class_indices).values"
   ]
  },
  {
   "cell_type": "code",
   "execution_count": 100,
   "metadata": {
    "scrolled": true
   },
   "outputs": [
    {
     "data": {
      "image/png": "[encoded data removed]",
      "text/plain": [
       "<Figure size 432x288 with 2 Axes>"
      ]
     },
     "metadata": {
      "needs_background": "light"
     },
     "output_type": "display_data"
    }
   ],
   "source": [
    "data = {'y_val': y_val[:-2], 'y_pred': y_pred}\n",
    "df = pd.DataFrame(data)\n",
    "confusion_matrix = pd.crosstab(df['y_val'], df['y_pred'], \n",
    "                               rownames=['Actual'], \n",
    "                               colnames=['Predicted'])\n",
    "\n",
    "cmap = sns.diverging_palette(220, 10, as_cmap= True)\n",
    "sns.heatmap(confusion_matrix, annot=True, cmap= cmap)\n",
    "plt.title('Confusion matrix')\n",
    "plt.show()"
   ]
  },
  {
   "cell_type": "code",
   "execution_count": 101,
   "metadata": {
    "scrolled": true
   },
   "outputs": [
    {
     "name": "stdout",
     "output_type": "stream",
     "text": [
      "              precision    recall  f1-score   support\n",
      "\n",
      "           0       0.73      0.66      0.69        70\n",
      "           1       1.00      0.94      0.97        16\n",
      "           2       0.95      0.99      0.97        70\n",
      "           3       0.67      0.72      0.70        68\n",
      "\n",
      "    accuracy                           0.80       224\n",
      "   macro avg       0.84      0.83      0.83       224\n",
      "weighted avg       0.80      0.80      0.80       224\n",
      "\n"
     ]
    }
   ],
   "source": [
    "print(classification_report(y_val[:-2], y_pred))"
   ]
  },
  {
   "cell_type": "markdown",
   "metadata": {},
   "source": [
    "We didn't manage to have better results than with VGG16 in terms of overall accuracy. The performances at classifying the Covid and normal cases are higher though."
   ]
  },
  {
   "cell_type": "markdown",
   "metadata": {},
   "source": [
    "# Fine-tuning the top layers of the network"
   ]
  },
  {
   "cell_type": "markdown",
   "metadata": {},
   "source": [
    "Since we were able to get nice performances with the DenseNet121 network, let's try to fine-tune the top layers to see if we can get top performances."
   ]
  },
  {
   "cell_type": "code",
   "execution_count": 77,
   "metadata": {},
   "outputs": [],
   "source": [
    "pretrained_model = DenseNet121(include_top=False, weights='imagenet', input_shape= (H, W, 3))"
   ]
  },
  {
   "cell_type": "code",
   "execution_count": 78,
   "metadata": {},
   "outputs": [
    {
     "name": "stderr",
     "output_type": "stream",
     "text": [
      "/Users/bertrandthia/anaconda3/lib/python3.7/site-packages/ipykernel_launcher.py:1: UserWarning: Update your `Model` call to the Keras 2 API: `Model(inputs=Tensor(\"in..., outputs=Tensor(\"se...)`\n",
      "  \"\"\"Entry point for launching an IPython kernel.\n"
     ]
    }
   ],
   "source": [
    "model = Model(input= pretrained_model.input, output= top_model(pretrained_model.output))"
   ]
  },
  {
   "cell_type": "code",
   "execution_count": 79,
   "metadata": {},
   "outputs": [
    {
     "data": {
      "text/html": [
       "<div>\n",
       "<style scoped>\n",
       "    .dataframe tbody tr th:only-of-type {\n",
       "        vertical-align: middle;\n",
       "    }\n",
       "\n",
       "    .dataframe tbody tr th {\n",
       "        vertical-align: top;\n",
       "    }\n",
       "\n",
       "    .dataframe thead th {\n",
       "        text-align: right;\n",
       "    }\n",
       "</style>\n",
       "<table border=\"1\" class=\"dataframe\">\n",
       "  <thead>\n",
       "    <tr style=\"text-align: right;\">\n",
       "      <th></th>\n",
       "      <th>layer</th>\n",
       "      <th>trainable</th>\n",
       "    </tr>\n",
       "  </thead>\n",
       "  <tbody>\n",
       "    <tr>\n",
       "      <th>413</th>\n",
       "      <td>conv5_block15_1_conv</td>\n",
       "      <td>False</td>\n",
       "    </tr>\n",
       "    <tr>\n",
       "      <th>414</th>\n",
       "      <td>conv5_block15_1_bn</td>\n",
       "      <td>False</td>\n",
       "    </tr>\n",
       "    <tr>\n",
       "      <th>415</th>\n",
       "      <td>conv5_block15_1_relu</td>\n",
       "      <td>False</td>\n",
       "    </tr>\n",
       "    <tr>\n",
       "      <th>416</th>\n",
       "      <td>conv5_block15_2_conv</td>\n",
       "      <td>False</td>\n",
       "    </tr>\n",
       "    <tr>\n",
       "      <th>417</th>\n",
       "      <td>conv5_block15_concat</td>\n",
       "      <td>False</td>\n",
       "    </tr>\n",
       "    <tr>\n",
       "      <th>418</th>\n",
       "      <td>conv5_block16_0_bn</td>\n",
       "      <td>True</td>\n",
       "    </tr>\n",
       "    <tr>\n",
       "      <th>419</th>\n",
       "      <td>conv5_block16_0_relu</td>\n",
       "      <td>True</td>\n",
       "    </tr>\n",
       "    <tr>\n",
       "      <th>420</th>\n",
       "      <td>conv5_block16_1_conv</td>\n",
       "      <td>True</td>\n",
       "    </tr>\n",
       "    <tr>\n",
       "      <th>421</th>\n",
       "      <td>conv5_block16_1_bn</td>\n",
       "      <td>True</td>\n",
       "    </tr>\n",
       "    <tr>\n",
       "      <th>422</th>\n",
       "      <td>conv5_block16_1_relu</td>\n",
       "      <td>True</td>\n",
       "    </tr>\n",
       "    <tr>\n",
       "      <th>423</th>\n",
       "      <td>conv5_block16_2_conv</td>\n",
       "      <td>True</td>\n",
       "    </tr>\n",
       "    <tr>\n",
       "      <th>424</th>\n",
       "      <td>conv5_block16_concat</td>\n",
       "      <td>True</td>\n",
       "    </tr>\n",
       "    <tr>\n",
       "      <th>425</th>\n",
       "      <td>bn</td>\n",
       "      <td>True</td>\n",
       "    </tr>\n",
       "    <tr>\n",
       "      <th>426</th>\n",
       "      <td>relu</td>\n",
       "      <td>True</td>\n",
       "    </tr>\n",
       "    <tr>\n",
       "      <th>427</th>\n",
       "      <td>sequential_1</td>\n",
       "      <td>True</td>\n",
       "    </tr>\n",
       "  </tbody>\n",
       "</table>\n",
       "</div>"
      ],
      "text/plain": [
       "                    layer  trainable\n",
       "413  conv5_block15_1_conv      False\n",
       "414    conv5_block15_1_bn      False\n",
       "415  conv5_block15_1_relu      False\n",
       "416  conv5_block15_2_conv      False\n",
       "417  conv5_block15_concat      False\n",
       "418    conv5_block16_0_bn       True\n",
       "419  conv5_block16_0_relu       True\n",
       "420  conv5_block16_1_conv       True\n",
       "421    conv5_block16_1_bn       True\n",
       "422  conv5_block16_1_relu       True\n",
       "423  conv5_block16_2_conv       True\n",
       "424  conv5_block16_concat       True\n",
       "425                    bn       True\n",
       "426                  relu       True\n",
       "427          sequential_1       True"
      ]
     },
     "execution_count": 79,
     "metadata": {},
     "output_type": "execute_result"
    }
   ],
   "source": [
    "# Freezing all the blocks but the last one\n",
    "for layer in model.layers[:418]:\n",
    "    layer.trainable = False\n",
    "\n",
    "pd.DataFrame(([layer.name, layer.trainable] for layer in model.layers), columns=['layer', 'trainable']).tail(15)"
   ]
  },
  {
   "cell_type": "code",
   "execution_count": 80,
   "metadata": {},
   "outputs": [
    {
     "name": "stdout",
     "output_type": "stream",
     "text": [
      "Found 901 validated image filenames belonging to 4 classes.\n"
     ]
    }
   ],
   "source": [
    "train_datagen = ImageDataGenerator(samplewise_center=True,\n",
    "                                  samplewise_std_normalization=True, \n",
    "                                  rotation_range= 20,\n",
    "                                  horizontal_flip= True)\n",
    "\n",
    "X_train = train_datagen.flow_from_dataframe(dataframe= train_set,\n",
    "                                            directory= '../train2/',\n",
    "                                            x_col = 'filename',\n",
    "                                            y_col = 'label', \n",
    "                                            target_size = (H, W),\n",
    "                                            batch_size= BATCH_SIZE, \n",
    "                                            shuffle= False)"
   ]
  },
  {
   "cell_type": "code",
   "execution_count": 81,
   "metadata": {},
   "outputs": [],
   "source": [
    "model.compile(loss='binary_crossentropy',\n",
    "              optimizer= SGD(lr=1e-4, momentum=0.9),\n",
    "              metrics=['accuracy'])"
   ]
  },
  {
   "cell_type": "markdown",
   "metadata": {},
   "source": [
    "### Training"
   ]
  },
  {
   "cell_type": "code",
   "execution_count": 29,
   "metadata": {},
   "outputs": [],
   "source": [
    "epochs= 5\n",
    "\n",
    "filepath=\"./tuning/weights-improvement-{epoch:02d}-{val_accuracy:.2f}.hdf5\"\n",
    "checkpoint = ModelCheckpoint(filepath, monitor= 'val_accuracy', verbose= 1, period= 1)"
   ]
  },
  {
   "cell_type": "code",
   "execution_count": 30,
   "metadata": {},
   "outputs": [
    {
     "name": "stdout",
     "output_type": "stream",
     "text": [
      "Epoch 1/5\n",
      "28/28 [==============================] - 196s 7s/step - loss: 0.5719 - accuracy: 0.7546 - val_loss: 0.2088 - val_accuracy: 0.8583\n",
      "\n",
      "Epoch 00001: saving model to ./tuning/weights-improvement-01-0.86.hdf5\n",
      "Epoch 2/5\n",
      "28/28 [==============================] - 188s 7s/step - loss: 0.4378 - accuracy: 0.7975 - val_loss: 0.2946 - val_accuracy: 0.8479\n",
      "\n",
      "Epoch 00002: saving model to ./tuning/weights-improvement-02-0.85.hdf5\n",
      "Epoch 3/5\n",
      "28/28 [==============================] - 181s 6s/step - loss: 0.4423 - accuracy: 0.7992 - val_loss: 0.2667 - val_accuracy: 0.8621\n",
      "\n",
      "Epoch 00003: saving model to ./tuning/weights-improvement-03-0.86.hdf5\n",
      "Epoch 4/5\n",
      "28/28 [==============================] - 191s 7s/step - loss: 0.4169 - accuracy: 0.8036 - val_loss: 0.4136 - val_accuracy: 0.8647\n",
      "\n",
      "Epoch 00004: saving model to ./tuning/weights-improvement-04-0.86.hdf5\n",
      "Epoch 5/5\n",
      "28/28 [==============================] - 183s 7s/step - loss: 0.3968 - accuracy: 0.8124 - val_loss: 0.3117 - val_accuracy: 0.8724\n",
      "\n",
      "Epoch 00005: saving model to ./tuning/weights-improvement-05-0.87.hdf5\n"
     ]
    }
   ],
   "source": [
    "hist = model.fit_generator(X_train,\n",
    "                           epochs= epochs, \n",
    "                           steps_per_epoch= len(train_set) // BATCH_SIZE,\n",
    "                           verbose= 1, \n",
    "                           validation_data = X_val,\n",
    "                           validation_steps= len(valid_set) // BATCH_SIZE,\n",
    "                           class_weight= class_weight,\n",
    "                           callbacks= [checkpoint])"
   ]
  },
  {
   "cell_type": "markdown",
   "metadata": {},
   "source": [
    "The results of the training look better than previously. Fine-tuning the top layers led to better performances!"
   ]
  },
  {
   "cell_type": "markdown",
   "metadata": {},
   "source": [
    "### Evaluating our final model"
   ]
  },
  {
   "cell_type": "code",
   "execution_count": 82,
   "metadata": {},
   "outputs": [],
   "source": [
    "# Loading the best weights\n",
    "model.load_weights(\"./tuning/weights-improvement-05-0.87.hdf5\")"
   ]
  },
  {
   "cell_type": "code",
   "execution_count": 83,
   "metadata": {},
   "outputs": [
    {
     "name": "stdout",
     "output_type": "stream",
     "text": [
      "Found 226 validated image filenames belonging to 4 classes.\n"
     ]
    }
   ],
   "source": [
    "X_val2 = val_datagen.flow_from_dataframe(dataframe= valid_set,\n",
    "                                        directory= '../train2/',\n",
    "                                        x_col = 'filename',\n",
    "                                        y_col = 'label', \n",
    "                                        target_size = (H, W),\n",
    "                                        batch_size= BATCH_SIZE, \n",
    "                                        shuffle= False)"
   ]
  },
  {
   "cell_type": "code",
   "execution_count": 84,
   "metadata": {
    "scrolled": true
   },
   "outputs": [
    {
     "name": "stdout",
     "output_type": "stream",
     "text": [
      "Accuracy on the validation set: 0.864\n"
     ]
    }
   ],
   "source": [
    "evaluation = model.evaluate_generator(X_val2)\n",
    "print('Accuracy on the validation set: {:.3f}'.format(evaluation[1]))"
   ]
  },
  {
   "cell_type": "markdown",
   "metadata": {},
   "source": [
    "--- \n",
    "\n",
    "# Appendix"
   ]
  },
  {
   "cell_type": "markdown",
   "metadata": {},
   "source": [
    "### Looking into the output of the model before fine-tuning the top layers"
   ]
  },
  {
   "cell_type": "markdown",
   "metadata": {},
   "source": [
    "This code allows to get the predictions from our model before fine-tuning the last block, with just the training of the classifier part:"
   ]
  },
  {
   "cell_type": "code",
   "execution_count": 60,
   "metadata": {},
   "outputs": [],
   "source": [
    "model = DenseNet121(include_top=False, weights='imagenet')\n",
    "\n",
    "bottleneck_features_test = model.predict_generator(test_gen(X_test),steps= len(test_df) // BATCH_SIZE2)\n",
    "np.save(open('bottleneck_features_test.npy', 'wb'), bottleneck_features_test)"
   ]
  },
  {
   "cell_type": "code",
   "execution_count": 73,
   "metadata": {
    "scrolled": false
   },
   "outputs": [
    {
     "data": {
      "text/plain": [
       "array([0, 2, 1, 3, 2, 2, 0, 2, 2, 3])"
      ]
     },
     "execution_count": 73,
     "metadata": {},
     "output_type": "execute_result"
    }
   ],
   "source": [
    "test_data = np.load(open('bottleneck_features_test.npy', 'rb'))\n",
    "\n",
    "pred = top_model.predict(test_data)\n",
    "y_pred = pred.argmax(axis=1)\n",
    "y_pred[:10]"
   ]
  },
  {
   "cell_type": "code",
   "execution_count": null,
   "metadata": {},
   "outputs": [],
   "source": []
  }
 ],
 "metadata": {
  "kernelspec": {
   "display_name": "Python 3",
   "language": "python",
   "name": "python3"
  },
  "language_info": {
   "codemirror_mode": {
    "name": "ipython",
    "version": 3
   },
   "file_extension": ".py",
   "mimetype": "text/x-python",
   "name": "python",
   "nbconvert_exporter": "python",
   "pygments_lexer": "ipython3",
   "version": "3.7.5"
  }
 },
 "nbformat": 4,
 "nbformat_minor": 2
}
