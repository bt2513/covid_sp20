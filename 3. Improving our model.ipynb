{
 "cells": [
  {
   "cell_type": "markdown",
   "metadata": {},
   "source": [
    "# Improving our model\n",
    "\n",
    "Bertrand Thia (bt2513)\n",
    "\n",
    "In this notebook, we are going to use the previous knowledge to build an improved model.\n",
    "\n",
    "---"
   ]
  },
  {
   "cell_type": "code",
   "execution_count": 197,
   "metadata": {},
   "outputs": [],
   "source": [
    "# importing the librairies\n",
    "\n",
    "import pandas as pd\n",
    "import numpy as np\n",
    "import matplotlib.pyplot as plt\n",
    "import seaborn as sns\n",
    "from sklearn.model_selection import train_test_split\n",
    "from sklearn.metrics import accuracy_score\n",
    "from keras.preprocessing.image import ImageDataGenerator\n",
    "from keras.models import Sequential\n",
    "from keras.layers import Conv2D, MaxPooling2D, Flatten, Dense, Dropout, BatchNormalization\n",
    "from keras.optimizers import Adam\n",
    "from keras.callbacks.callbacks import EarlyStopping, ModelCheckpoint\n",
    "from sklearn.metrics import confusion_matrix, classification_report\n",
    "from sklearn.utils import compute_class_weight\n",
    "from keras.preprocessing import image\n",
    "\n",
    "np.random.seed(0)"
   ]
  },
  {
   "cell_type": "markdown",
   "metadata": {},
   "source": [
    "# Loading the data and data preprocessing"
   ]
  },
  {
   "cell_type": "code",
   "execution_count": 2,
   "metadata": {
    "scrolled": true
   },
   "outputs": [],
   "source": [
    "train_labels = pd.read_csv('../train.csv')"
   ]
  },
  {
   "cell_type": "markdown",
   "metadata": {},
   "source": [
    "### Splitting into training set and validation set "
   ]
  },
  {
   "cell_type": "code",
   "execution_count": 3,
   "metadata": {},
   "outputs": [],
   "source": [
    "train_set, valid_set = train_test_split(train_labels, test_size= 0.2, random_state= 0, \n",
    "                                        stratify= train_labels['label'])"
   ]
  },
  {
   "cell_type": "code",
   "execution_count": 4,
   "metadata": {
    "scrolled": true
   },
   "outputs": [
    {
     "name": "stdout",
     "output_type": "stream",
     "text": [
      "Train size: 901 \t Validation size: 226\n"
     ]
    }
   ],
   "source": [
    "print('Train size: %d \\t Validation size: %d' %(len(train_set), len(valid_set)))"
   ]
  },
  {
   "cell_type": "code",
   "execution_count": 5,
   "metadata": {},
   "outputs": [
    {
     "data": {
      "text/plain": [
       "normal       280\n",
       "bacterial    280\n",
       "viral        280\n",
       "covid         61\n",
       "Name: label, dtype: int64"
      ]
     },
     "execution_count": 5,
     "metadata": {},
     "output_type": "execute_result"
    }
   ],
   "source": [
    "train_set['label'].value_counts()"
   ]
  },
  {
   "cell_type": "markdown",
   "metadata": {},
   "source": [
    "### Standardization"
   ]
  },
  {
   "cell_type": "markdown",
   "metadata": {},
   "source": [
    "Let's load and standardized our data. To address the overfitting issue, we are going to use data augmentation here. This will allow us to increase the size of our dataset, but also make the classification more challenging. Since our dataset is small, we are just going to use some small image rotation:"
   ]
  },
  {
   "cell_type": "code",
   "execution_count": 6,
   "metadata": {},
   "outputs": [],
   "source": [
    "train_datagen = ImageDataGenerator(samplewise_center=True,\n",
    "                                  samplewise_std_normalization=True, \n",
    "                                  rotation_range= 20)\n",
    "\n",
    "val_datagen = ImageDataGenerator(samplewise_center=True,\n",
    "                                 samplewise_std_normalization=True)"
   ]
  },
  {
   "cell_type": "markdown",
   "metadata": {},
   "source": [
    "Let's use the same parameters as previously:"
   ]
  },
  {
   "cell_type": "code",
   "execution_count": 7,
   "metadata": {},
   "outputs": [
    {
     "name": "stdout",
     "output_type": "stream",
     "text": [
      "Found 901 validated image filenames belonging to 4 classes.\n",
      "Found 226 validated image filenames belonging to 4 classes.\n"
     ]
    }
   ],
   "source": [
    "BATCH_SIZE = 32\n",
    "W = 312\n",
    "H = 251\n",
    "\n",
    "X_train = train_datagen.flow_from_dataframe(dataframe= train_set,\n",
    "                                            directory= '../train/',\n",
    "                                            x_col = 'filename',\n",
    "                                            y_col = 'label', \n",
    "                                            target_size = (W, H),\n",
    "                                            batch_size= BATCH_SIZE, \n",
    "                                            color_mode= 'grayscale',\n",
    "                                            seed= 0)\n",
    "\n",
    "X_val = val_datagen.flow_from_dataframe(dataframe= valid_set,\n",
    "                                        directory= '../train/',\n",
    "                                        x_col = 'filename',\n",
    "                                        y_col = 'label', \n",
    "                                        target_size = (W, H),\n",
    "                                        batch_size= BATCH_SIZE, \n",
    "                                        color_mode= 'grayscale',\n",
    "                                        seed= 0)"
   ]
  },
  {
   "cell_type": "markdown",
   "metadata": {},
   "source": [
    "# Model building"
   ]
  },
  {
   "cell_type": "markdown",
   "metadata": {},
   "source": [
    "We are first going to keep the same structure for our model since it worked quite well and see if we can avoid overfitting:"
   ]
  },
  {
   "cell_type": "code",
   "execution_count": 40,
   "metadata": {},
   "outputs": [],
   "source": [
    "bas_model = Sequential()\n",
    "bas_model.add(Conv2D(16, (3, 3), input_shape= (W, H, 1), activation= 'relu'))\n",
    "bas_model.add(MaxPooling2D(pool_size= (2, 2)))\n",
    "\n",
    "bas_model.add(Conv2D(32, (3, 3), activation= 'relu'))\n",
    "bas_model.add(Conv2D(32, (3, 3), activation= 'relu'))\n",
    "bas_model.add(BatchNormalization())\n",
    "bas_model.add(MaxPooling2D(pool_size= (2, 2)))\n",
    "bas_model.add(Dropout(0.25)) \n",
    "\n",
    "bas_model.add(Flatten())\n",
    "\n",
    "bas_model.add(Dense(units= 128, activation= 'relu')) \n",
    "bas_model.add(Dropout(0.5)) \n",
    "\n",
    "bas_model.add(Dense(units= 64, activation= 'relu')) \n",
    "bas_model.add(Dropout(0.3)) \n",
    "\n",
    "bas_model.add(Dense(units= 4, activation= 'softmax'))"
   ]
  },
  {
   "cell_type": "code",
   "execution_count": 41,
   "metadata": {},
   "outputs": [
    {
     "name": "stdout",
     "output_type": "stream",
     "text": [
      "Model: \"sequential_2\"\n",
      "_________________________________________________________________\n",
      "Layer (type)                 Output Shape              Param #   \n",
      "=================================================================\n",
      "conv2d_4 (Conv2D)            (None, 310, 249, 16)      160       \n",
      "_________________________________________________________________\n",
      "max_pooling2d_3 (MaxPooling2 (None, 155, 124, 16)      0         \n",
      "_________________________________________________________________\n",
      "conv2d_5 (Conv2D)            (None, 153, 122, 32)      4640      \n",
      "_________________________________________________________________\n",
      "conv2d_6 (Conv2D)            (None, 151, 120, 32)      9248      \n",
      "_________________________________________________________________\n",
      "batch_normalization_2 (Batch (None, 151, 120, 32)      128       \n",
      "_________________________________________________________________\n",
      "max_pooling2d_4 (MaxPooling2 (None, 75, 60, 32)        0         \n",
      "_________________________________________________________________\n",
      "dropout_4 (Dropout)          (None, 75, 60, 32)        0         \n",
      "_________________________________________________________________\n",
      "flatten_2 (Flatten)          (None, 144000)            0         \n",
      "_________________________________________________________________\n",
      "dense_4 (Dense)              (None, 128)               18432128  \n",
      "_________________________________________________________________\n",
      "dropout_5 (Dropout)          (None, 128)               0         \n",
      "_________________________________________________________________\n",
      "dense_5 (Dense)              (None, 64)                8256      \n",
      "_________________________________________________________________\n",
      "dropout_6 (Dropout)          (None, 64)                0         \n",
      "_________________________________________________________________\n",
      "dense_6 (Dense)              (None, 4)                 260       \n",
      "=================================================================\n",
      "Total params: 18,454,820\n",
      "Trainable params: 18,454,756\n",
      "Non-trainable params: 64\n",
      "_________________________________________________________________\n"
     ]
    }
   ],
   "source": [
    "bas_model.summary()"
   ]
  },
  {
   "cell_type": "code",
   "execution_count": 42,
   "metadata": {},
   "outputs": [],
   "source": [
    "bas_model.compile(loss= 'categorical_crossentropy',\n",
    "                 optimizer= Adam(lr= 1e-4), \n",
    "                 metrics = ['accuracy'])"
   ]
  },
  {
   "cell_type": "markdown",
   "metadata": {},
   "source": [
    "### Training "
   ]
  },
  {
   "cell_type": "code",
   "execution_count": 11,
   "metadata": {},
   "outputs": [],
   "source": [
    "epochs= 70\n",
    "#es = EarlyStopping(monitor='val_accuracy', mode='max', verbose=1, restore_best_weights= True, patience= 3)\n",
    "filepath=\"weights-improvement-{epoch:02d}-{val_accuracy:.2f}.hdf5\"\n",
    "checkpoint = ModelCheckpoint(filepath, monitor= 'val_accuracy', verbose= 1, period= 1)"
   ]
  },
  {
   "cell_type": "markdown",
   "metadata": {},
   "source": [
    "Since our dataset is imbalanced, we are going to use class weigthing to address the issue:"
   ]
  },
  {
   "cell_type": "code",
   "execution_count": 12,
   "metadata": {},
   "outputs": [
    {
     "data": {
      "text/plain": [
       "array([0.80446429, 3.69262295, 0.80446429, 0.80446429])"
      ]
     },
     "execution_count": 12,
     "metadata": {},
     "output_type": "execute_result"
    }
   ],
   "source": [
    "train_set2 = train_set.copy()\n",
    "train_set2['label'] = train_set2['label'].map({'bacterial': 0, 'covid': 1, 'normal': 2, 'viral': 3})\n",
    "class_weight = compute_class_weight('balanced', [0, 1, 2, 3], train_set2['label'])\n",
    "class_weight"
   ]
  },
  {
   "cell_type": "code",
   "execution_count": 13,
   "metadata": {
    "scrolled": true
   },
   "outputs": [
    {
     "name": "stdout",
     "output_type": "stream",
     "text": [
      "Epoch 1/70\n",
      "28/28 [==============================] - 35s 1s/step - loss: 1.7419 - accuracy: 0.3867 - val_loss: 1.3244 - val_accuracy: 0.5045\n",
      "\n",
      "Epoch 00001: saving model to weights-improvement-01-0.50.hdf5\n",
      "Epoch 2/70\n",
      "28/28 [==============================] - 38s 1s/step - loss: 1.1699 - accuracy: 0.4925 - val_loss: 1.1872 - val_accuracy: 0.4794\n",
      "\n",
      "Epoch 00002: saving model to weights-improvement-02-0.48.hdf5\n",
      "Epoch 3/70\n",
      "28/28 [==============================] - 38s 1s/step - loss: 1.1496 - accuracy: 0.5257 - val_loss: 1.2527 - val_accuracy: 0.6649\n",
      "\n",
      "Epoch 00003: saving model to weights-improvement-03-0.66.hdf5\n",
      "Epoch 4/70\n",
      "28/28 [==============================] - 36s 1s/step - loss: 1.0313 - accuracy: 0.5796 - val_loss: 1.1978 - val_accuracy: 0.7423\n",
      "\n",
      "Epoch 00004: saving model to weights-improvement-04-0.74.hdf5\n",
      "Epoch 5/70\n",
      "28/28 [==============================] - 35s 1s/step - loss: 0.9903 - accuracy: 0.5892 - val_loss: 1.1931 - val_accuracy: 0.7371\n",
      "\n",
      "Epoch 00005: saving model to weights-improvement-05-0.74.hdf5\n",
      "Epoch 6/70\n",
      "28/28 [==============================] - 36s 1s/step - loss: 0.9783 - accuracy: 0.6041 - val_loss: 1.1170 - val_accuracy: 0.7010\n",
      "\n",
      "Epoch 00006: saving model to weights-improvement-06-0.70.hdf5\n",
      "Epoch 7/70\n",
      "28/28 [==============================] - 37s 1s/step - loss: 0.9698 - accuracy: 0.5737 - val_loss: 1.1477 - val_accuracy: 0.7320\n",
      "\n",
      "Epoch 00007: saving model to weights-improvement-07-0.73.hdf5\n",
      "Epoch 8/70\n",
      "28/28 [==============================] - 35s 1s/step - loss: 0.9604 - accuracy: 0.5796 - val_loss: 0.9916 - val_accuracy: 0.6753\n",
      "\n",
      "Epoch 00008: saving model to weights-improvement-08-0.68.hdf5\n",
      "Epoch 9/70\n",
      "28/28 [==============================] - 38s 1s/step - loss: 0.8615 - accuracy: 0.6217 - val_loss: 1.0604 - val_accuracy: 0.6830\n",
      "\n",
      "Epoch 00009: saving model to weights-improvement-09-0.68.hdf5\n",
      "Epoch 10/70\n",
      "28/28 [==============================] - 39s 1s/step - loss: 0.8369 - accuracy: 0.6467 - val_loss: 0.9678 - val_accuracy: 0.6753\n",
      "\n",
      "Epoch 00010: saving model to weights-improvement-10-0.68.hdf5\n",
      "Epoch 11/70\n",
      "28/28 [==============================] - 38s 1s/step - loss: 0.8123 - accuracy: 0.6421 - val_loss: 0.8618 - val_accuracy: 0.6753\n",
      "\n",
      "Epoch 00011: saving model to weights-improvement-11-0.68.hdf5\n",
      "Epoch 12/70\n",
      "28/28 [==============================] - 36s 1s/step - loss: 0.8217 - accuracy: 0.6502 - val_loss: 0.9759 - val_accuracy: 0.6443\n",
      "\n",
      "Epoch 00012: saving model to weights-improvement-12-0.64.hdf5\n",
      "Epoch 13/70\n",
      "28/28 [==============================] - 35s 1s/step - loss: 0.8097 - accuracy: 0.6496 - val_loss: 0.9721 - val_accuracy: 0.7062\n",
      "\n",
      "Epoch 00013: saving model to weights-improvement-13-0.71.hdf5\n",
      "Epoch 14/70\n",
      "28/28 [==============================] - 37s 1s/step - loss: 0.8372 - accuracy: 0.6451 - val_loss: 0.8505 - val_accuracy: 0.6753\n",
      "\n",
      "Epoch 00014: saving model to weights-improvement-14-0.68.hdf5\n",
      "Epoch 15/70\n",
      "28/28 [==============================] - 36s 1s/step - loss: 0.7050 - accuracy: 0.6841 - val_loss: 0.7386 - val_accuracy: 0.6598\n",
      "\n",
      "Epoch 00015: saving model to weights-improvement-15-0.66.hdf5\n",
      "Epoch 16/70\n",
      "28/28 [==============================] - 40s 1s/step - loss: 0.7461 - accuracy: 0.6931 - val_loss: 0.6914 - val_accuracy: 0.7062\n",
      "\n",
      "Epoch 00016: saving model to weights-improvement-16-0.71.hdf5\n",
      "Epoch 17/70\n",
      "28/28 [==============================] - 38s 1s/step - loss: 0.6812 - accuracy: 0.7273 - val_loss: 0.7288 - val_accuracy: 0.7321\n",
      "\n",
      "Epoch 00017: saving model to weights-improvement-17-0.73.hdf5\n",
      "Epoch 18/70\n",
      "28/28 [==============================] - 36s 1s/step - loss: 0.7502 - accuracy: 0.6888 - val_loss: 0.7332 - val_accuracy: 0.7010\n",
      "\n",
      "Epoch 00018: saving model to weights-improvement-18-0.70.hdf5\n",
      "Epoch 19/70\n",
      "28/28 [==============================] - 36s 1s/step - loss: 0.7006 - accuracy: 0.7181 - val_loss: 0.7924 - val_accuracy: 0.6546\n",
      "\n",
      "Epoch 00019: saving model to weights-improvement-19-0.65.hdf5\n",
      "Epoch 20/70\n",
      "28/28 [==============================] - 36s 1s/step - loss: 0.7091 - accuracy: 0.7043 - val_loss: 0.5890 - val_accuracy: 0.7010\n",
      "\n",
      "Epoch 00020: saving model to weights-improvement-20-0.70.hdf5\n",
      "Epoch 21/70\n",
      "28/28 [==============================] - 37s 1s/step - loss: 0.6874 - accuracy: 0.7087 - val_loss: 0.6596 - val_accuracy: 0.6907\n",
      "\n",
      "Epoch 00021: saving model to weights-improvement-21-0.69.hdf5\n",
      "Epoch 22/70\n",
      "28/28 [==============================] - 36s 1s/step - loss: 0.6513 - accuracy: 0.7280 - val_loss: 0.6233 - val_accuracy: 0.7010\n",
      "\n",
      "Epoch 00022: saving model to weights-improvement-22-0.70.hdf5\n",
      "Epoch 23/70\n",
      "28/28 [==============================] - 42s 1s/step - loss: 0.6335 - accuracy: 0.7533 - val_loss: 0.7560 - val_accuracy: 0.7320\n",
      "\n",
      "Epoch 00023: saving model to weights-improvement-23-0.73.hdf5\n",
      "Epoch 24/70\n",
      "28/28 [==============================] - 37s 1s/step - loss: 0.6435 - accuracy: 0.7162 - val_loss: 0.4146 - val_accuracy: 0.7371\n",
      "\n",
      "Epoch 00024: saving model to weights-improvement-24-0.74.hdf5\n",
      "Epoch 25/70\n",
      "28/28 [==============================] - 39s 1s/step - loss: 0.6554 - accuracy: 0.7288 - val_loss: 0.4246 - val_accuracy: 0.7500\n",
      "\n",
      "Epoch 00025: saving model to weights-improvement-25-0.75.hdf5\n",
      "Epoch 26/70\n",
      "28/28 [==============================] - 37s 1s/step - loss: 0.6277 - accuracy: 0.7250 - val_loss: 0.6316 - val_accuracy: 0.7474\n",
      "\n",
      "Epoch 00026: saving model to weights-improvement-26-0.75.hdf5\n",
      "Epoch 27/70\n",
      "28/28 [==============================] - 37s 1s/step - loss: 0.6286 - accuracy: 0.7468 - val_loss: 0.7436 - val_accuracy: 0.7526\n",
      "\n",
      "Epoch 00027: saving model to weights-improvement-27-0.75.hdf5\n",
      "Epoch 28/70\n",
      "28/28 [==============================] - 40s 1s/step - loss: 0.5953 - accuracy: 0.7560 - val_loss: 0.6004 - val_accuracy: 0.7062\n",
      "\n",
      "Epoch 00028: saving model to weights-improvement-28-0.71.hdf5\n",
      "Epoch 29/70\n",
      "28/28 [==============================] - 36s 1s/step - loss: 0.5862 - accuracy: 0.7468 - val_loss: 0.5330 - val_accuracy: 0.7629\n",
      "\n",
      "Epoch 00029: saving model to weights-improvement-29-0.76.hdf5\n",
      "Epoch 30/70\n",
      "28/28 [==============================] - 37s 1s/step - loss: 0.5355 - accuracy: 0.7664 - val_loss: 0.3583 - val_accuracy: 0.7320\n",
      "\n",
      "Epoch 00030: saving model to weights-improvement-30-0.73.hdf5\n",
      "Epoch 31/70\n",
      "28/28 [==============================] - 37s 1s/step - loss: 0.5717 - accuracy: 0.7606 - val_loss: 0.6214 - val_accuracy: 0.6907\n",
      "\n",
      "Epoch 00031: saving model to weights-improvement-31-0.69.hdf5\n",
      "Epoch 32/70\n",
      "28/28 [==============================] - 38s 1s/step - loss: 0.5198 - accuracy: 0.7991 - val_loss: 3.2933 - val_accuracy: 0.7680\n",
      "\n",
      "Epoch 00032: saving model to weights-improvement-32-0.77.hdf5\n",
      "Epoch 33/70\n",
      "28/28 [==============================] - 36s 1s/step - loss: 0.5851 - accuracy: 0.7482 - val_loss: 0.5851 - val_accuracy: 0.7723\n",
      "\n",
      "Epoch 00033: saving model to weights-improvement-33-0.77.hdf5\n",
      "Epoch 34/70\n",
      "28/28 [==============================] - 38s 1s/step - loss: 0.5281 - accuracy: 0.7837 - val_loss: 0.9236 - val_accuracy: 0.7062\n",
      "\n",
      "Epoch 00034: saving model to weights-improvement-34-0.71.hdf5\n",
      "Epoch 35/70\n",
      "28/28 [==============================] - 38s 1s/step - loss: 0.4986 - accuracy: 0.7891 - val_loss: 0.5059 - val_accuracy: 0.7423\n",
      "\n",
      "Epoch 00035: saving model to weights-improvement-35-0.74.hdf5\n",
      "Epoch 36/70\n",
      "28/28 [==============================] - 41s 1s/step - loss: 0.5282 - accuracy: 0.7910 - val_loss: 0.5683 - val_accuracy: 0.7216\n",
      "\n",
      "Epoch 00036: saving model to weights-improvement-36-0.72.hdf5\n",
      "Epoch 37/70\n",
      "28/28 [==============================] - 39s 1s/step - loss: 0.5187 - accuracy: 0.7871 - val_loss: 0.3835 - val_accuracy: 0.7577\n",
      "\n",
      "Epoch 00037: saving model to weights-improvement-37-0.76.hdf5\n",
      "Epoch 38/70\n",
      "28/28 [==============================] - 41s 1s/step - loss: 0.4653 - accuracy: 0.8025 - val_loss: 0.6949 - val_accuracy: 0.7577\n",
      "\n",
      "Epoch 00038: saving model to weights-improvement-38-0.76.hdf5\n",
      "Epoch 39/70\n",
      "28/28 [==============================] - 38s 1s/step - loss: 0.4936 - accuracy: 0.7933 - val_loss: 0.5083 - val_accuracy: 0.7474\n",
      "\n",
      "Epoch 00039: saving model to weights-improvement-39-0.75.hdf5\n",
      "Epoch 40/70\n",
      "28/28 [==============================] - 39s 1s/step - loss: 0.4669 - accuracy: 0.7929 - val_loss: 2.0546 - val_accuracy: 0.7216\n",
      "\n",
      "Epoch 00040: saving model to weights-improvement-40-0.72.hdf5\n",
      "Epoch 41/70\n",
      "28/28 [==============================] - 41s 1s/step - loss: 0.4307 - accuracy: 0.8170 - val_loss: 0.7238 - val_accuracy: 0.7455\n",
      "\n",
      "Epoch 00041: saving model to weights-improvement-41-0.75.hdf5\n",
      "Epoch 42/70\n",
      "28/28 [==============================] - 38s 1s/step - loss: 0.4353 - accuracy: 0.8308 - val_loss: 0.4684 - val_accuracy: 0.7680\n",
      "\n",
      "Epoch 00042: saving model to weights-improvement-42-0.77.hdf5\n",
      "Epoch 43/70\n",
      "28/28 [==============================] - 40s 1s/step - loss: 0.4574 - accuracy: 0.8025 - val_loss: 0.4667 - val_accuracy: 0.7784\n",
      "\n",
      "Epoch 00043: saving model to weights-improvement-43-0.78.hdf5\n",
      "Epoch 44/70\n",
      "28/28 [==============================] - 41s 1s/step - loss: 0.4872 - accuracy: 0.7998 - val_loss: 1.1275 - val_accuracy: 0.7320\n",
      "\n",
      "Epoch 00044: saving model to weights-improvement-44-0.73.hdf5\n",
      "Epoch 45/70\n",
      "28/28 [==============================] - 39s 1s/step - loss: 0.4856 - accuracy: 0.7917 - val_loss: 0.7566 - val_accuracy: 0.7629\n",
      "\n",
      "Epoch 00045: saving model to weights-improvement-45-0.76.hdf5\n",
      "Epoch 46/70\n",
      "28/28 [==============================] - 38s 1s/step - loss: 0.4121 - accuracy: 0.8216 - val_loss: 0.7342 - val_accuracy: 0.7371\n",
      "\n",
      "Epoch 00046: saving model to weights-improvement-46-0.74.hdf5\n",
      "Epoch 47/70\n",
      "28/28 [==============================] - 39s 1s/step - loss: 0.4763 - accuracy: 0.8009 - val_loss: 0.6085 - val_accuracy: 0.7423\n",
      "\n",
      "Epoch 00047: saving model to weights-improvement-47-0.74.hdf5\n",
      "Epoch 48/70\n",
      "28/28 [==============================] - 38s 1s/step - loss: 0.4179 - accuracy: 0.8254 - val_loss: 0.2026 - val_accuracy: 0.7732\n",
      "\n",
      "Epoch 00048: saving model to weights-improvement-48-0.77.hdf5\n",
      "Epoch 49/70\n",
      "28/28 [==============================] - 39s 1s/step - loss: 0.4295 - accuracy: 0.8326 - val_loss: 0.8191 - val_accuracy: 0.7366\n",
      "\n",
      "Epoch 00049: saving model to weights-improvement-49-0.74.hdf5\n",
      "Epoch 50/70\n",
      "28/28 [==============================] - 39s 1s/step - loss: 0.4606 - accuracy: 0.8412 - val_loss: 0.3852 - val_accuracy: 0.7784\n",
      "\n",
      "Epoch 00050: saving model to weights-improvement-50-0.78.hdf5\n",
      "Epoch 51/70\n",
      "28/28 [==============================] - 39s 1s/step - loss: 0.4166 - accuracy: 0.8320 - val_loss: 0.7593 - val_accuracy: 0.6907\n",
      "\n",
      "Epoch 00051: saving model to weights-improvement-51-0.69.hdf5\n",
      "Epoch 52/70\n",
      "28/28 [==============================] - 38s 1s/step - loss: 0.3863 - accuracy: 0.8389 - val_loss: 0.8888 - val_accuracy: 0.7629\n",
      "\n",
      "Epoch 00052: saving model to weights-improvement-52-0.76.hdf5\n",
      "Epoch 53/70\n",
      "28/28 [==============================] - 38s 1s/step - loss: 0.4053 - accuracy: 0.8435 - val_loss: 0.6200 - val_accuracy: 0.7629\n",
      "\n",
      "Epoch 00053: saving model to weights-improvement-53-0.76.hdf5\n",
      "Epoch 54/70\n",
      "28/28 [==============================] - 43s 2s/step - loss: 0.4106 - accuracy: 0.8400 - val_loss: 0.6151 - val_accuracy: 0.7165\n",
      "\n",
      "Epoch 00054: saving model to weights-improvement-54-0.72.hdf5\n",
      "Epoch 55/70\n",
      "28/28 [==============================] - 40s 1s/step - loss: 0.4075 - accuracy: 0.8205 - val_loss: 1.0320 - val_accuracy: 0.7680\n",
      "\n",
      "Epoch 00055: saving model to weights-improvement-55-0.77.hdf5\n",
      "Epoch 56/70\n",
      "28/28 [==============================] - 42s 2s/step - loss: 0.3889 - accuracy: 0.8354 - val_loss: 0.2770 - val_accuracy: 0.7629\n",
      "\n",
      "Epoch 00056: saving model to weights-improvement-56-0.76.hdf5\n",
      "Epoch 57/70\n",
      "28/28 [==============================] - 42s 2s/step - loss: 0.3909 - accuracy: 0.8400 - val_loss: 0.5192 - val_accuracy: 0.7589\n",
      "\n",
      "Epoch 00057: saving model to weights-improvement-57-0.76.hdf5\n",
      "Epoch 58/70\n",
      "28/28 [==============================] - 41s 1s/step - loss: 0.4117 - accuracy: 0.8423 - val_loss: 0.9187 - val_accuracy: 0.7526\n",
      "\n",
      "Epoch 00058: saving model to weights-improvement-58-0.75.hdf5\n",
      "Epoch 59/70\n",
      "28/28 [==============================] - 38s 1s/step - loss: 0.4001 - accuracy: 0.8354 - val_loss: 0.4494 - val_accuracy: 0.7113\n",
      "\n",
      "Epoch 00059: saving model to weights-improvement-59-0.71.hdf5\n",
      "Epoch 60/70\n",
      "28/28 [==============================] - 41s 1s/step - loss: 0.3556 - accuracy: 0.8470 - val_loss: 0.5235 - val_accuracy: 0.8402\n",
      "\n",
      "Epoch 00060: saving model to weights-improvement-60-0.84.hdf5\n",
      "Epoch 61/70\n",
      "28/28 [==============================] - 41s 1s/step - loss: 0.3368 - accuracy: 0.8711 - val_loss: 0.6717 - val_accuracy: 0.7268\n",
      "\n",
      "Epoch 00061: saving model to weights-improvement-61-0.73.hdf5\n",
      "Epoch 62/70\n",
      "28/28 [==============================] - 39s 1s/step - loss: 0.3914 - accuracy: 0.8389 - val_loss: 0.3639 - val_accuracy: 0.7784\n",
      "\n",
      "Epoch 00062: saving model to weights-improvement-62-0.78.hdf5\n",
      "Epoch 63/70\n",
      "28/28 [==============================] - 40s 1s/step - loss: 0.3659 - accuracy: 0.8627 - val_loss: 0.4422 - val_accuracy: 0.7680\n",
      "\n",
      "Epoch 00063: saving model to weights-improvement-63-0.77.hdf5\n",
      "Epoch 64/70\n",
      "28/28 [==============================] - 37s 1s/step - loss: 0.3181 - accuracy: 0.8670 - val_loss: 0.6438 - val_accuracy: 0.7526\n",
      "\n",
      "Epoch 00064: saving model to weights-improvement-64-0.75.hdf5\n",
      "Epoch 65/70\n",
      "28/28 [==============================] - 40s 1s/step - loss: 0.3122 - accuracy: 0.8616 - val_loss: 0.9491 - val_accuracy: 0.7500\n",
      "\n",
      "Epoch 00065: saving model to weights-improvement-65-0.75.hdf5\n",
      "Epoch 66/70\n",
      "28/28 [==============================] - 37s 1s/step - loss: 0.3265 - accuracy: 0.8515 - val_loss: 0.9093 - val_accuracy: 0.7526\n",
      "\n",
      "Epoch 00066: saving model to weights-improvement-66-0.75.hdf5\n",
      "Epoch 67/70\n",
      "28/28 [==============================] - 39s 1s/step - loss: 0.2952 - accuracy: 0.8828 - val_loss: 0.5854 - val_accuracy: 0.7680\n",
      "\n",
      "Epoch 00067: saving model to weights-improvement-67-0.77.hdf5\n",
      "Epoch 68/70\n",
      "28/28 [==============================] - 42s 1s/step - loss: 0.3104 - accuracy: 0.8619 - val_loss: 1.0614 - val_accuracy: 0.7629\n",
      "\n",
      "Epoch 00068: saving model to weights-improvement-68-0.76.hdf5\n",
      "Epoch 69/70\n",
      "28/28 [==============================] - 41s 1s/step - loss: 0.2974 - accuracy: 0.8884 - val_loss: 0.4710 - val_accuracy: 0.7938\n",
      "\n",
      "Epoch 00069: saving model to weights-improvement-69-0.79.hdf5\n",
      "Epoch 70/70\n",
      "28/28 [==============================] - 37s 1s/step - loss: 0.3137 - accuracy: 0.8729 - val_loss: 1.0187 - val_accuracy: 0.7423\n",
      "\n",
      "Epoch 00070: saving model to weights-improvement-70-0.74.hdf5\n"
     ]
    }
   ],
   "source": [
    "hist = bas_model.fit_generator(X_train, \n",
    "                                steps_per_epoch= len(train_set) // BATCH_SIZE, \n",
    "                                epochs= epochs, \n",
    "                                verbose= 1, \n",
    "                                validation_data = X_val, \n",
    "                                validation_steps= len(valid_set) // BATCH_SIZE,\n",
    "                                class_weight= class_weight,\n",
    "                                callbacks= [checkpoint])"
   ]
  },
  {
   "cell_type": "code",
   "execution_count": 14,
   "metadata": {},
   "outputs": [
    {
     "data": {
      "image/png": "[encoded data removed]",
      "text/plain": [
       "<Figure size 1080x360 with 2 Axes>"
      ]
     },
     "metadata": {
      "needs_background": "light"
     },
     "output_type": "display_data"
    }
   ],
   "source": [
    "# Plotting the training curves\n",
    "\n",
    "fig, axs = plt.subplots(1, 2, figsize= (15, 5))\n",
    "\n",
    "# Plot training & validation accuracy values\n",
    "axs[0].plot(hist.history['accuracy'])\n",
    "axs[0].plot(hist.history['val_accuracy'])\n",
    "axs[0].set_title('Model accuracy')\n",
    "axs[0].set_ylabel('Accuracy')\n",
    "axs[0].set_xlabel('Epoch')\n",
    "axs[0].legend(['Train', 'Valid'], loc='upper left')\n",
    "axs[0].grid()\n",
    "\n",
    "# Plot training & validation loss values\n",
    "axs[1].plot(hist.history['loss'])\n",
    "axs[1].plot(hist.history['val_loss'])\n",
    "axs[1].set_title('Model loss')\n",
    "axs[1].set_ylabel('Loss')\n",
    "axs[1].set_xlabel('Epoch')\n",
    "axs[1].grid()\n",
    "axs[1].legend(['Train', 'Valid'], loc='upper left')\n",
    "plt.show()"
   ]
  },
  {
   "cell_type": "markdown",
   "metadata": {},
   "source": [
    "### Evaluating our best model"
   ]
  },
  {
   "cell_type": "code",
   "execution_count": 294,
   "metadata": {},
   "outputs": [],
   "source": [
    "# Loading the best weights\n",
    "bas_model.load_weights(\"weights-improvement-43-0.78.hdf5\")\n",
    "#bas_model.load_weights(\"weights-improvement-60-0.84.hdf5\")"
   ]
  },
  {
   "cell_type": "code",
   "execution_count": 295,
   "metadata": {
    "scrolled": true
   },
   "outputs": [
    {
     "name": "stdout",
     "output_type": "stream",
     "text": [
      "Accuracy on the validation set: 0.779\n"
     ]
    }
   ],
   "source": [
    "evaluation = bas_model.evaluate_generator(X_val)\n",
    "print('Accuracy on the validation set: {:.3f}'.format(evaluation[1]))"
   ]
  },
  {
   "cell_type": "code",
   "execution_count": 242,
   "metadata": {},
   "outputs": [
    {
     "name": "stdout",
     "output_type": "stream",
     "text": [
      "Found 226 validated image filenames belonging to 4 classes.\n"
     ]
    }
   ],
   "source": [
    "# Loading the validation set manually to compare the results without the shuffling\n",
    "X_val2 = val_datagen.flow_from_dataframe(dataframe= valid_set,\n",
    "                                        directory= '../train/',\n",
    "                                        x_col = 'filename',\n",
    "                                        y_col = 'label', \n",
    "                                        target_size = (W, H),\n",
    "                                        batch_size= BATCH_SIZE, \n",
    "                                        color_mode= 'grayscale',\n",
    "                                        shuffle= False)"
   ]
  },
  {
   "cell_type": "code",
   "execution_count": 243,
   "metadata": {
    "scrolled": true
   },
   "outputs": [
    {
     "data": {
      "text/plain": [
       "array([1, 3, 0, 0, 2, 2, 3, 0, 3, 2])"
      ]
     },
     "execution_count": 243,
     "metadata": {},
     "output_type": "execute_result"
    }
   ],
   "source": [
    "pred = bas_model.predict_generator(X_val2)\n",
    "y_pred = pred.argmax(axis=1)\n",
    "y_pred[:10]"
   ]
  },
  {
   "cell_type": "code",
   "execution_count": 244,
   "metadata": {
    "scrolled": true
   },
   "outputs": [
    {
     "data": {
      "text/plain": [
       "{'bacterial': 0, 'covid': 1, 'normal': 2, 'viral': 3}"
      ]
     },
     "execution_count": 244,
     "metadata": {},
     "output_type": "execute_result"
    }
   ],
   "source": [
    "X_val.class_indices"
   ]
  },
  {
   "cell_type": "code",
   "execution_count": 245,
   "metadata": {},
   "outputs": [],
   "source": [
    "y_val = valid_set['label'].map(X_val.class_indices).values"
   ]
  },
  {
   "cell_type": "code",
   "execution_count": 246,
   "metadata": {
    "scrolled": true
   },
   "outputs": [
    {
     "data": {
      "image/png": "[encoded data removed]",
      "text/plain": [
       "<Figure size 432x288 with 2 Axes>"
      ]
     },
     "metadata": {
      "needs_background": "light"
     },
     "output_type": "display_data"
    }
   ],
   "source": [
    "data = {'y_val': y_val, 'y_pred': y_pred}\n",
    "df = pd.DataFrame(data)\n",
    "confusion_matrix = pd.crosstab(df['y_val'], df['y_pred'], \n",
    "                               rownames=['Actual'], \n",
    "                               colnames=['Predicted'],\n",
    "                               normalize= 'index')\n",
    "\n",
    "cmap = sns.diverging_palette(220, 10, as_cmap= True)\n",
    "sns.heatmap(confusion_matrix, annot=True, cmap= cmap)\n",
    "plt.title('Confusion matrix')\n",
    "plt.show()"
   ]
  },
  {
   "cell_type": "code",
   "execution_count": 247,
   "metadata": {
    "scrolled": true
   },
   "outputs": [
    {
     "name": "stdout",
     "output_type": "stream",
     "text": [
      "              precision    recall  f1-score   support\n",
      "\n",
      "           0       0.75      0.69      0.72        70\n",
      "           1       0.87      0.81      0.84        16\n",
      "           2       0.82      0.96      0.88        70\n",
      "           3       0.74      0.69      0.71        70\n",
      "\n",
      "    accuracy                           0.78       226\n",
      "   macro avg       0.79      0.79      0.79       226\n",
      "weighted avg       0.78      0.78      0.77       226\n",
      "\n"
     ]
    }
   ],
   "source": [
    "print(classification_report(y_val, y_pred))"
   ]
  },
  {
   "cell_type": "markdown",
   "metadata": {},
   "source": [
    "# Predicting on the test set"
   ]
  },
  {
   "cell_type": "markdown",
   "metadata": {},
   "source": [
    "In this section, we are going to predict the labels of the test set using our improved model and save them."
   ]
  },
  {
   "cell_type": "markdown",
   "metadata": {},
   "source": [
    "### Loading the test set"
   ]
  },
  {
   "cell_type": "code",
   "execution_count": 248,
   "metadata": {
    "scrolled": true
   },
   "outputs": [],
   "source": [
    "test_df = pd.read_csv('../test.csv')"
   ]
  },
  {
   "cell_type": "code",
   "execution_count": 249,
   "metadata": {
    "scrolled": true
   },
   "outputs": [
    {
     "data": {
      "text/html": [
       "<div>\n",
       "<style scoped>\n",
       "    .dataframe tbody tr th:only-of-type {\n",
       "        vertical-align: middle;\n",
       "    }\n",
       "\n",
       "    .dataframe tbody tr th {\n",
       "        vertical-align: top;\n",
       "    }\n",
       "\n",
       "    .dataframe thead th {\n",
       "        text-align: right;\n",
       "    }\n",
       "</style>\n",
       "<table border=\"1\" class=\"dataframe\">\n",
       "  <thead>\n",
       "    <tr style=\"text-align: right;\">\n",
       "      <th></th>\n",
       "      <th>id</th>\n",
       "      <th>filename</th>\n",
       "    </tr>\n",
       "  </thead>\n",
       "  <tbody>\n",
       "    <tr>\n",
       "      <th>0</th>\n",
       "      <td>0</td>\n",
       "      <td>test/img-0.jpeg</td>\n",
       "    </tr>\n",
       "    <tr>\n",
       "      <th>1</th>\n",
       "      <td>1</td>\n",
       "      <td>test/img-1.jpeg</td>\n",
       "    </tr>\n",
       "    <tr>\n",
       "      <th>2</th>\n",
       "      <td>2</td>\n",
       "      <td>test/img-2.jpeg</td>\n",
       "    </tr>\n",
       "    <tr>\n",
       "      <th>3</th>\n",
       "      <td>3</td>\n",
       "      <td>test/img-3.jpeg</td>\n",
       "    </tr>\n",
       "    <tr>\n",
       "      <th>4</th>\n",
       "      <td>4</td>\n",
       "      <td>test/img-4.jpeg</td>\n",
       "    </tr>\n",
       "  </tbody>\n",
       "</table>\n",
       "</div>"
      ],
      "text/plain": [
       "   id         filename\n",
       "0   0  test/img-0.jpeg\n",
       "1   1  test/img-1.jpeg\n",
       "2   2  test/img-2.jpeg\n",
       "3   3  test/img-3.jpeg\n",
       "4   4  test/img-4.jpeg"
      ]
     },
     "execution_count": 249,
     "metadata": {},
     "output_type": "execute_result"
    }
   ],
   "source": [
    "test_df.head()"
   ]
  },
  {
   "cell_type": "code",
   "execution_count": 250,
   "metadata": {},
   "outputs": [
    {
     "data": {
      "text/plain": [
       "(484, 312, 251, 1)"
      ]
     },
     "execution_count": 250,
     "metadata": {},
     "output_type": "execute_result"
    }
   ],
   "source": [
    "# Loading the images from the test set\n",
    "\n",
    "n_rows = test_df.shape[0]\n",
    "all_images = []\n",
    "\n",
    "for i in range(n_rows):\n",
    "    image_path = '../test/' + test_df.loc[i, 'filename']\n",
    "    img = image.load_img(image_path , target_size= (W, H), color_mode= 'grayscale')\n",
    "    img = np.expand_dims(img, axis= -1)\n",
    "    all_images.append(img)\n",
    "X_test = np.array(all_images)\n",
    "X_test.shape"
   ]
  },
  {
   "cell_type": "code",
   "execution_count": 251,
   "metadata": {},
   "outputs": [],
   "source": [
    "test_datagen = ImageDataGenerator(samplewise_center=True,\n",
    "                                 samplewise_std_normalization=True)\n",
    "\n",
    "def test_gen(x_test):\n",
    "    Y_trash = np.ones(x_test.shape[0])\n",
    "    flow = test_datagen.flow(x_test, Y_trash, batch_size= len(x_test), shuffle= False)\n",
    "    for X,Y in flow:\n",
    "        yield X"
   ]
  },
  {
   "cell_type": "code",
   "execution_count": 259,
   "metadata": {
    "scrolled": true
   },
   "outputs": [
    {
     "data": {
      "text/plain": [
       "array([0, 2, 0, 3, 2, 2, 0, 2, 2, 1])"
      ]
     },
     "execution_count": 259,
     "metadata": {},
     "output_type": "execute_result"
    }
   ],
   "source": [
    "pred = bas_model.predict_generator(test_gen(X_test), steps= 1)\n",
    "y_pred = pred.argmax(axis=1)\n",
    "y_pred[:10]"
   ]
  },
  {
   "cell_type": "code",
   "execution_count": 260,
   "metadata": {
    "scrolled": true
   },
   "outputs": [
    {
     "data": {
      "text/plain": [
       "484"
      ]
     },
     "execution_count": 260,
     "metadata": {},
     "output_type": "execute_result"
    }
   ],
   "source": [
    "len(y_pred)"
   ]
  },
  {
   "cell_type": "markdown",
   "metadata": {},
   "source": [
    "### Formatting the output like the submission example"
   ]
  },
  {
   "cell_type": "code",
   "execution_count": 261,
   "metadata": {
    "scrolled": true
   },
   "outputs": [
    {
     "data": {
      "text/html": [
       "<div>\n",
       "<style scoped>\n",
       "    .dataframe tbody tr th:only-of-type {\n",
       "        vertical-align: middle;\n",
       "    }\n",
       "\n",
       "    .dataframe tbody tr th {\n",
       "        vertical-align: top;\n",
       "    }\n",
       "\n",
       "    .dataframe thead th {\n",
       "        text-align: right;\n",
       "    }\n",
       "</style>\n",
       "<table border=\"1\" class=\"dataframe\">\n",
       "  <thead>\n",
       "    <tr style=\"text-align: right;\">\n",
       "      <th></th>\n",
       "      <th>Id</th>\n",
       "      <th>label</th>\n",
       "    </tr>\n",
       "  </thead>\n",
       "  <tbody>\n",
       "    <tr>\n",
       "      <th>0</th>\n",
       "      <td>0</td>\n",
       "      <td>bacterial</td>\n",
       "    </tr>\n",
       "    <tr>\n",
       "      <th>1</th>\n",
       "      <td>1</td>\n",
       "      <td>viral</td>\n",
       "    </tr>\n",
       "    <tr>\n",
       "      <th>2</th>\n",
       "      <td>2</td>\n",
       "      <td>normal</td>\n",
       "    </tr>\n",
       "    <tr>\n",
       "      <th>3</th>\n",
       "      <td>3</td>\n",
       "      <td>normal</td>\n",
       "    </tr>\n",
       "    <tr>\n",
       "      <th>4</th>\n",
       "      <td>4</td>\n",
       "      <td>bacterial</td>\n",
       "    </tr>\n",
       "  </tbody>\n",
       "</table>\n",
       "</div>"
      ],
      "text/plain": [
       "   Id      label\n",
       "0   0  bacterial\n",
       "1   1      viral\n",
       "2   2     normal\n",
       "3   3     normal\n",
       "4   4  bacterial"
      ]
     },
     "execution_count": 261,
     "metadata": {},
     "output_type": "execute_result"
    }
   ],
   "source": [
    "submission = pd.read_csv('../submission.csv')\n",
    "submission.head()"
   ]
  },
  {
   "cell_type": "code",
   "execution_count": 262,
   "metadata": {
    "scrolled": false
   },
   "outputs": [
    {
     "data": {
      "text/html": [
       "<div>\n",
       "<style scoped>\n",
       "    .dataframe tbody tr th:only-of-type {\n",
       "        vertical-align: middle;\n",
       "    }\n",
       "\n",
       "    .dataframe tbody tr th {\n",
       "        vertical-align: top;\n",
       "    }\n",
       "\n",
       "    .dataframe thead th {\n",
       "        text-align: right;\n",
       "    }\n",
       "</style>\n",
       "<table border=\"1\" class=\"dataframe\">\n",
       "  <thead>\n",
       "    <tr style=\"text-align: right;\">\n",
       "      <th></th>\n",
       "      <th>Id</th>\n",
       "      <th>label</th>\n",
       "    </tr>\n",
       "  </thead>\n",
       "  <tbody>\n",
       "    <tr>\n",
       "      <th>0</th>\n",
       "      <td>0</td>\n",
       "      <td>bacterial</td>\n",
       "    </tr>\n",
       "    <tr>\n",
       "      <th>1</th>\n",
       "      <td>1</td>\n",
       "      <td>normal</td>\n",
       "    </tr>\n",
       "    <tr>\n",
       "      <th>2</th>\n",
       "      <td>2</td>\n",
       "      <td>bacterial</td>\n",
       "    </tr>\n",
       "    <tr>\n",
       "      <th>3</th>\n",
       "      <td>3</td>\n",
       "      <td>viral</td>\n",
       "    </tr>\n",
       "    <tr>\n",
       "      <th>4</th>\n",
       "      <td>4</td>\n",
       "      <td>normal</td>\n",
       "    </tr>\n",
       "    <tr>\n",
       "      <th>...</th>\n",
       "      <td>...</td>\n",
       "      <td>...</td>\n",
       "    </tr>\n",
       "    <tr>\n",
       "      <th>479</th>\n",
       "      <td>479</td>\n",
       "      <td>viral</td>\n",
       "    </tr>\n",
       "    <tr>\n",
       "      <th>480</th>\n",
       "      <td>480</td>\n",
       "      <td>viral</td>\n",
       "    </tr>\n",
       "    <tr>\n",
       "      <th>481</th>\n",
       "      <td>481</td>\n",
       "      <td>viral</td>\n",
       "    </tr>\n",
       "    <tr>\n",
       "      <th>482</th>\n",
       "      <td>482</td>\n",
       "      <td>bacterial</td>\n",
       "    </tr>\n",
       "    <tr>\n",
       "      <th>483</th>\n",
       "      <td>483</td>\n",
       "      <td>covid</td>\n",
       "    </tr>\n",
       "  </tbody>\n",
       "</table>\n",
       "<p>484 rows × 2 columns</p>\n",
       "</div>"
      ],
      "text/plain": [
       "      Id      label\n",
       "0      0  bacterial\n",
       "1      1     normal\n",
       "2      2  bacterial\n",
       "3      3      viral\n",
       "4      4     normal\n",
       "..   ...        ...\n",
       "479  479      viral\n",
       "480  480      viral\n",
       "481  481      viral\n",
       "482  482  bacterial\n",
       "483  483      covid\n",
       "\n",
       "[484 rows x 2 columns]"
      ]
     },
     "execution_count": 262,
     "metadata": {},
     "output_type": "execute_result"
    }
   ],
   "source": [
    "data = {'Id': test_df['id'], 'label': y_pred}\n",
    "output = pd.DataFrame(data)\n",
    "output['label'] = output['label'].map({0:'bacterial', 1: 'covid', 2: 'normal', 3: 'viral'})\n",
    "output"
   ]
  },
  {
   "cell_type": "code",
   "execution_count": 263,
   "metadata": {},
   "outputs": [],
   "source": [
    "# saving the output\n",
    "output.to_csv('output_best2.csv', index= False)"
   ]
  },
  {
   "cell_type": "markdown",
   "metadata": {},
   "source": [
    "---\n",
    "\n",
    "# Appendix"
   ]
  },
  {
   "cell_type": "markdown",
   "metadata": {},
   "source": [
    "### Computing the accuracy on the validation manually to check"
   ]
  },
  {
   "cell_type": "code",
   "execution_count": 232,
   "metadata": {},
   "outputs": [
    {
     "data": {
      "text/plain": [
       "(226, 312, 251, 1)"
      ]
     },
     "execution_count": 232,
     "metadata": {},
     "output_type": "execute_result"
    }
   ],
   "source": [
    "n_rows = valid_set.shape[0]\n",
    "all_images = []\n",
    "\n",
    "for i in range(n_rows):\n",
    "    image_path = '../train/' + valid_set.iloc[i, 1]\n",
    "    img = image.load_img(image_path , target_size= (W, H), color_mode= 'grayscale')\n",
    "    img = np.expand_dims(img, axis= -1)\n",
    "    all_images.append(img)\n",
    "X_val3 = np.array(all_images)\n",
    "X_val3.shape"
   ]
  },
  {
   "cell_type": "code",
   "execution_count": 233,
   "metadata": {},
   "outputs": [],
   "source": [
    "def val_gen(x_val):\n",
    "    Y_trash = np.ones(x_val.shape[0])\n",
    "    flow = val_datagen.flow(x_val, Y_trash, batch_size= len(x_val), shuffle= False)\n",
    "    for X,Y in flow:\n",
    "        yield X"
   ]
  },
  {
   "cell_type": "code",
   "execution_count": 238,
   "metadata": {},
   "outputs": [
    {
     "data": {
      "text/plain": [
       "array([1, 3, 0, 3, 2, 2, 3, 0, 0, 2])"
      ]
     },
     "execution_count": 238,
     "metadata": {},
     "output_type": "execute_result"
    }
   ],
   "source": [
    "pred = bas_model.predict_generator(val_gen(X_val3), steps= 1)\n",
    "y_pred = pred.argmax(axis=1)\n",
    "y_pred[:10]"
   ]
  },
  {
   "cell_type": "code",
   "execution_count": 239,
   "metadata": {
    "scrolled": true
   },
   "outputs": [
    {
     "name": "stdout",
     "output_type": "stream",
     "text": [
      "0.7610619469026548\n"
     ]
    }
   ],
   "source": [
    "print(accuracy_score(df['y_val'].values, y_pred))"
   ]
  },
  {
   "cell_type": "markdown",
   "metadata": {},
   "source": [
    "### Plotting the accuracy with the evaluation method to choose the best weights"
   ]
  },
  {
   "cell_type": "code",
   "execution_count": 283,
   "metadata": {},
   "outputs": [],
   "source": [
    "acc = []\n",
    "epoch = []\n",
    "path = '.'\n",
    "\n",
    "weight_list = os.listdir(path)\n",
    "for w in weight_list:\n",
    "    split = w.split('-')\n",
    "    if split[0] == 'weights':\n",
    "        epoch.append(split[2])\n",
    "        bas_model.load_weights(w)\n",
    "        acc.append(bas_model.evaluate_generator(X_val))"
   ]
  },
  {
   "cell_type": "code",
   "execution_count": 288,
   "metadata": {},
   "outputs": [],
   "source": [
    "epoch = [int(e) for e in epoch]\n",
    "sorted_acc = [x for _,x in sorted(zip(epoch, acc))]"
   ]
  },
  {
   "cell_type": "code",
   "execution_count": 292,
   "metadata": {},
   "outputs": [
    {
     "data": {
      "image/png": "[encoded data removed]",
      "text/plain": [
       "<Figure size 432x288 with 1 Axes>"
      ]
     },
     "metadata": {
      "needs_background": "light"
     },
     "output_type": "display_data"
    }
   ],
   "source": [
    "plt.plot(sorted(epoch), np.array(sorted_acc)[:, 1])\n",
    "plt.xlabel('epochs')\n",
    "plt.ylabel('accuracy')\n",
    "plt.title('Accuracy on the validation set vs epoch')\n",
    "plt.grid()\n",
    "plt.show()"
   ]
  },
  {
   "cell_type": "code",
   "execution_count": 293,
   "metadata": {},
   "outputs": [
    {
     "name": "stdout",
     "output_type": "stream",
     "text": [
      "Best accuracy 0.779 @ epoch 43\n"
     ]
    }
   ],
   "source": [
    "print('Best accuracy %.3f @ epoch %d' %(max(np.array(sorted_acc)[:, 1]), \n",
    "                                        sorted(epoch)[np.argmax(np.array(sorted_acc)[:, 1])]))"
   ]
  },
  {
   "cell_type": "code",
   "execution_count": null,
   "metadata": {},
   "outputs": [],
   "source": []
  }
 ],
 "metadata": {
  "kernelspec": {
   "display_name": "Python 3",
   "language": "python",
   "name": "python3"
  },
  "language_info": {
   "codemirror_mode": {
    "name": "ipython",
    "version": 3
   },
   "file_extension": ".py",
   "mimetype": "text/x-python",
   "name": "python",
   "nbconvert_exporter": "python",
   "pygments_lexer": "ipython3",
   "version": "3.7.5"
  }
 },
 "nbformat": 4,
 "nbformat_minor": 2
}
