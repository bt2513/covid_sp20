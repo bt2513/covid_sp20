{
 "cells": [
  {
   "cell_type": "markdown",
   "metadata": {},
   "source": [
    "# Baseline model\n",
    "\n",
    "Bertrand Thia (bt2513)\n",
    "\n",
    "In this notebook, we are going to build a baseline model and explore the possible ways to improve it.\n",
    "\n",
    "---"
   ]
  },
  {
   "cell_type": "code",
   "execution_count": 36,
   "metadata": {},
   "outputs": [],
   "source": [
    "# importing the librairies\n",
    "\n",
    "import pandas as pd\n",
    "import numpy as np\n",
    "import matplotlib.pyplot as plt\n",
    "import seaborn as sns\n",
    "from sklearn.model_selection import train_test_split\n",
    "from keras.preprocessing.image import ImageDataGenerator\n",
    "from keras.models import Sequential\n",
    "from keras.layers import Conv2D, MaxPooling2D, Flatten, Dense, Dropout\n",
    "from keras.optimizers import Adam\n",
    "from keras.callbacks.callbacks import EarlyStopping\n",
    "from sklearn.preprocessing import StandardScaler\n",
    "from sklearn.metrics import confusion_matrix, classification_report"
   ]
  },
  {
   "cell_type": "markdown",
   "metadata": {},
   "source": [
    "# Loading the data"
   ]
  },
  {
   "cell_type": "code",
   "execution_count": 2,
   "metadata": {
    "scrolled": true
   },
   "outputs": [],
   "source": [
    "train_labels = pd.read_csv('./train.csv')"
   ]
  },
  {
   "cell_type": "code",
   "execution_count": 3,
   "metadata": {
    "scrolled": true
   },
   "outputs": [
    {
     "data": {
      "text/plain": [
       "normal       350\n",
       "bacterial    350\n",
       "viral        350\n",
       "covid         77\n",
       "Name: label, dtype: int64"
      ]
     },
     "execution_count": 3,
     "metadata": {},
     "output_type": "execute_result"
    }
   ],
   "source": [
    "train_labels['label'].value_counts()"
   ]
  },
  {
   "cell_type": "code",
   "execution_count": 4,
   "metadata": {
    "scrolled": true
   },
   "outputs": [
    {
     "data": {
      "text/plain": [
       "normal       0.310559\n",
       "bacterial    0.310559\n",
       "viral        0.310559\n",
       "covid        0.068323\n",
       "Name: label, dtype: float64"
      ]
     },
     "execution_count": 4,
     "metadata": {},
     "output_type": "execute_result"
    }
   ],
   "source": [
    "train_labels['label'].value_counts(normalize= True)"
   ]
  },
  {
   "cell_type": "markdown",
   "metadata": {},
   "source": [
    "As we saw in the previous notebook, our dataset is imbalanced and the number of covid cases is very low (~6% of the data). To address this issue, we will try class weigthing and oversampling later."
   ]
  },
  {
   "cell_type": "markdown",
   "metadata": {},
   "source": [
    "# Data preprocessing\n",
    "\n",
    "Let's split our data into a training set and a validation set, and then standardize them. "
   ]
  },
  {
   "cell_type": "markdown",
   "metadata": {},
   "source": [
    "### Splitting into training set and validation set "
   ]
  },
  {
   "cell_type": "code",
   "execution_count": 5,
   "metadata": {},
   "outputs": [],
   "source": [
    "train_set, valid_set = train_test_split(train_labels, test_size= 0.2, random_state= 0, \n",
    "                                        stratify= train_labels['label'])"
   ]
  },
  {
   "cell_type": "markdown",
   "metadata": {},
   "source": [
    "### Loading and  standardization of the data"
   ]
  },
  {
   "cell_type": "code",
   "execution_count": 6,
   "metadata": {},
   "outputs": [],
   "source": [
    "train_datagen = ImageDataGenerator(samplewise_center = True,\n",
    "                                   samplewise_std_normalization= True)\n",
    "\n",
    "val_datagen = ImageDataGenerator(samplewise_center = True,\n",
    "                                   samplewise_std_normalization= True)"
   ]
  },
  {
   "cell_type": "markdown",
   "metadata": {},
   "source": [
    "We are going to resize our images by 188 x 234 here. This is the median of the dimensions of our images divided by 3, to be more suited to neural network trainings. "
   ]
  },
  {
   "cell_type": "code",
   "execution_count": 7,
   "metadata": {},
   "outputs": [
    {
     "name": "stdout",
     "output_type": "stream",
     "text": [
      "Found 901 validated image filenames belonging to 4 classes.\n",
      "Found 226 validated image filenames belonging to 4 classes.\n"
     ]
    }
   ],
   "source": [
    "X_train = train_datagen.flow_from_dataframe(dataframe= train_set,\n",
    "                                            directory= './train/',\n",
    "                                            x_col = 'filename',\n",
    "                                            y_col = 'label',\n",
    "                                            target_size= (188, 234), \n",
    "                                            batch_size= len(train_set), \n",
    "                                            color_mode= 'grayscale',\n",
    "                                            seed= 0)\n",
    "\n",
    "X_val = val_datagen.flow_from_dataframe(dataframe= valid_set,\n",
    "                                        directory= './train/',\n",
    "                                        x_col = 'filename',\n",
    "                                        y_col = 'label',\n",
    "                                        target_size= (188, 234), \n",
    "                                        batch_size= len(valid_set), \n",
    "                                        color_mode= 'grayscale',\n",
    "                                        seed= 0)"
   ]
  },
  {
   "cell_type": "markdown",
   "metadata": {},
   "source": [
    "# Model building"
   ]
  },
  {
   "cell_type": "code",
   "execution_count": 70,
   "metadata": {},
   "outputs": [],
   "source": [
    "bas_model = Sequential()\n",
    "bas_model.add(Conv2D(32, (3, 3), input_shape= (188, 234, 1), activation= 'relu')) \n",
    "bas_model.add(MaxPooling2D(pool_size= (2, 2)))\n",
    "bas_model.add(Conv2D(32, (3, 3), activation= 'relu')) \n",
    "bas_model.add(MaxPooling2D(pool_size= (2, 2)))\n",
    "bas_model.add(Conv2D(32, (3, 3), activation= 'relu')) \n",
    "bas_model.add(MaxPooling2D(pool_size= (2, 2)))\n",
    "bas_model.add(Flatten())\n",
    "bas_model.add(Dense(units= 128, activation= 'relu')) \n",
    "bas_model.add(Dropout(0.5)) \n",
    "bas_model.add(Dense(units= 32, activation= 'relu')) \n",
    "bas_model.add(Dropout(0.5)) \n",
    "bas_model.add(Dense(units= 4, activation= 'sigmoid'))"
   ]
  },
  {
   "cell_type": "code",
   "execution_count": 71,
   "metadata": {},
   "outputs": [
    {
     "name": "stdout",
     "output_type": "stream",
     "text": [
      "Model: \"sequential_4\"\n",
      "_________________________________________________________________\n",
      "Layer (type)                 Output Shape              Param #   \n",
      "=================================================================\n",
      "conv2d_10 (Conv2D)           (None, 186, 232, 32)      320       \n",
      "_________________________________________________________________\n",
      "max_pooling2d_10 (MaxPooling (None, 93, 116, 32)       0         \n",
      "_________________________________________________________________\n",
      "conv2d_11 (Conv2D)           (None, 91, 114, 32)       9248      \n",
      "_________________________________________________________________\n",
      "max_pooling2d_11 (MaxPooling (None, 45, 57, 32)        0         \n",
      "_________________________________________________________________\n",
      "conv2d_12 (Conv2D)           (None, 43, 55, 32)        9248      \n",
      "_________________________________________________________________\n",
      "max_pooling2d_12 (MaxPooling (None, 21, 27, 32)        0         \n",
      "_________________________________________________________________\n",
      "flatten_4 (Flatten)          (None, 18144)             0         \n",
      "_________________________________________________________________\n",
      "dense_10 (Dense)             (None, 128)               2322560   \n",
      "_________________________________________________________________\n",
      "dropout_7 (Dropout)          (None, 128)               0         \n",
      "_________________________________________________________________\n",
      "dense_11 (Dense)             (None, 32)                4128      \n",
      "_________________________________________________________________\n",
      "dropout_8 (Dropout)          (None, 32)                0         \n",
      "_________________________________________________________________\n",
      "dense_12 (Dense)             (None, 4)                 132       \n",
      "=================================================================\n",
      "Total params: 2,345,636\n",
      "Trainable params: 2,345,636\n",
      "Non-trainable params: 0\n",
      "_________________________________________________________________\n"
     ]
    }
   ],
   "source": [
    "bas_model.summary()"
   ]
  },
  {
   "cell_type": "code",
   "execution_count": 10,
   "metadata": {},
   "outputs": [],
   "source": [
    "bas_model.compile(loss= 'categorical_crossentropy',\n",
    "                 optimizer= Adam(), \n",
    "                 metrics = ['accuracy'])"
   ]
  },
  {
   "cell_type": "markdown",
   "metadata": {},
   "source": [
    "* ### Training "
   ]
  },
  {
   "cell_type": "code",
   "execution_count": 15,
   "metadata": {},
   "outputs": [],
   "source": [
    "epochs= 20\n",
    "es = EarlyStopping(monitor='val_accuracy', mode='max', verbose=1, restore_best_weights= True)"
   ]
  },
  {
   "cell_type": "code",
   "execution_count": 17,
   "metadata": {
    "scrolled": true
   },
   "outputs": [
    {
     "name": "stdout",
     "output_type": "stream",
     "text": [
      "Epoch 1/20\n",
      "28/28 [==============================] - 4623s 165s/step - loss: 1.0663 - accuracy: 0.4986 - val_loss: 0.7509 - val_accuracy: 0.6372\n",
      "Epoch 2/20\n",
      "28/28 [==============================] - 1935s 69s/step - loss: 0.7321 - accuracy: 0.6772 - val_loss: 0.6527 - val_accuracy: 0.6903\n",
      "Epoch 3/20\n",
      "28/28 [==============================] - 2164s 77s/step - loss: 0.5081 - accuracy: 0.7718 - val_loss: 0.7028 - val_accuracy: 0.6726\n",
      "Restoring model weights from the end of the best epoch\n",
      "Epoch 00003: early stopping\n"
     ]
    },
    {
     "data": {
      "text/plain": [
       "<keras.callbacks.callbacks.History at 0x1a418633d0>"
      ]
     },
     "execution_count": 17,
     "metadata": {},
     "output_type": "execute_result"
    }
   ],
   "source": [
    "bas_model.fit_generator(X_train, \n",
    "                        steps_per_epoch= int(len(train_set) / 32), \n",
    "                        epochs= epochs, \n",
    "                        verbose= 1, \n",
    "                        validation_data = X_val, \n",
    "                        validation_steps= int(len(valid_set) / 32),\n",
    "                        callbacks= [es])"
   ]
  },
  {
   "cell_type": "markdown",
   "metadata": {},
   "source": [
    "### Evaluating the model"
   ]
  },
  {
   "cell_type": "code",
   "execution_count": 54,
   "metadata": {
    "scrolled": true
   },
   "outputs": [
    {
     "name": "stdout",
     "output_type": "stream",
     "text": [
      "1/1 [==============================] - 3s 3s/step\n",
      "Accuracy on the validation set: 0.690\n"
     ]
    }
   ],
   "source": [
    "evaluation = bas_model.evaluate(X_val)\n",
    "print('Accuracy on the validation set: {:.3f}'.format(evaluation[1]))"
   ]
  },
  {
   "cell_type": "code",
   "execution_count": 31,
   "metadata": {
    "scrolled": true
   },
   "outputs": [
    {
     "data": {
      "text/plain": [
       "array([3, 2, 0, 2, 3, 0, 2, 0, 2, 2])"
      ]
     },
     "execution_count": 31,
     "metadata": {},
     "output_type": "execute_result"
    }
   ],
   "source": [
    "pred = bas_model.predict_generator(X_val)\n",
    "y_pred = pred.argmax(axis=1)\n",
    "y_pred[:10]"
   ]
  },
  {
   "cell_type": "code",
   "execution_count": 28,
   "metadata": {
    "scrolled": true
   },
   "outputs": [
    {
     "data": {
      "text/plain": [
       "{'bacterial': 0, 'covid': 1, 'normal': 2, 'viral': 3}"
      ]
     },
     "execution_count": 28,
     "metadata": {},
     "output_type": "execute_result"
    }
   ],
   "source": [
    "X_val.class_indices"
   ]
  },
  {
   "cell_type": "code",
   "execution_count": 34,
   "metadata": {},
   "outputs": [],
   "source": [
    "y_val = valid_set['label'].map(X_val.class_indices).values"
   ]
  },
  {
   "cell_type": "code",
   "execution_count": 53,
   "metadata": {
    "scrolled": true
   },
   "outputs": [
    {
     "data": {
      "image/png": "[encoded data removed]",
      "text/plain": [
       "<Figure size 432x288 with 2 Axes>"
      ]
     },
     "metadata": {
      "needs_background": "light"
     },
     "output_type": "display_data"
    }
   ],
   "source": [
    "data = {'y_val': y_val, 'y_pred': y_pred}\n",
    "df = pd.DataFrame(data)\n",
    "confusion_matrix = pd.crosstab(df['y_val'], df['y_pred'], \n",
    "                               rownames=['Actual'], \n",
    "                               colnames=['Predicted'])\n",
    "\n",
    "cmap = sns.diverging_palette(220, 10, as_cmap= True)\n",
    "sns.heatmap(confusion_matrix, annot=True, cmap= cmap)\n",
    "plt.title('Confusion matrix')\n",
    "plt.show()"
   ]
  },
  {
   "cell_type": "code",
   "execution_count": 67,
   "metadata": {},
   "outputs": [
    {
     "name": "stdout",
     "output_type": "stream",
     "text": [
      "              precision    recall  f1-score   support\n",
      "\n",
      "           0       0.30      0.17      0.22        70\n",
      "           1       0.06      0.06      0.06        16\n",
      "           2       0.29      0.33      0.31        70\n",
      "           3       0.26      0.33      0.29        70\n",
      "\n",
      "    accuracy                           0.26       226\n",
      "   macro avg       0.23      0.22      0.22       226\n",
      "weighted avg       0.27      0.26      0.26       226\n",
      "\n"
     ]
    }
   ],
   "source": [
    "print(classification_report(y_val, y_pred))"
   ]
  },
  {
   "cell_type": "markdown",
   "metadata": {},
   "source": [
    "---\n",
    "\n",
    "# Appendix"
   ]
  },
  {
   "cell_type": "code",
   "execution_count": 61,
   "metadata": {},
   "outputs": [
    {
     "data": {
      "text/plain": [
       "0.2610619469026549"
      ]
     },
     "execution_count": 61,
     "metadata": {},
     "output_type": "execute_result"
    }
   ],
   "source": [
    "(df['y_val'] == df['y_pred']).sum() / len(df)"
   ]
  },
  {
   "cell_type": "code",
   "execution_count": null,
   "metadata": {},
   "outputs": [],
   "source": []
  }
 ],
 "metadata": {
  "kernelspec": {
   "display_name": "Python 3",
   "language": "python",
   "name": "python3"
  },
  "language_info": {
   "codemirror_mode": {
    "name": "ipython",
    "version": 3
   },
   "file_extension": ".py",
   "mimetype": "text/x-python",
   "name": "python",
   "nbconvert_exporter": "python",
   "pygments_lexer": "ipython3",
   "version": "3.7.5"
  }
 },
 "nbformat": 4,
 "nbformat_minor": 2
}
