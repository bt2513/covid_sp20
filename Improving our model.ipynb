{
 "cells": [
  {
   "cell_type": "markdown",
   "metadata": {},
   "source": [
    "# Improving our model\n",
    "\n",
    "Bertrand Thia (bt2513)\n",
    "\n",
    "In this notebook, we are going to tune our previous model to improve it.\n",
    "\n",
    "---"
   ]
  },
  {
   "cell_type": "code",
   "execution_count": 1,
   "metadata": {},
   "outputs": [
    {
     "name": "stderr",
     "output_type": "stream",
     "text": [
      "Using TensorFlow backend.\n"
     ]
    }
   ],
   "source": [
    "# importing the librairies\n",
    "\n",
    "import pandas as pd\n",
    "import numpy as np\n",
    "import matplotlib.pyplot as plt\n",
    "import seaborn as sns\n",
    "from sklearn.model_selection import train_test_split\n",
    "from keras.preprocessing.image import ImageDataGenerator\n",
    "from keras.models import Sequential\n",
    "from keras.layers import Conv2D, MaxPooling2D, Flatten, Dense, Dropout\n",
    "from keras.optimizers import Adam\n",
    "from keras.callbacks.callbacks import EarlyStopping, ModelCheckpoint\n",
    "from sklearn.metrics import confusion_matrix, classification_report\n",
    "from sklearn.utils import compute_class_weight\n",
    "from sklearn.utils import resample"
   ]
  },
  {
   "cell_type": "markdown",
   "metadata": {},
   "source": [
    "# Loading the data"
   ]
  },
  {
   "cell_type": "code",
   "execution_count": 2,
   "metadata": {
    "scrolled": true
   },
   "outputs": [],
   "source": [
    "train_labels = pd.read_csv('./train.csv')"
   ]
  },
  {
   "cell_type": "code",
   "execution_count": 3,
   "metadata": {
    "scrolled": true
   },
   "outputs": [
    {
     "data": {
      "text/plain": [
       "normal       350\n",
       "bacterial    350\n",
       "viral        350\n",
       "covid         77\n",
       "Name: label, dtype: int64"
      ]
     },
     "execution_count": 3,
     "metadata": {},
     "output_type": "execute_result"
    }
   ],
   "source": [
    "train_labels['label'].value_counts()"
   ]
  },
  {
   "cell_type": "code",
   "execution_count": 4,
   "metadata": {
    "scrolled": true
   },
   "outputs": [
    {
     "data": {
      "text/plain": [
       "normal       0.310559\n",
       "bacterial    0.310559\n",
       "viral        0.310559\n",
       "covid        0.068323\n",
       "Name: label, dtype: float64"
      ]
     },
     "execution_count": 4,
     "metadata": {},
     "output_type": "execute_result"
    }
   ],
   "source": [
    "train_labels['label'].value_counts(normalize= True)"
   ]
  },
  {
   "cell_type": "markdown",
   "metadata": {},
   "source": [
    "As we saw in the previous notebook, our dataset is imbalanced and the number of covid cases is very low (~6% of the data). To address this issue, we will try class weigthing and oversampling later."
   ]
  },
  {
   "cell_type": "markdown",
   "metadata": {},
   "source": [
    "# Data preprocessing"
   ]
  },
  {
   "cell_type": "markdown",
   "metadata": {},
   "source": [
    "### Splitting into training set and validation set "
   ]
  },
  {
   "cell_type": "code",
   "execution_count": 5,
   "metadata": {},
   "outputs": [],
   "source": [
    "train_set, valid_set = train_test_split(train_labels, test_size= 0.2, random_state= 0, \n",
    "                                        stratify= train_labels['label'])"
   ]
  },
  {
   "cell_type": "markdown",
   "metadata": {},
   "source": [
    "### Loading the standardized data"
   ]
  },
  {
   "cell_type": "markdown",
   "metadata": {},
   "source": [
    "Let's load the standardized data that we processed in the previous notebook and do some data augmentation this time to help prevent overfitting and get a more robust model:"
   ]
  },
  {
   "cell_type": "code",
   "execution_count": 6,
   "metadata": {},
   "outputs": [],
   "source": [
    "train_datagen = ImageDataGenerator(shear_range= 0.2,\n",
    "                                  horizontal_flip= True,\n",
    "                                  rotation_range= 20,\n",
    "                                  zoom_range= 0.2)\n",
    "\n",
    "val_datagen = ImageDataGenerator()"
   ]
  },
  {
   "cell_type": "code",
   "execution_count": 7,
   "metadata": {},
   "outputs": [
    {
     "name": "stdout",
     "output_type": "stream",
     "text": [
      "Found 901 validated image filenames belonging to 4 classes.\n",
      "Found 226 validated image filenames belonging to 4 classes.\n"
     ]
    }
   ],
   "source": [
    "X_train = train_datagen.flow_from_dataframe(dataframe= train_set,\n",
    "                                            directory= './train2/',\n",
    "                                            x_col = 'filename',\n",
    "                                            y_col = 'label',\n",
    "                                            target_size= (188, 234), \n",
    "                                            batch_size= 32, \n",
    "                                            color_mode= 'grayscale',\n",
    "                                            seed= 0)\n",
    "\n",
    "X_val = val_datagen.flow_from_dataframe(dataframe= valid_set,\n",
    "                                        directory= './train2/',\n",
    "                                        x_col = 'filename',\n",
    "                                        y_col = 'label',\n",
    "                                        target_size= (188, 234), \n",
    "                                        batch_size= 32, \n",
    "                                        color_mode= 'grayscale',\n",
    "                                        seed= 0)"
   ]
  },
  {
   "cell_type": "markdown",
   "metadata": {},
   "source": [
    "# Model building"
   ]
  },
  {
   "cell_type": "markdown",
   "metadata": {},
   "source": [
    "We are going to complexify our model to see if it can learn more:"
   ]
  },
  {
   "cell_type": "code",
   "execution_count": 8,
   "metadata": {},
   "outputs": [],
   "source": [
    "bas_model = Sequential()\n",
    "bas_model.add(Conv2D(32, (3, 3), input_shape= (188, 234, 1), activation= 'relu')) \n",
    "bas_model.add(MaxPooling2D(pool_size= (2, 2)))\n",
    "bas_model.add(Conv2D(32, (3, 3), activation= 'relu')) \n",
    "bas_model.add(Conv2D(32, (3, 3), activation= 'relu')) \n",
    "bas_model.add(MaxPooling2D(pool_size= (2, 2)))\n",
    "bas_model.add(Conv2D(64, (3, 3), activation= 'relu')) \n",
    "bas_model.add(MaxPooling2D(pool_size= (2, 2)))\n",
    "bas_model.add(Flatten())\n",
    "bas_model.add(Dense(units= 128, activation= 'relu')) \n",
    "bas_model.add(Dropout(0.5)) \n",
    "bas_model.add(Dense(units= 64, activation= 'relu')) \n",
    "bas_model.add(Dropout(0.5)) \n",
    "bas_model.add(Dense(units= 4, activation= 'softmax'))"
   ]
  },
  {
   "cell_type": "code",
   "execution_count": 9,
   "metadata": {},
   "outputs": [
    {
     "name": "stdout",
     "output_type": "stream",
     "text": [
      "Model: \"sequential_1\"\n",
      "_________________________________________________________________\n",
      "Layer (type)                 Output Shape              Param #   \n",
      "=================================================================\n",
      "conv2d_1 (Conv2D)            (None, 186, 232, 32)      320       \n",
      "_________________________________________________________________\n",
      "max_pooling2d_1 (MaxPooling2 (None, 93, 116, 32)       0         \n",
      "_________________________________________________________________\n",
      "conv2d_2 (Conv2D)            (None, 91, 114, 32)       9248      \n",
      "_________________________________________________________________\n",
      "conv2d_3 (Conv2D)            (None, 89, 112, 32)       9248      \n",
      "_________________________________________________________________\n",
      "max_pooling2d_2 (MaxPooling2 (None, 44, 56, 32)        0         \n",
      "_________________________________________________________________\n",
      "conv2d_4 (Conv2D)            (None, 42, 54, 64)        18496     \n",
      "_________________________________________________________________\n",
      "max_pooling2d_3 (MaxPooling2 (None, 21, 27, 64)        0         \n",
      "_________________________________________________________________\n",
      "flatten_1 (Flatten)          (None, 36288)             0         \n",
      "_________________________________________________________________\n",
      "dense_1 (Dense)              (None, 128)               4644992   \n",
      "_________________________________________________________________\n",
      "dropout_1 (Dropout)          (None, 128)               0         \n",
      "_________________________________________________________________\n",
      "dense_2 (Dense)              (None, 64)                8256      \n",
      "_________________________________________________________________\n",
      "dropout_2 (Dropout)          (None, 64)                0         \n",
      "_________________________________________________________________\n",
      "dense_3 (Dense)              (None, 4)                 260       \n",
      "=================================================================\n",
      "Total params: 4,690,820\n",
      "Trainable params: 4,690,820\n",
      "Non-trainable params: 0\n",
      "_________________________________________________________________\n"
     ]
    }
   ],
   "source": [
    "bas_model.summary()"
   ]
  },
  {
   "cell_type": "code",
   "execution_count": 10,
   "metadata": {},
   "outputs": [],
   "source": [
    "bas_model.compile(loss= 'categorical_crossentropy',\n",
    "                 optimizer= Adam(), \n",
    "                 metrics = ['accuracy'])"
   ]
  },
  {
   "cell_type": "markdown",
   "metadata": {},
   "source": [
    "* ### Training "
   ]
  },
  {
   "cell_type": "code",
   "execution_count": 11,
   "metadata": {},
   "outputs": [],
   "source": [
    "epochs= 50\n",
    "es = EarlyStopping(monitor='val_accuracy', mode='max', verbose=1, restore_best_weights= True, patience= 5)\n",
    "#checkpoint = ModelCheckpoint(\"best_model.hdf5\", monitor= 'val_acc', verbose= 1, save_best_only= True)"
   ]
  },
  {
   "cell_type": "markdown",
   "metadata": {},
   "source": [
    "This time, we are going to use class weigthing to address the imbalance issue:"
   ]
  },
  {
   "cell_type": "code",
   "execution_count": 12,
   "metadata": {},
   "outputs": [
    {
     "data": {
      "text/plain": [
       "array([0.80446429, 3.69262295, 0.80446429, 0.80446429])"
      ]
     },
     "execution_count": 12,
     "metadata": {},
     "output_type": "execute_result"
    }
   ],
   "source": [
    "train_set2 = train_set.copy()\n",
    "train_set2['label'] = train_set2['label'].map({'bacterial': 0, 'covid': 1, 'normal': 2, 'viral': 3})\n",
    "class_weight = compute_class_weight('balanced', [0, 1, 2, 3], train_set2['label'])\n",
    "class_weight"
   ]
  },
  {
   "cell_type": "code",
   "execution_count": 13,
   "metadata": {
    "scrolled": true
   },
   "outputs": [
    {
     "name": "stdout",
     "output_type": "stream",
     "text": [
      "Epoch 1/50\n",
      "28/28 [==============================] - 23s 824ms/step - loss: 4.7315 - accuracy: 0.2819 - val_loss: 1.3442 - val_accuracy: 0.4107\n",
      "Epoch 2/50\n",
      "28/28 [==============================] - 30s 1s/step - loss: 1.3670 - accuracy: 0.3038 - val_loss: 1.3293 - val_accuracy: 0.2938\n",
      "Epoch 3/50\n",
      "28/28 [==============================] - 27s 949ms/step - loss: 1.3251 - accuracy: 0.3314 - val_loss: 1.3111 - val_accuracy: 0.3711\n",
      "Epoch 4/50\n",
      "28/28 [==============================] - 31s 1s/step - loss: 1.3082 - accuracy: 0.3549 - val_loss: 1.2513 - val_accuracy: 0.4381\n",
      "Epoch 5/50\n",
      "28/28 [==============================] - 27s 950ms/step - loss: 1.2699 - accuracy: 0.3551 - val_loss: 1.2130 - val_accuracy: 0.4278\n",
      "Epoch 6/50\n",
      "28/28 [==============================] - 29s 1s/step - loss: 1.2506 - accuracy: 0.3843 - val_loss: 1.1828 - val_accuracy: 0.5567\n",
      "Epoch 7/50\n",
      "28/28 [==============================] - 29s 1s/step - loss: 1.2306 - accuracy: 0.4074 - val_loss: 1.0759 - val_accuracy: 0.5515\n",
      "Epoch 8/50\n",
      "28/28 [==============================] - 29s 1s/step - loss: 1.1978 - accuracy: 0.4174 - val_loss: 0.9947 - val_accuracy: 0.5361\n",
      "Epoch 9/50\n",
      "28/28 [==============================] - 30s 1s/step - loss: 1.1410 - accuracy: 0.4545 - val_loss: 1.0441 - val_accuracy: 0.5714\n",
      "Epoch 10/50\n",
      "28/28 [==============================] - 29s 1s/step - loss: 1.1297 - accuracy: 0.4608 - val_loss: 1.1625 - val_accuracy: 0.5515\n",
      "Epoch 11/50\n",
      "28/28 [==============================] - 28s 1s/step - loss: 1.1050 - accuracy: 0.4743 - val_loss: 0.8030 - val_accuracy: 0.5412\n",
      "Epoch 12/50\n",
      "28/28 [==============================] - 28s 1s/step - loss: 1.1112 - accuracy: 0.4774 - val_loss: 0.6696 - val_accuracy: 0.5773\n",
      "Epoch 13/50\n",
      "28/28 [==============================] - 29s 1s/step - loss: 1.1272 - accuracy: 0.4911 - val_loss: 0.8481 - val_accuracy: 0.5464\n",
      "Epoch 14/50\n",
      "28/28 [==============================] - 29s 1s/step - loss: 1.1021 - accuracy: 0.4976 - val_loss: 0.9321 - val_accuracy: 0.5258\n",
      "Epoch 15/50\n",
      "28/28 [==============================] - 30s 1s/step - loss: 1.0457 - accuracy: 0.5339 - val_loss: 0.8243 - val_accuracy: 0.5722\n",
      "Epoch 16/50\n",
      "28/28 [==============================] - 30s 1s/step - loss: 1.0315 - accuracy: 0.5324 - val_loss: 0.8969 - val_accuracy: 0.6082\n",
      "Epoch 17/50\n",
      "28/28 [==============================] - 28s 997ms/step - loss: 0.9882 - accuracy: 0.5380 - val_loss: 0.8211 - val_accuracy: 0.5938\n",
      "Epoch 18/50\n",
      "28/28 [==============================] - 29s 1s/step - loss: 1.0173 - accuracy: 0.5212 - val_loss: 0.8316 - val_accuracy: 0.5825\n",
      "Epoch 19/50\n",
      "28/28 [==============================] - 29s 1s/step - loss: 1.0809 - accuracy: 0.5132 - val_loss: 0.7934 - val_accuracy: 0.6031\n",
      "Epoch 20/50\n",
      "28/28 [==============================] - 29s 1s/step - loss: 1.0258 - accuracy: 0.5397 - val_loss: 0.8876 - val_accuracy: 0.6134\n",
      "Epoch 21/50\n",
      "28/28 [==============================] - 27s 978ms/step - loss: 0.9728 - accuracy: 0.5629 - val_loss: 0.8462 - val_accuracy: 0.6495\n",
      "Epoch 22/50\n",
      "28/28 [==============================] - 28s 1s/step - loss: 1.0163 - accuracy: 0.5592 - val_loss: 0.8157 - val_accuracy: 0.6186\n",
      "Epoch 23/50\n",
      "28/28 [==============================] - 28s 1s/step - loss: 1.0084 - accuracy: 0.5443 - val_loss: 0.6958 - val_accuracy: 0.6907\n",
      "Epoch 24/50\n",
      "28/28 [==============================] - 28s 986ms/step - loss: 1.0030 - accuracy: 0.5397 - val_loss: 0.2278 - val_accuracy: 0.6340\n",
      "Epoch 25/50\n",
      "28/28 [==============================] - 29s 1s/step - loss: 0.9868 - accuracy: 0.5604 - val_loss: 0.7541 - val_accuracy: 0.6920\n",
      "Epoch 26/50\n",
      "28/28 [==============================] - 28s 1s/step - loss: 0.9098 - accuracy: 0.5995 - val_loss: 0.8213 - val_accuracy: 0.6443\n",
      "Epoch 27/50\n",
      "28/28 [==============================] - 28s 1s/step - loss: 0.9294 - accuracy: 0.5903 - val_loss: 0.7778 - val_accuracy: 0.7216\n",
      "Epoch 28/50\n",
      "28/28 [==============================] - 27s 950ms/step - loss: 0.9398 - accuracy: 0.5524 - val_loss: 0.7908 - val_accuracy: 0.6753\n",
      "Epoch 29/50\n",
      "28/28 [==============================] - 27s 958ms/step - loss: 0.9046 - accuracy: 0.6030 - val_loss: 0.6045 - val_accuracy: 0.7371\n",
      "Epoch 30/50\n",
      "28/28 [==============================] - 28s 990ms/step - loss: 0.9212 - accuracy: 0.5662 - val_loss: 0.7304 - val_accuracy: 0.7577\n",
      "Epoch 31/50\n",
      "28/28 [==============================] - 28s 1s/step - loss: 0.9025 - accuracy: 0.5984 - val_loss: 0.5853 - val_accuracy: 0.6856\n",
      "Epoch 32/50\n",
      "28/28 [==============================] - 28s 987ms/step - loss: 0.8901 - accuracy: 0.6007 - val_loss: 0.4358 - val_accuracy: 0.6649\n",
      "Epoch 33/50\n",
      "28/28 [==============================] - 29s 1s/step - loss: 0.8469 - accuracy: 0.6226 - val_loss: 0.7291 - val_accuracy: 0.6741\n",
      "Epoch 34/50\n",
      "28/28 [==============================] - 27s 961ms/step - loss: 0.8756 - accuracy: 0.5984 - val_loss: 0.6641 - val_accuracy: 0.6907\n",
      "Epoch 35/50\n",
      "28/28 [==============================] - 31s 1s/step - loss: 0.8874 - accuracy: 0.6071 - val_loss: 0.7892 - val_accuracy: 0.7113\n",
      "Restoring model weights from the end of the best epoch\n",
      "Epoch 00035: early stopping\n"
     ]
    },
    {
     "data": {
      "text/plain": [
       "<keras.callbacks.callbacks.History at 0x1a3c4a2d10>"
      ]
     },
     "execution_count": 13,
     "metadata": {},
     "output_type": "execute_result"
    }
   ],
   "source": [
    "bas_model.fit_generator(X_train, \n",
    "                        steps_per_epoch= len(train_set) // 32, \n",
    "                        epochs= epochs, \n",
    "                        verbose= 1, \n",
    "                        validation_data = X_val, \n",
    "                        validation_steps= len(valid_set) // 32,\n",
    "                        class_weight= class_weight,\n",
    "                        callbacks= [es])"
   ]
  },
  {
   "cell_type": "markdown",
   "metadata": {},
   "source": [
    "### Evaluating the model"
   ]
  },
  {
   "cell_type": "code",
   "execution_count": 14,
   "metadata": {
    "scrolled": true
   },
   "outputs": [
    {
     "name": "stdout",
     "output_type": "stream",
     "text": [
      "Accuracy on the validation set: 0.717\n"
     ]
    }
   ],
   "source": [
    "evaluation = bas_model.evaluate_generator(X_val)\n",
    "print('Accuracy on the validation set: {:.3f}'.format(evaluation[1]))"
   ]
  },
  {
   "cell_type": "code",
   "execution_count": 15,
   "metadata": {},
   "outputs": [
    {
     "name": "stdout",
     "output_type": "stream",
     "text": [
      "Found 226 validated image filenames belonging to 4 classes.\n"
     ]
    }
   ],
   "source": [
    "# Loading the validation set without shuffle to compare manually \n",
    "X_val2 = val_datagen.flow_from_dataframe(dataframe= valid_set,\n",
    "                                        directory= './train2/',\n",
    "                                        x_col = 'filename',\n",
    "                                        y_col = 'label',\n",
    "                                        target_size= (188, 234), \n",
    "                                        batch_size= len(valid_set), \n",
    "                                        color_mode= 'grayscale',\n",
    "                                        shuffle= False)"
   ]
  },
  {
   "cell_type": "code",
   "execution_count": 16,
   "metadata": {
    "scrolled": true
   },
   "outputs": [
    {
     "data": {
      "text/plain": [
       "array([3, 2, 0, 0, 2, 2, 0, 0, 3, 0])"
      ]
     },
     "execution_count": 16,
     "metadata": {},
     "output_type": "execute_result"
    }
   ],
   "source": [
    "pred = bas_model.predict_generator(X_val2)\n",
    "y_pred = pred.argmax(axis=1)\n",
    "y_pred[:10]"
   ]
  },
  {
   "cell_type": "code",
   "execution_count": 17,
   "metadata": {
    "scrolled": true
   },
   "outputs": [
    {
     "data": {
      "text/plain": [
       "{'bacterial': 0, 'covid': 1, 'normal': 2, 'viral': 3}"
      ]
     },
     "execution_count": 17,
     "metadata": {},
     "output_type": "execute_result"
    }
   ],
   "source": [
    "X_val.class_indices"
   ]
  },
  {
   "cell_type": "code",
   "execution_count": 18,
   "metadata": {},
   "outputs": [],
   "source": [
    "y_val = valid_set['label'].map(X_val.class_indices).values"
   ]
  },
  {
   "cell_type": "code",
   "execution_count": 19,
   "metadata": {
    "scrolled": true
   },
   "outputs": [
    {
     "data": {
      "image/png": "[encoded data removed]",
      "text/plain": [
       "<Figure size 432x288 with 2 Axes>"
      ]
     },
     "metadata": {
      "needs_background": "light"
     },
     "output_type": "display_data"
    }
   ],
   "source": [
    "data = {'y_val': y_val, 'y_pred': y_pred}\n",
    "df = pd.DataFrame(data)\n",
    "confusion_matrix = pd.crosstab(df['y_val'], df['y_pred'], \n",
    "                               rownames=['Actual'], \n",
    "                               colnames=['Predicted'])\n",
    "\n",
    "cmap = sns.diverging_palette(220, 10, as_cmap= True)\n",
    "sns.heatmap(confusion_matrix, annot=True, cmap= cmap)\n",
    "plt.title('Confusion matrix')\n",
    "plt.show()"
   ]
  },
  {
   "cell_type": "code",
   "execution_count": 20,
   "metadata": {},
   "outputs": [
    {
     "name": "stdout",
     "output_type": "stream",
     "text": [
      "              precision    recall  f1-score   support\n",
      "\n",
      "           0       0.67      0.69      0.68        70\n",
      "           1       0.87      0.81      0.84        16\n",
      "           2       0.73      0.99      0.84        70\n",
      "           3       0.73      0.46      0.56        70\n",
      "\n",
      "    accuracy                           0.72       226\n",
      "   macro avg       0.75      0.74      0.73       226\n",
      "weighted avg       0.72      0.72      0.70       226\n",
      "\n"
     ]
    }
   ],
   "source": [
    "print(classification_report(y_val, y_pred))"
   ]
  },
  {
   "cell_type": "markdown",
   "metadata": {},
   "source": [
    "**The performances are much better than previously. Let's keep working to improve furthermore our model.**"
   ]
  },
  {
   "cell_type": "markdown",
   "metadata": {},
   "source": [
    "# Predicting on the test set"
   ]
  },
  {
   "cell_type": "code",
   "execution_count": 23,
   "metadata": {
    "scrolled": true
   },
   "outputs": [],
   "source": [
    "test_df = pd.read_csv('test.csv')"
   ]
  },
  {
   "cell_type": "code",
   "execution_count": 24,
   "metadata": {},
   "outputs": [
    {
     "name": "stdout",
     "output_type": "stream",
     "text": [
      "Found 484 images belonging to 1 classes.\n"
     ]
    }
   ],
   "source": [
    "test_datagen = ImageDataGenerator()\n",
    "X_test = test_datagen.flow_from_directory('./test2',\n",
    "                                           classes = ['test'],\n",
    "                                           target_size= (188, 234), \n",
    "                                           batch_size= len(test_df), \n",
    "                                           color_mode= 'grayscale',\n",
    "                                           shuffle= False)"
   ]
  },
  {
   "cell_type": "code",
   "execution_count": 25,
   "metadata": {},
   "outputs": [
    {
     "data": {
      "text/plain": [
       "array([0, 2, 2, 2, 2, 2, 2, 2, 0, 2])"
      ]
     },
     "execution_count": 25,
     "metadata": {},
     "output_type": "execute_result"
    }
   ],
   "source": [
    "pred = bas_model.predict_generator(X_test)\n",
    "y_pred = pred.argmax(axis=1)\n",
    "y_pred[:10]"
   ]
  },
  {
   "cell_type": "markdown",
   "metadata": {},
   "source": [
    "### Formatting the output like the submission example"
   ]
  },
  {
   "cell_type": "code",
   "execution_count": 26,
   "metadata": {
    "scrolled": true
   },
   "outputs": [
    {
     "data": {
      "text/html": [
       "<div>\n",
       "<style scoped>\n",
       "    .dataframe tbody tr th:only-of-type {\n",
       "        vertical-align: middle;\n",
       "    }\n",
       "\n",
       "    .dataframe tbody tr th {\n",
       "        vertical-align: top;\n",
       "    }\n",
       "\n",
       "    .dataframe thead th {\n",
       "        text-align: right;\n",
       "    }\n",
       "</style>\n",
       "<table border=\"1\" class=\"dataframe\">\n",
       "  <thead>\n",
       "    <tr style=\"text-align: right;\">\n",
       "      <th></th>\n",
       "      <th>Id</th>\n",
       "      <th>label</th>\n",
       "    </tr>\n",
       "  </thead>\n",
       "  <tbody>\n",
       "    <tr>\n",
       "      <th>0</th>\n",
       "      <td>0</td>\n",
       "      <td>bacterial</td>\n",
       "    </tr>\n",
       "    <tr>\n",
       "      <th>1</th>\n",
       "      <td>1</td>\n",
       "      <td>viral</td>\n",
       "    </tr>\n",
       "    <tr>\n",
       "      <th>2</th>\n",
       "      <td>2</td>\n",
       "      <td>normal</td>\n",
       "    </tr>\n",
       "    <tr>\n",
       "      <th>3</th>\n",
       "      <td>3</td>\n",
       "      <td>normal</td>\n",
       "    </tr>\n",
       "    <tr>\n",
       "      <th>4</th>\n",
       "      <td>4</td>\n",
       "      <td>bacterial</td>\n",
       "    </tr>\n",
       "  </tbody>\n",
       "</table>\n",
       "</div>"
      ],
      "text/plain": [
       "   Id      label\n",
       "0   0  bacterial\n",
       "1   1      viral\n",
       "2   2     normal\n",
       "3   3     normal\n",
       "4   4  bacterial"
      ]
     },
     "execution_count": 26,
     "metadata": {},
     "output_type": "execute_result"
    }
   ],
   "source": [
    "submission = pd.read_csv('submission.csv')\n",
    "submission.head()"
   ]
  },
  {
   "cell_type": "code",
   "execution_count": 34,
   "metadata": {
    "scrolled": true
   },
   "outputs": [
    {
     "data": {
      "text/html": [
       "<div>\n",
       "<style scoped>\n",
       "    .dataframe tbody tr th:only-of-type {\n",
       "        vertical-align: middle;\n",
       "    }\n",
       "\n",
       "    .dataframe tbody tr th {\n",
       "        vertical-align: top;\n",
       "    }\n",
       "\n",
       "    .dataframe thead th {\n",
       "        text-align: right;\n",
       "    }\n",
       "</style>\n",
       "<table border=\"1\" class=\"dataframe\">\n",
       "  <thead>\n",
       "    <tr style=\"text-align: right;\">\n",
       "      <th></th>\n",
       "      <th>Id</th>\n",
       "      <th>label</th>\n",
       "    </tr>\n",
       "  </thead>\n",
       "  <tbody>\n",
       "    <tr>\n",
       "      <th>0</th>\n",
       "      <td>0</td>\n",
       "      <td>bacterial</td>\n",
       "    </tr>\n",
       "    <tr>\n",
       "      <th>1</th>\n",
       "      <td>1</td>\n",
       "      <td>normal</td>\n",
       "    </tr>\n",
       "    <tr>\n",
       "      <th>2</th>\n",
       "      <td>2</td>\n",
       "      <td>normal</td>\n",
       "    </tr>\n",
       "    <tr>\n",
       "      <th>3</th>\n",
       "      <td>3</td>\n",
       "      <td>normal</td>\n",
       "    </tr>\n",
       "    <tr>\n",
       "      <th>4</th>\n",
       "      <td>4</td>\n",
       "      <td>normal</td>\n",
       "    </tr>\n",
       "  </tbody>\n",
       "</table>\n",
       "</div>"
      ],
      "text/plain": [
       "   Id      label\n",
       "0   0  bacterial\n",
       "1   1     normal\n",
       "2   2     normal\n",
       "3   3     normal\n",
       "4   4     normal"
      ]
     },
     "execution_count": 34,
     "metadata": {},
     "output_type": "execute_result"
    }
   ],
   "source": [
    "data = {'Id': test_df['id'], 'label': y_pred}\n",
    "output = pd.DataFrame(data)\n",
    "output['label'] = output['label'].map({0:'bacterial', 1: 'covid', 2: 'normal', 3: 'viral'})\n",
    "output.head()"
   ]
  },
  {
   "cell_type": "code",
   "execution_count": 35,
   "metadata": {},
   "outputs": [],
   "source": [
    "# saving the output\n",
    "output.to_csv('output_v0.csv')"
   ]
  },
  {
   "cell_type": "markdown",
   "metadata": {},
   "source": [
    "---\n",
    "\n",
    "# Appendix"
   ]
  },
  {
   "cell_type": "code",
   "execution_count": 21,
   "metadata": {},
   "outputs": [
    {
     "data": {
      "text/plain": [
       "0.7168141592920354"
      ]
     },
     "execution_count": 21,
     "metadata": {},
     "output_type": "execute_result"
    }
   ],
   "source": [
    "# Computing the accuracy manually to check \n",
    "(df['y_val'] == df['y_pred']).sum() / len(df)"
   ]
  },
  {
   "cell_type": "code",
   "execution_count": null,
   "metadata": {},
   "outputs": [],
   "source": []
  }
 ],
 "metadata": {
  "kernelspec": {
   "display_name": "Python 3",
   "language": "python",
   "name": "python3"
  },
  "language_info": {
   "codemirror_mode": {
    "name": "ipython",
    "version": 3
   },
   "file_extension": ".py",
   "mimetype": "text/x-python",
   "name": "python",
   "nbconvert_exporter": "python",
   "pygments_lexer": "ipython3",
   "version": "3.7.5"
  }
 },
 "nbformat": 4,
 "nbformat_minor": 2
}
