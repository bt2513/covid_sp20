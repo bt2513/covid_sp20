{
 "cells": [
  {
   "cell_type": "markdown",
   "metadata": {},
   "source": [
    "# Improving our model\n",
    "\n",
    "Bertrand Thia (bt2513)\n",
    "\n",
    "In this notebook, we are going to tune our previous model to improve it.\n",
    "\n",
    "---"
   ]
  },
  {
   "cell_type": "code",
   "execution_count": 13,
   "metadata": {},
   "outputs": [],
   "source": [
    "# importing the librairies\n",
    "\n",
    "import pandas as pd\n",
    "import numpy as np\n",
    "import matplotlib.pyplot as plt\n",
    "import seaborn as sns\n",
    "from sklearn.model_selection import train_test_split\n",
    "from keras.preprocessing.image import ImageDataGenerator\n",
    "from keras.models import Sequential\n",
    "from keras.layers import Conv2D, MaxPooling2D, Flatten, Dense, Dropout\n",
    "from keras.optimizers import Adam\n",
    "from keras.callbacks.callbacks import EarlyStopping, ModelCheckpoint\n",
    "from sklearn.metrics import confusion_matrix, classification_report\n",
    "from sklearn.utils import compute_class_weight"
   ]
  },
  {
   "cell_type": "markdown",
   "metadata": {},
   "source": [
    "# Loading the data"
   ]
  },
  {
   "cell_type": "code",
   "execution_count": 2,
   "metadata": {
    "scrolled": true
   },
   "outputs": [],
   "source": [
    "train_labels = pd.read_csv('./train.csv')"
   ]
  },
  {
   "cell_type": "code",
   "execution_count": 3,
   "metadata": {
    "scrolled": true
   },
   "outputs": [
    {
     "data": {
      "text/plain": [
       "normal       350\n",
       "bacterial    350\n",
       "viral        350\n",
       "covid         77\n",
       "Name: label, dtype: int64"
      ]
     },
     "execution_count": 3,
     "metadata": {},
     "output_type": "execute_result"
    }
   ],
   "source": [
    "train_labels['label'].value_counts()"
   ]
  },
  {
   "cell_type": "code",
   "execution_count": 4,
   "metadata": {
    "scrolled": true
   },
   "outputs": [
    {
     "data": {
      "text/plain": [
       "normal       0.310559\n",
       "bacterial    0.310559\n",
       "viral        0.310559\n",
       "covid        0.068323\n",
       "Name: label, dtype: float64"
      ]
     },
     "execution_count": 4,
     "metadata": {},
     "output_type": "execute_result"
    }
   ],
   "source": [
    "train_labels['label'].value_counts(normalize= True)"
   ]
  },
  {
   "cell_type": "markdown",
   "metadata": {},
   "source": [
    "As we saw in the previous notebook, our dataset is imbalanced and the number of covid cases is very low (~6% of the data). To address this issue, we will try class weigthing and oversampling later."
   ]
  },
  {
   "cell_type": "markdown",
   "metadata": {},
   "source": [
    "# Data preprocessing"
   ]
  },
  {
   "cell_type": "markdown",
   "metadata": {},
   "source": [
    "### Splitting into training set and validation set "
   ]
  },
  {
   "cell_type": "code",
   "execution_count": 5,
   "metadata": {},
   "outputs": [],
   "source": [
    "train_set, valid_set = train_test_split(train_labels, test_size= 0.2, random_state= 0, \n",
    "                                        stratify= train_labels['label'])"
   ]
  },
  {
   "cell_type": "markdown",
   "metadata": {},
   "source": [
    "### Loading the standardized data"
   ]
  },
  {
   "cell_type": "markdown",
   "metadata": {},
   "source": [
    "Let's load the standardized data that we processed in the previous notebook:"
   ]
  },
  {
   "cell_type": "code",
   "execution_count": 60,
   "metadata": {},
   "outputs": [],
   "source": [
    "train_datagen = ImageDataGenerator(shear_range= 0.2,\n",
    "                                  horizontal_flip= True,\n",
    "                                  rotation_range= 20,\n",
    "                                  zoom_range= 0.2)\n",
    "\n",
    "val_datagen = ImageDataGenerator()"
   ]
  },
  {
   "cell_type": "code",
   "execution_count": 61,
   "metadata": {},
   "outputs": [
    {
     "name": "stdout",
     "output_type": "stream",
     "text": [
      "Found 901 validated image filenames belonging to 4 classes.\n",
      "Found 226 validated image filenames belonging to 4 classes.\n"
     ]
    }
   ],
   "source": [
    "X_train = train_datagen.flow_from_dataframe(dataframe= train_set,\n",
    "                                            directory= './train2/',\n",
    "                                            x_col = 'filename',\n",
    "                                            y_col = 'label',\n",
    "                                            target_size= (188, 234), \n",
    "                                            batch_size= 32, \n",
    "                                            color_mode= 'grayscale',\n",
    "                                            seed= 0)\n",
    "\n",
    "X_val = val_datagen.flow_from_dataframe(dataframe= valid_set,\n",
    "                                        directory= './train2/',\n",
    "                                        x_col = 'filename',\n",
    "                                        y_col = 'label',\n",
    "                                        target_size= (188, 234), \n",
    "                                        batch_size= 32, \n",
    "                                        color_mode= 'grayscale',\n",
    "                                        seed= 0)"
   ]
  },
  {
   "cell_type": "markdown",
   "metadata": {},
   "source": [
    "# Model building"
   ]
  },
  {
   "cell_type": "markdown",
   "metadata": {},
   "source": [
    "We are going to complexify our model to see if it can learn more:"
   ]
  },
  {
   "cell_type": "code",
   "execution_count": 80,
   "metadata": {},
   "outputs": [],
   "source": [
    "bas_model = Sequential()\n",
    "bas_model.add(Conv2D(32, (3, 3), input_shape= (188, 234, 1), activation= 'relu')) \n",
    "bas_model.add(MaxPooling2D(pool_size= (2, 2)))\n",
    "bas_model.add(Conv2D(64, (3, 3), activation= 'relu')) \n",
    "bas_model.add(MaxPooling2D(pool_size= (2, 2)))\n",
    "bas_model.add(Conv2D(128, (3, 3), activation= 'relu')) \n",
    "bas_model.add(MaxPooling2D(pool_size= (2, 2)))\n",
    "bas_model.add(Flatten())\n",
    "bas_model.add(Dense(units= 256, activation= 'relu')) \n",
    "bas_model.add(Dropout(0.5)) \n",
    "bas_model.add(Dense(units= 128, activation= 'relu')) \n",
    "bas_model.add(Dropout(0.5)) \n",
    "bas_model.add(Dense(units= 4, activation= 'softmax'))"
   ]
  },
  {
   "cell_type": "code",
   "execution_count": 81,
   "metadata": {},
   "outputs": [
    {
     "name": "stdout",
     "output_type": "stream",
     "text": [
      "Model: \"sequential_12\"\n",
      "_________________________________________________________________\n",
      "Layer (type)                 Output Shape              Param #   \n",
      "=================================================================\n",
      "conv2d_39 (Conv2D)           (None, 186, 232, 32)      320       \n",
      "_________________________________________________________________\n",
      "max_pooling2d_38 (MaxPooling (None, 93, 116, 32)       0         \n",
      "_________________________________________________________________\n",
      "conv2d_40 (Conv2D)           (None, 91, 114, 64)       18496     \n",
      "_________________________________________________________________\n",
      "max_pooling2d_39 (MaxPooling (None, 45, 57, 64)        0         \n",
      "_________________________________________________________________\n",
      "conv2d_41 (Conv2D)           (None, 43, 55, 128)       73856     \n",
      "_________________________________________________________________\n",
      "max_pooling2d_40 (MaxPooling (None, 21, 27, 128)       0         \n",
      "_________________________________________________________________\n",
      "flatten_12 (Flatten)         (None, 72576)             0         \n",
      "_________________________________________________________________\n",
      "dense_34 (Dense)             (None, 256)               18579712  \n",
      "_________________________________________________________________\n",
      "dropout_27 (Dropout)         (None, 256)               0         \n",
      "_________________________________________________________________\n",
      "dense_35 (Dense)             (None, 128)               32896     \n",
      "_________________________________________________________________\n",
      "dropout_28 (Dropout)         (None, 128)               0         \n",
      "_________________________________________________________________\n",
      "dense_36 (Dense)             (None, 4)                 516       \n",
      "=================================================================\n",
      "Total params: 18,705,796\n",
      "Trainable params: 18,705,796\n",
      "Non-trainable params: 0\n",
      "_________________________________________________________________\n"
     ]
    }
   ],
   "source": [
    "bas_model.summary()"
   ]
  },
  {
   "cell_type": "code",
   "execution_count": 82,
   "metadata": {},
   "outputs": [],
   "source": [
    "bas_model.compile(loss= 'categorical_crossentropy',\n",
    "                 optimizer= Adam(), \n",
    "                 metrics = ['accuracy'])"
   ]
  },
  {
   "cell_type": "markdown",
   "metadata": {},
   "source": [
    "* ### Training "
   ]
  },
  {
   "cell_type": "code",
   "execution_count": 83,
   "metadata": {},
   "outputs": [],
   "source": [
    "epochs= 50\n",
    "es = EarlyStopping(monitor='val_accuracy', mode='max', verbose=1, restore_best_weights= True, patience= 5)\n",
    "#checkpoint = ModelCheckpoint(\"best_model.hdf5\", monitor= 'val_acc', verbose= 1, save_best_only= True)"
   ]
  },
  {
   "cell_type": "markdown",
   "metadata": {},
   "source": [
    "This time, we are going to use class weigthing to address the imbalance issue:"
   ]
  },
  {
   "cell_type": "code",
   "execution_count": 84,
   "metadata": {},
   "outputs": [
    {
     "data": {
      "text/plain": [
       "array([0.80446429, 3.69262295, 0.80446429, 0.80446429])"
      ]
     },
     "execution_count": 84,
     "metadata": {},
     "output_type": "execute_result"
    }
   ],
   "source": [
    "train_set2 = train_set.copy()\n",
    "train_set2['label'] = train_set2['label'].map({'bacterial': 0, 'covid': 1, 'normal': 2, 'viral': 3})\n",
    "class_weight = compute_class_weight('balanced', [0, 1, 2, 3], train_set2['label'])\n",
    "class_weight"
   ]
  },
  {
   "cell_type": "code",
   "execution_count": 94,
   "metadata": {
    "scrolled": false
   },
   "outputs": [
    {
     "name": "stdout",
     "output_type": "stream",
     "text": [
      "Epoch 1/50\n",
      "28/28 [==============================] - 26s 938ms/step - loss: 1.2426 - accuracy: 0.4166 - val_loss: 1.3036 - val_accuracy: 0.4598\n",
      "Epoch 2/50\n",
      "28/28 [==============================] - 27s 952ms/step - loss: 1.1855 - accuracy: 0.4189 - val_loss: 1.3325 - val_accuracy: 0.3918\n",
      "Epoch 3/50\n",
      "28/28 [==============================] - 28s 995ms/step - loss: 1.2162 - accuracy: 0.4304 - val_loss: 1.1199 - val_accuracy: 0.5361\n",
      "Epoch 4/50\n",
      "28/28 [==============================] - 35s 1s/step - loss: 1.1952 - accuracy: 0.4464 - val_loss: 1.2205 - val_accuracy: 0.3557\n",
      "Epoch 5/50\n",
      "28/28 [==============================] - 31s 1s/step - loss: 1.1842 - accuracy: 0.4240 - val_loss: 1.2391 - val_accuracy: 0.3763\n",
      "Epoch 6/50\n",
      "28/28 [==============================] - 32s 1s/step - loss: 1.2042 - accuracy: 0.4419 - val_loss: 1.1201 - val_accuracy: 0.4072\n",
      "Epoch 7/50\n",
      "28/28 [==============================] - 32s 1s/step - loss: 1.1785 - accuracy: 0.4475 - val_loss: 1.2074 - val_accuracy: 0.4639\n",
      "Epoch 8/50\n",
      "28/28 [==============================] - 32s 1s/step - loss: 1.2100 - accuracy: 0.4189 - val_loss: 1.0167 - val_accuracy: 0.4072\n",
      "Restoring model weights from the end of the best epoch\n",
      "Epoch 00008: early stopping\n"
     ]
    },
    {
     "data": {
      "text/plain": [
       "<keras.callbacks.callbacks.History at 0x1a49e4db90>"
      ]
     },
     "execution_count": 94,
     "metadata": {},
     "output_type": "execute_result"
    }
   ],
   "source": [
    "bas_model.fit_generator(X_train, \n",
    "                        steps_per_epoch= len(train_set) // 32, \n",
    "                        epochs= epochs, \n",
    "                        verbose= 1, \n",
    "                        validation_data = X_val, \n",
    "                        validation_steps= len(valid_set) // 32,\n",
    "                        class_weight= class_weight,\n",
    "                        callbacks= [es])"
   ]
  },
  {
   "cell_type": "markdown",
   "metadata": {},
   "source": [
    "### Evaluating the model"
   ]
  },
  {
   "cell_type": "code",
   "execution_count": 95,
   "metadata": {
    "scrolled": true
   },
   "outputs": [
    {
     "name": "stdout",
     "output_type": "stream",
     "text": [
      "Accuracy on the validation set: 0.500\n"
     ]
    }
   ],
   "source": [
    "evaluation = bas_model.evaluate_generator(X_val)\n",
    "print('Accuracy on the validation set: {:.3f}'.format(evaluation[1]))"
   ]
  },
  {
   "cell_type": "code",
   "execution_count": 96,
   "metadata": {},
   "outputs": [
    {
     "name": "stdout",
     "output_type": "stream",
     "text": [
      "Found 226 validated image filenames belonging to 4 classes.\n"
     ]
    }
   ],
   "source": [
    "# Loading the validation set without shuffle to compare manually \n",
    "X_val2 = val_datagen.flow_from_dataframe(dataframe= valid_set,\n",
    "                                        directory= './train2/',\n",
    "                                        x_col = 'filename',\n",
    "                                        y_col = 'label',\n",
    "                                        target_size= (188, 234), \n",
    "                                        batch_size= len(valid_set), \n",
    "                                        color_mode= 'grayscale',\n",
    "                                        shuffle= False)"
   ]
  },
  {
   "cell_type": "code",
   "execution_count": 97,
   "metadata": {
    "scrolled": true
   },
   "outputs": [
    {
     "data": {
      "text/plain": [
       "array([3, 3, 3, 0, 3, 3, 0, 3, 2, 3])"
      ]
     },
     "execution_count": 97,
     "metadata": {},
     "output_type": "execute_result"
    }
   ],
   "source": [
    "pred = bas_model.predict_generator(X_val2)\n",
    "y_pred = pred.argmax(axis=1)\n",
    "y_pred[:10]"
   ]
  },
  {
   "cell_type": "code",
   "execution_count": 98,
   "metadata": {
    "scrolled": true
   },
   "outputs": [
    {
     "data": {
      "text/plain": [
       "{'bacterial': 0, 'covid': 1, 'normal': 2, 'viral': 3}"
      ]
     },
     "execution_count": 98,
     "metadata": {},
     "output_type": "execute_result"
    }
   ],
   "source": [
    "X_val.class_indices"
   ]
  },
  {
   "cell_type": "code",
   "execution_count": 99,
   "metadata": {},
   "outputs": [],
   "source": [
    "y_val = valid_set['label'].map(X_val.class_indices).values"
   ]
  },
  {
   "cell_type": "code",
   "execution_count": 100,
   "metadata": {
    "scrolled": true
   },
   "outputs": [
    {
     "data": {
      "image/png": "[encoded data removed]",
      "text/plain": [
       "<Figure size 432x288 with 2 Axes>"
      ]
     },
     "metadata": {
      "needs_background": "light"
     },
     "output_type": "display_data"
    }
   ],
   "source": [
    "data = {'y_val': y_val, 'y_pred': y_pred}\n",
    "df = pd.DataFrame(data)\n",
    "confusion_matrix = pd.crosstab(df['y_val'], df['y_pred'], \n",
    "                               rownames=['Actual'], \n",
    "                               colnames=['Predicted'])\n",
    "\n",
    "cmap = sns.diverging_palette(220, 10, as_cmap= True)\n",
    "sns.heatmap(confusion_matrix, annot=True, cmap= cmap)\n",
    "plt.title('Confusion matrix')\n",
    "plt.show()"
   ]
  },
  {
   "cell_type": "code",
   "execution_count": 101,
   "metadata": {},
   "outputs": [
    {
     "name": "stdout",
     "output_type": "stream",
     "text": [
      "              precision    recall  f1-score   support\n",
      "\n",
      "           0       0.45      0.36      0.40        70\n",
      "           1       0.00      0.00      0.00        16\n",
      "           2       0.62      0.67      0.64        70\n",
      "           3       0.44      0.59      0.50        70\n",
      "\n",
      "    accuracy                           0.50       226\n",
      "   macro avg       0.38      0.40      0.39       226\n",
      "weighted avg       0.46      0.50      0.48       226\n",
      "\n"
     ]
    }
   ],
   "source": [
    "print(classification_report(y_val, y_pred))"
   ]
  },
  {
   "cell_type": "markdown",
   "metadata": {},
   "source": [
    "**Overall, the performances of this baseline model are quite poor, especially for the covid class because of the imbalance issue. We will explore data augmentation and class weigthing to improve our results.**"
   ]
  },
  {
   "cell_type": "markdown",
   "metadata": {},
   "source": [
    "---\n",
    "\n",
    "# Appendix"
   ]
  },
  {
   "cell_type": "code",
   "execution_count": 93,
   "metadata": {},
   "outputs": [
    {
     "data": {
      "text/plain": [
       "0.4469026548672566"
      ]
     },
     "execution_count": 93,
     "metadata": {},
     "output_type": "execute_result"
    }
   ],
   "source": [
    "# Computing the accuracy manually to check \n",
    "(df['y_val'] == df['y_pred']).sum() / len(df)"
   ]
  },
  {
   "cell_type": "code",
   "execution_count": null,
   "metadata": {},
   "outputs": [],
   "source": []
  }
 ],
 "metadata": {
  "kernelspec": {
   "display_name": "Python 3",
   "language": "python",
   "name": "python3"
  },
  "language_info": {
   "codemirror_mode": {
    "name": "ipython",
    "version": 3
   },
   "file_extension": ".py",
   "mimetype": "text/x-python",
   "name": "python",
   "nbconvert_exporter": "python",
   "pygments_lexer": "ipython3",
   "version": "3.7.5"
  }
 },
 "nbformat": 4,
 "nbformat_minor": 2
}
