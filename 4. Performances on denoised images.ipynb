{
 "cells": [
  {
   "cell_type": "markdown",
   "metadata": {},
   "source": [
    "# Performances on denoised images\n",
    "\n",
    "Bertrand Thia (bt2513)\n",
    "\n",
    "In this notebook, we are going to assess the performances of our improved baseline on the denoised images we constructed during the data preparation step. We will see the efficiency of this preprocessing. \n",
    "\n",
    "---"
   ]
  },
  {
   "cell_type": "code",
   "execution_count": 1,
   "metadata": {},
   "outputs": [
    {
     "name": "stderr",
     "output_type": "stream",
     "text": [
      "Using TensorFlow backend.\n"
     ]
    }
   ],
   "source": [
    "# importing the librairies\n",
    "\n",
    "import pandas as pd\n",
    "import numpy as np\n",
    "import matplotlib.pyplot as plt\n",
    "import seaborn as sns\n",
    "from sklearn.model_selection import train_test_split\n",
    "from sklearn.metrics import accuracy_score\n",
    "from keras.preprocessing.image import ImageDataGenerator\n",
    "from keras.models import Sequential\n",
    "from keras.layers import Conv2D, MaxPooling2D, Flatten, Dense, Dropout, BatchNormalization, SeparableConv2D\n",
    "from keras.optimizers import Adam\n",
    "from keras.callbacks.callbacks import EarlyStopping, ModelCheckpoint\n",
    "from sklearn.metrics import confusion_matrix, classification_report\n",
    "from sklearn.utils import compute_class_weight\n",
    "from keras.preprocessing import image\n",
    "\n",
    "np.random.seed(0)"
   ]
  },
  {
   "cell_type": "markdown",
   "metadata": {},
   "source": [
    "# Loading the data and data preprocessing"
   ]
  },
  {
   "cell_type": "code",
   "execution_count": 2,
   "metadata": {
    "scrolled": true
   },
   "outputs": [],
   "source": [
    "train_labels = pd.read_csv('../train.csv')"
   ]
  },
  {
   "cell_type": "markdown",
   "metadata": {},
   "source": [
    "### Splitting into training set and validation set "
   ]
  },
  {
   "cell_type": "code",
   "execution_count": 3,
   "metadata": {},
   "outputs": [],
   "source": [
    "train_set, valid_set = train_test_split(train_labels, test_size= 0.2, random_state= 0, \n",
    "                                        stratify= train_labels['label'])"
   ]
  },
  {
   "cell_type": "code",
   "execution_count": 4,
   "metadata": {
    "scrolled": true
   },
   "outputs": [
    {
     "name": "stdout",
     "output_type": "stream",
     "text": [
      "Train size: 901 \t Validation size: 226\n"
     ]
    }
   ],
   "source": [
    "print('Train size: %d \\t Validation size: %d' %(len(train_set), len(valid_set)))"
   ]
  },
  {
   "cell_type": "code",
   "execution_count": 5,
   "metadata": {},
   "outputs": [
    {
     "data": {
      "text/plain": [
       "normal       280\n",
       "bacterial    280\n",
       "viral        280\n",
       "covid         61\n",
       "Name: label, dtype: int64"
      ]
     },
     "execution_count": 5,
     "metadata": {},
     "output_type": "execute_result"
    }
   ],
   "source": [
    "train_set['label'].value_counts()"
   ]
  },
  {
   "cell_type": "markdown",
   "metadata": {},
   "source": [
    "### Standardization"
   ]
  },
  {
   "cell_type": "markdown",
   "metadata": {},
   "source": [
    "We will apply our preprocessing on the denoised images now:"
   ]
  },
  {
   "cell_type": "code",
   "execution_count": 6,
   "metadata": {},
   "outputs": [],
   "source": [
    "train_datagen = ImageDataGenerator(samplewise_center=True,\n",
    "                                  samplewise_std_normalization=True, \n",
    "                                  rotation_range= 20)\n",
    "\n",
    "val_datagen = ImageDataGenerator(samplewise_center=True,\n",
    "                                 samplewise_std_normalization=True)"
   ]
  },
  {
   "cell_type": "markdown",
   "metadata": {},
   "source": [
    "Let's use the same parameters as previously:"
   ]
  },
  {
   "cell_type": "code",
   "execution_count": 7,
   "metadata": {},
   "outputs": [
    {
     "name": "stdout",
     "output_type": "stream",
     "text": [
      "Found 901 validated image filenames belonging to 4 classes.\n",
      "Found 226 validated image filenames belonging to 4 classes.\n"
     ]
    }
   ],
   "source": [
    "BATCH_SIZE = 32\n",
    "W = 312\n",
    "H = 251\n",
    "\n",
    "X_train = train_datagen.flow_from_dataframe(dataframe= train_set,\n",
    "                                            directory= '../train2/',\n",
    "                                            x_col = 'filename',\n",
    "                                            y_col = 'label', \n",
    "                                            target_size = (W, H),\n",
    "                                            batch_size= BATCH_SIZE, \n",
    "                                            color_mode= 'grayscale',\n",
    "                                            seed= 0)\n",
    "\n",
    "X_val = val_datagen.flow_from_dataframe(dataframe= valid_set,\n",
    "                                        directory= '../train2/',\n",
    "                                        x_col = 'filename',\n",
    "                                        y_col = 'label', \n",
    "                                        target_size = (W, H),\n",
    "                                        batch_size= BATCH_SIZE, \n",
    "                                        color_mode= 'grayscale',\n",
    "                                        seed= 0)"
   ]
  },
  {
   "cell_type": "markdown",
   "metadata": {},
   "source": [
    "# Model building"
   ]
  },
  {
   "cell_type": "markdown",
   "metadata": {},
   "source": [
    "We are first going to keep the same structure for our model since we want to compare the performances with the previous improved baseline model and a different preprocessing:"
   ]
  },
  {
   "cell_type": "code",
   "execution_count": 8,
   "metadata": {},
   "outputs": [],
   "source": [
    "bas_model = Sequential()\n",
    "bas_model.add(Conv2D(16, (3, 3), input_shape= (W, H, 1), activation= 'relu'))\n",
    "bas_model.add(Conv2D(16, (3, 3), activation= 'relu'))\n",
    "bas_model.add(MaxPooling2D(pool_size= (2, 2)))\n",
    "\n",
    "bas_model.add(Conv2D(32, (3, 3), activation= 'relu'))\n",
    "bas_model.add(Conv2D(32, (3, 3), activation= 'relu'))\n",
    "bas_model.add(BatchNormalization())\n",
    "bas_model.add(MaxPooling2D(pool_size= (2, 2)))\n",
    "bas_model.add(Dropout(0.2)) \n",
    "\n",
    "bas_model.add(Flatten())\n",
    "\n",
    "bas_model.add(Dense(units= 128, activation= 'relu')) \n",
    "bas_model.add(Dropout(0.5)) \n",
    "\n",
    "bas_model.add(Dense(units= 64, activation= 'relu')) \n",
    "bas_model.add(Dropout(0.3)) \n",
    "\n",
    "bas_model.add(Dense(units= 4, activation= 'softmax'))"
   ]
  },
  {
   "cell_type": "code",
   "execution_count": 9,
   "metadata": {},
   "outputs": [
    {
     "name": "stdout",
     "output_type": "stream",
     "text": [
      "Model: \"sequential_1\"\n",
      "_________________________________________________________________\n",
      "Layer (type)                 Output Shape              Param #   \n",
      "=================================================================\n",
      "conv2d_1 (Conv2D)            (None, 310, 249, 16)      160       \n",
      "_________________________________________________________________\n",
      "conv2d_2 (Conv2D)            (None, 308, 247, 16)      2320      \n",
      "_________________________________________________________________\n",
      "max_pooling2d_1 (MaxPooling2 (None, 154, 123, 16)      0         \n",
      "_________________________________________________________________\n",
      "separable_conv2d_1 (Separabl (None, 152, 121, 32)      688       \n",
      "_________________________________________________________________\n",
      "separable_conv2d_2 (Separabl (None, 150, 119, 32)      1344      \n",
      "_________________________________________________________________\n",
      "batch_normalization_1 (Batch (None, 150, 119, 32)      128       \n",
      "_________________________________________________________________\n",
      "max_pooling2d_2 (MaxPooling2 (None, 75, 59, 32)        0         \n",
      "_________________________________________________________________\n",
      "dropout_1 (Dropout)          (None, 75, 59, 32)        0         \n",
      "_________________________________________________________________\n",
      "separable_conv2d_3 (Separabl (None, 73, 57, 64)        2400      \n",
      "_________________________________________________________________\n",
      "separable_conv2d_4 (Separabl (None, 71, 55, 64)        4736      \n",
      "_________________________________________________________________\n",
      "batch_normalization_2 (Batch (None, 71, 55, 64)        256       \n",
      "_________________________________________________________________\n",
      "max_pooling2d_3 (MaxPooling2 (None, 35, 27, 64)        0         \n",
      "_________________________________________________________________\n",
      "dropout_2 (Dropout)          (None, 35, 27, 64)        0         \n",
      "_________________________________________________________________\n",
      "flatten_1 (Flatten)          (None, 60480)             0         \n",
      "_________________________________________________________________\n",
      "dense_1 (Dense)              (None, 128)               7741568   \n",
      "_________________________________________________________________\n",
      "dropout_3 (Dropout)          (None, 128)               0         \n",
      "_________________________________________________________________\n",
      "dense_2 (Dense)              (None, 64)                8256      \n",
      "_________________________________________________________________\n",
      "dropout_4 (Dropout)          (None, 64)                0         \n",
      "_________________________________________________________________\n",
      "dense_3 (Dense)              (None, 4)                 260       \n",
      "=================================================================\n",
      "Total params: 7,762,116\n",
      "Trainable params: 7,761,924\n",
      "Non-trainable params: 192\n",
      "_________________________________________________________________\n"
     ]
    }
   ],
   "source": [
    "bas_model.summary()"
   ]
  },
  {
   "cell_type": "code",
   "execution_count": 10,
   "metadata": {},
   "outputs": [],
   "source": [
    "bas_model.compile(loss= 'categorical_crossentropy',\n",
    "                 optimizer= Adam(lr= 1e-4), \n",
    "                 metrics = ['accuracy'])"
   ]
  },
  {
   "cell_type": "markdown",
   "metadata": {},
   "source": [
    "### Training "
   ]
  },
  {
   "cell_type": "code",
   "execution_count": 11,
   "metadata": {},
   "outputs": [],
   "source": [
    "epochs= 70\n",
    "#es = EarlyStopping(monitor='val_accuracy', mode='max', verbose=1, restore_best_weights= True, patience= 3)\n",
    "filepath=\"weights-improvement-{epoch:02d}-{val_accuracy:.2f}.hdf5\"\n",
    "checkpoint = ModelCheckpoint(filepath, monitor= 'val_accuracy', verbose= 1, period= 1)"
   ]
  },
  {
   "cell_type": "markdown",
   "metadata": {},
   "source": [
    "Since our dataset is imbalanced, we are going to use class weigthing to address the issue:"
   ]
  },
  {
   "cell_type": "code",
   "execution_count": 12,
   "metadata": {},
   "outputs": [
    {
     "data": {
      "text/plain": [
       "array([0.80446429, 3.69262295, 0.80446429, 0.80446429])"
      ]
     },
     "execution_count": 12,
     "metadata": {},
     "output_type": "execute_result"
    }
   ],
   "source": [
    "train_set2 = train_set.copy()\n",
    "train_set2['label'] = train_set2['label'].map({'bacterial': 0, 'covid': 1, 'normal': 2, 'viral': 3})\n",
    "class_weight = compute_class_weight('balanced', [0, 1, 2, 3], train_set2['label'])\n",
    "class_weight"
   ]
  },
  {
   "cell_type": "code",
   "execution_count": null,
   "metadata": {
    "scrolled": true
   },
   "outputs": [],
   "source": [
    "hist = bas_model.fit_generator(X_train, \n",
    "                                steps_per_epoch= len(train_set) // BATCH_SIZE, \n",
    "                                epochs= epochs, \n",
    "                                verbose= 1, \n",
    "                                validation_data = X_val, \n",
    "                                validation_steps= len(valid_set) // BATCH_SIZE,\n",
    "                                class_weight= class_weight,\n",
    "                                callbacks= [checkpoint])"
   ]
  },
  {
   "cell_type": "code",
   "execution_count": 14,
   "metadata": {},
   "outputs": [
    {
     "data": {
      "image/png": "[encoded data removed]",
      "text/plain": [
       "<Figure size 1080x360 with 2 Axes>"
      ]
     },
     "metadata": {
      "needs_background": "light"
     },
     "output_type": "display_data"
    }
   ],
   "source": [
    "# Plotting the training curves\n",
    "\n",
    "fig, axs = plt.subplots(1, 2, figsize= (15, 5))\n",
    "\n",
    "# Plot training & validation accuracy values\n",
    "axs[0].plot(hist.history['accuracy'])\n",
    "axs[0].plot(hist.history['val_accuracy'])\n",
    "axs[0].set_title('Model accuracy')\n",
    "axs[0].set_ylabel('Accuracy')\n",
    "axs[0].set_xlabel('Epoch')\n",
    "axs[0].legend(['Train', 'Valid'], loc='upper left')\n",
    "axs[0].grid()\n",
    "\n",
    "# Plot training & validation loss values\n",
    "axs[1].plot(hist.history['loss'])\n",
    "axs[1].plot(hist.history['val_loss'])\n",
    "axs[1].set_title('Model loss')\n",
    "axs[1].set_ylabel('Loss')\n",
    "axs[1].set_xlabel('Epoch')\n",
    "axs[1].grid()\n",
    "axs[1].legend(['Train', 'Valid'], loc='upper left')\n",
    "plt.show()"
   ]
  },
  {
   "cell_type": "markdown",
   "metadata": {},
   "source": [
    "### Evaluating our best model"
   ]
  },
  {
   "cell_type": "code",
   "execution_count": 19,
   "metadata": {},
   "outputs": [],
   "source": [
    "# Loading the best weights\n",
    "bas_model.load_weights(\"weights-improvement-21-0.75.hdf5\")"
   ]
  },
  {
   "cell_type": "code",
   "execution_count": 20,
   "metadata": {
    "scrolled": true
   },
   "outputs": [
    {
     "name": "stdout",
     "output_type": "stream",
     "text": [
      "Accuracy on the validation set: 0.792\n"
     ]
    }
   ],
   "source": [
    "evaluation = bas_model.evaluate_generator(X_val)\n",
    "print('Accuracy on the validation set: {:.3f}'.format(evaluation[1]))"
   ]
  },
  {
   "cell_type": "code",
   "execution_count": 21,
   "metadata": {},
   "outputs": [
    {
     "name": "stdout",
     "output_type": "stream",
     "text": [
      "Found 226 validated image filenames belonging to 4 classes.\n"
     ]
    }
   ],
   "source": [
    "# Loading the validation set manually to compare the results without the shuffling\n",
    "X_val2 = val_datagen.flow_from_dataframe(dataframe= valid_set,\n",
    "                                        directory= '../train2/',\n",
    "                                        x_col = 'filename',\n",
    "                                        y_col = 'label', \n",
    "                                        target_size = (W, H),\n",
    "                                        batch_size= BATCH_SIZE, \n",
    "                                        color_mode= 'grayscale',\n",
    "                                        shuffle= False)"
   ]
  },
  {
   "cell_type": "code",
   "execution_count": 22,
   "metadata": {
    "scrolled": true
   },
   "outputs": [
    {
     "data": {
      "text/plain": [
       "array([1, 3, 0, 3, 2, 3, 3, 0, 0, 0])"
      ]
     },
     "execution_count": 22,
     "metadata": {},
     "output_type": "execute_result"
    }
   ],
   "source": [
    "pred = bas_model.predict_generator(X_val2)\n",
    "y_pred = pred.argmax(axis=1)\n",
    "y_pred[:10]"
   ]
  },
  {
   "cell_type": "code",
   "execution_count": 23,
   "metadata": {
    "scrolled": true
   },
   "outputs": [
    {
     "data": {
      "text/plain": [
       "{'bacterial': 0, 'covid': 1, 'normal': 2, 'viral': 3}"
      ]
     },
     "execution_count": 23,
     "metadata": {},
     "output_type": "execute_result"
    }
   ],
   "source": [
    "X_val.class_indices"
   ]
  },
  {
   "cell_type": "code",
   "execution_count": 24,
   "metadata": {},
   "outputs": [],
   "source": [
    "y_val = valid_set['label'].map(X_val.class_indices).values"
   ]
  },
  {
   "cell_type": "code",
   "execution_count": 25,
   "metadata": {
    "scrolled": true
   },
   "outputs": [
    {
     "data": {
      "image/png": "[encoded data removed]",
      "text/plain": [
       "<Figure size 432x288 with 2 Axes>"
      ]
     },
     "metadata": {
      "needs_background": "light"
     },
     "output_type": "display_data"
    }
   ],
   "source": [
    "data = {'y_val': y_val, 'y_pred': y_pred}\n",
    "df = pd.DataFrame(data)\n",
    "confusion_matrix = pd.crosstab(df['y_val'], df['y_pred'], \n",
    "                               rownames=['Actual'], \n",
    "                               colnames=['Predicted'],\n",
    "                               normalize= 'index')\n",
    "\n",
    "cmap = sns.diverging_palette(220, 10, as_cmap= True)\n",
    "sns.heatmap(confusion_matrix, annot=True, cmap= cmap)\n",
    "plt.title('Confusion matrix')\n",
    "plt.show()"
   ]
  },
  {
   "cell_type": "code",
   "execution_count": 26,
   "metadata": {
    "scrolled": false
   },
   "outputs": [
    {
     "name": "stdout",
     "output_type": "stream",
     "text": [
      "              precision    recall  f1-score   support\n",
      "\n",
      "           0       0.74      0.70      0.72        70\n",
      "           1       0.88      0.94      0.91        16\n",
      "           2       0.94      0.90      0.92        70\n",
      "           3       0.68      0.74      0.71        70\n",
      "\n",
      "    accuracy                           0.79       226\n",
      "   macro avg       0.81      0.82      0.82       226\n",
      "weighted avg       0.80      0.79      0.79       226\n",
      "\n"
     ]
    }
   ],
   "source": [
    "print(classification_report(y_val, y_pred))"
   ]
  },
  {
   "cell_type": "markdown",
   "metadata": {},
   "source": [
    "**Finally, we can observe that the performances are quite similar as previously. Just denoising the images do not bring much improvement.**"
   ]
  },
  {
   "cell_type": "markdown",
   "metadata": {},
   "source": [
    "---\n",
    "\n",
    "# Appendix"
   ]
  },
  {
   "cell_type": "markdown",
   "metadata": {},
   "source": [
    "### Plotting the accuracy with the evaluation method to choose the best weights"
   ]
  },
  {
   "cell_type": "code",
   "execution_count": 15,
   "metadata": {},
   "outputs": [],
   "source": [
    "acc = []\n",
    "epoch = []\n",
    "path = '.'\n",
    "\n",
    "weight_list = os.listdir(path)\n",
    "for w in weight_list:\n",
    "    split = w.split('-')\n",
    "    if split[0] == 'weights':\n",
    "        epoch.append(split[2])\n",
    "        bas_model.load_weights(w)\n",
    "        acc.append(bas_model.evaluate_generator(X_val))"
   ]
  },
  {
   "cell_type": "code",
   "execution_count": 16,
   "metadata": {},
   "outputs": [],
   "source": [
    "epoch = [int(e) for e in epoch]\n",
    "sorted_acc = [x for _,x in sorted(zip(epoch, acc))]"
   ]
  },
  {
   "cell_type": "code",
   "execution_count": 17,
   "metadata": {},
   "outputs": [
    {
     "data": {
      "image/png": "[encoded data removed]",
      "text/plain": [
       "<Figure size 432x288 with 1 Axes>"
      ]
     },
     "metadata": {
      "needs_background": "light"
     },
     "output_type": "display_data"
    }
   ],
   "source": [
    "plt.plot(sorted(epoch), np.array(sorted_acc)[:, 1])\n",
    "plt.xlabel('epochs')\n",
    "plt.ylabel('accuracy')\n",
    "plt.title('Accuracy on the validation set vs epoch')\n",
    "plt.grid()\n",
    "plt.show()"
   ]
  },
  {
   "cell_type": "code",
   "execution_count": 18,
   "metadata": {},
   "outputs": [
    {
     "name": "stdout",
     "output_type": "stream",
     "text": [
      "Best accuracy 0.792 @ epoch 21\n"
     ]
    }
   ],
   "source": [
    "print('Best accuracy %.3f @ epoch %d' %(max(np.array(sorted_acc)[:, 1]), \n",
    "                                        sorted(epoch)[np.argmax(np.array(sorted_acc)[:, 1])]))"
   ]
  },
  {
   "cell_type": "code",
   "execution_count": null,
   "metadata": {},
   "outputs": [],
   "source": []
  }
 ],
 "metadata": {
  "kernelspec": {
   "display_name": "Python 3",
   "language": "python",
   "name": "python3"
  },
  "language_info": {
   "codemirror_mode": {
    "name": "ipython",
    "version": 3
   },
   "file_extension": ".py",
   "mimetype": "text/x-python",
   "name": "python",
   "nbconvert_exporter": "python",
   "pygments_lexer": "ipython3",
   "version": "3.7.5"
  }
 },
 "nbformat": 4,
 "nbformat_minor": 2
}
