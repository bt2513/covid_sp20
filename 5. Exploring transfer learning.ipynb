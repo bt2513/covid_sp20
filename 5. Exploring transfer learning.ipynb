{
 "cells": [
  {
   "cell_type": "markdown",
   "metadata": {},
   "source": [
    "# Exploring transfer learning\n",
    "\n",
    "Bertrand Thia (bt2513)\n",
    "\n",
    "In this notebook, we are going to try to improve the performances of our model by using an already existing and known architecture, and use transfer learning.\n",
    "\n",
    "---"
   ]
  },
  {
   "cell_type": "code",
   "execution_count": 1,
   "metadata": {},
   "outputs": [
    {
     "name": "stderr",
     "output_type": "stream",
     "text": [
      "Using TensorFlow backend.\n"
     ]
    }
   ],
   "source": [
    "# importing the librairies\n",
    "\n",
    "import pandas as pd\n",
    "import numpy as np\n",
    "import matplotlib.pyplot as plt\n",
    "import seaborn as sns\n",
    "from sklearn.model_selection import train_test_split\n",
    "from sklearn.metrics import accuracy_score\n",
    "from keras.preprocessing.image import ImageDataGenerator\n",
    "from keras.models import Sequential\n",
    "from keras.layers import Flatten, Dense, Dropout\n",
    "from keras.optimizers import Adam, SGD\n",
    "from keras.callbacks.callbacks import EarlyStopping, ModelCheckpoint\n",
    "from sklearn.metrics import confusion_matrix, classification_report\n",
    "from sklearn.utils import compute_class_weight\n",
    "from keras.preprocessing import image\n",
    "from keras.applications import VGG16\n",
    "from keras.utils import to_categorical\n",
    "\n",
    "np.random.seed(0)"
   ]
  },
  {
   "cell_type": "markdown",
   "metadata": {},
   "source": [
    "# Loading the data and data preprocessing"
   ]
  },
  {
   "cell_type": "code",
   "execution_count": 2,
   "metadata": {
    "scrolled": true
   },
   "outputs": [],
   "source": [
    "train_labels = pd.read_csv('../train.csv')"
   ]
  },
  {
   "cell_type": "markdown",
   "metadata": {},
   "source": [
    "### Splitting into training set and validation set "
   ]
  },
  {
   "cell_type": "code",
   "execution_count": 3,
   "metadata": {},
   "outputs": [],
   "source": [
    "train_set, valid_set = train_test_split(train_labels, test_size= 0.2, random_state= 0, \n",
    "                                        stratify= train_labels['label'])"
   ]
  },
  {
   "cell_type": "code",
   "execution_count": 4,
   "metadata": {
    "scrolled": true
   },
   "outputs": [
    {
     "name": "stdout",
     "output_type": "stream",
     "text": [
      "Train size: 901 \t Validation size: 226\n"
     ]
    }
   ],
   "source": [
    "print('Train size: %d \\t Validation size: %d' %(len(train_set), len(valid_set)))"
   ]
  },
  {
   "cell_type": "code",
   "execution_count": 5,
   "metadata": {},
   "outputs": [
    {
     "data": {
      "text/plain": [
       "normal       280\n",
       "bacterial    280\n",
       "viral        280\n",
       "covid         61\n",
       "Name: label, dtype: int64"
      ]
     },
     "execution_count": 5,
     "metadata": {},
     "output_type": "execute_result"
    }
   ],
   "source": [
    "train_set['label'].value_counts()"
   ]
  },
  {
   "cell_type": "markdown",
   "metadata": {},
   "source": [
    "### Standardization"
   ]
  },
  {
   "cell_type": "markdown",
   "metadata": {},
   "source": [
    "Let's load and standardized our data. To address the overfitting issue, we are going to use data augmentation here. This will allow us to increase the size of our dataset, but also make the classification more challenging. Since our dataset is small, we are just going to use some small image rotation:"
   ]
  },
  {
   "cell_type": "code",
   "execution_count": 6,
   "metadata": {},
   "outputs": [],
   "source": [
    "train_datagen = ImageDataGenerator(samplewise_center=True,\n",
    "                                  samplewise_std_normalization=True, \n",
    "                                  rotation_range= 20)\n",
    "\n",
    "val_datagen = ImageDataGenerator(samplewise_center=True,\n",
    "                                 samplewise_std_normalization=True)"
   ]
  },
  {
   "cell_type": "markdown",
   "metadata": {},
   "source": [
    "Let's use the same parameters as previously:"
   ]
  },
  {
   "cell_type": "code",
   "execution_count": 7,
   "metadata": {},
   "outputs": [
    {
     "name": "stdout",
     "output_type": "stream",
     "text": [
      "Found 901 validated image filenames belonging to 4 classes.\n",
      "Found 226 validated image filenames belonging to 4 classes.\n"
     ]
    }
   ],
   "source": [
    "BATCH_SIZE = 32\n",
    "W = 312\n",
    "H = 251\n",
    "\n",
    "X_train = train_datagen.flow_from_dataframe(dataframe= train_set,\n",
    "                                            directory= '../train2/',\n",
    "                                            x_col = 'filename',\n",
    "                                            y_col = 'label', \n",
    "                                            target_size = (W, H),\n",
    "                                            batch_size= BATCH_SIZE, \n",
    "                                            shuffle= False)\n",
    "\n",
    "X_val = val_datagen.flow_from_dataframe(dataframe= valid_set,\n",
    "                                        directory= '../train2/',\n",
    "                                        x_col = 'filename',\n",
    "                                        y_col = 'label', \n",
    "                                        target_size = (W, H),\n",
    "                                        batch_size= BATCH_SIZE, \n",
    "                                        shuffle= False)"
   ]
  },
  {
   "cell_type": "markdown",
   "metadata": {},
   "source": [
    "# Model building"
   ]
  },
  {
   "cell_type": "markdown",
   "metadata": {},
   "source": [
    "We are going to use the network VGG16 and pre-trained weights from the ImageNet dataset:"
   ]
  },
  {
   "cell_type": "code",
   "execution_count": 3,
   "metadata": {},
   "outputs": [],
   "source": [
    "model = VGG16(include_top=False, weights='imagenet')"
   ]
  },
  {
   "cell_type": "markdown",
   "metadata": {},
   "source": [
    "As it is very expansive to run the whole network, we are going to only do it once and save the output at the end of the pre-trained part of the network. We will then train fully-connected layers for the top layers of the model."
   ]
  },
  {
   "cell_type": "code",
   "execution_count": 19,
   "metadata": {},
   "outputs": [],
   "source": [
    "bottleneck_features_train = model.predict_generator(X_train, steps= len(train_set) // BATCH_SIZE)\n",
    "np.save(open('bottleneck_features_train.npy', 'wb'), bottleneck_features_train)\n",
    "\n",
    "bottleneck_features_val = model.predict_generator(X_val, steps= len(valid_set) // BATCH_SIZE)\n",
    "np.save(open('bottleneck_features_val.npy', 'wb'), bottleneck_features_val)"
   ]
  },
  {
   "cell_type": "markdown",
   "metadata": {},
   "source": [
    "### Training the top layers "
   ]
  },
  {
   "cell_type": "code",
   "execution_count": 10,
   "metadata": {},
   "outputs": [],
   "source": [
    "train_data = np.load(open('bottleneck_features_train.npy', 'rb'))\n",
    "train_y = to_categorical(train_set['label'].map({'bacterial': 0, 'covid': 1, 'normal': 2, 'viral': 3}).values[:-5])\n",
    "\n",
    "validation_data = np.load(open('bottleneck_features_val.npy', 'rb'))\n",
    "validation_y = to_categorical(valid_set['label'].map({'bacterial': 0, 'covid': 1, \n",
    "                                                     'normal': 2, 'viral': 3}).values[:-2])"
   ]
  },
  {
   "cell_type": "code",
   "execution_count": 11,
   "metadata": {
    "scrolled": true
   },
   "outputs": [
    {
     "name": "stdout",
     "output_type": "stream",
     "text": [
      "Size of the training: 896 \t labels: 896\n",
      "Size of the validation: 224 \t labels: 224\n"
     ]
    }
   ],
   "source": [
    "print('Size of the training: %d \\t labels: %d' %(len(train_data), len(train_y)))\n",
    "print('Size of the validation: %d \\t labels: %d' %(len(validation_data), len(validation_y)))"
   ]
  },
  {
   "cell_type": "markdown",
   "metadata": {},
   "source": [
    "Since we are using batches of data, we don't end up with the whole dataset, but this will allow to speed up the process."
   ]
  },
  {
   "cell_type": "code",
   "execution_count": 60,
   "metadata": {},
   "outputs": [],
   "source": [
    "top_model = Sequential()\n",
    "top_model.add(Flatten(input_shape=train_data.shape[1:]))\n",
    "top_model.add(Dense(units= 128, activation= 'relu')) \n",
    "top_model.add(Dropout(0.5)) \n",
    "top_model.add(Dense(units= 64, activation= 'relu')) \n",
    "top_model.add(Dropout(0.3)) \n",
    "top_model.add(Dense(units= 4, activation= 'softmax'))\n",
    "\n",
    "top_model.compile(loss= 'categorical_crossentropy',\n",
    "              optimizer= Adam(lr= 1e-4), \n",
    "              metrics = ['accuracy'])"
   ]
  },
  {
   "cell_type": "code",
   "execution_count": 28,
   "metadata": {},
   "outputs": [],
   "source": [
    "epochs= 50\n",
    "#es = EarlyStopping(monitor='val_accuracy', mode='max', verbose=1, restore_best_weights= True, patience= 3)\n",
    "filepath=\"./weights/weights-improvement-{epoch:02d}-{val_accuracy:.2f}.hdf5\"\n",
    "checkpoint = ModelCheckpoint(filepath, monitor= 'val_accuracy', verbose= 1, period= 1)"
   ]
  },
  {
   "cell_type": "markdown",
   "metadata": {},
   "source": [
    "Since our dataset is imbalanced, we are going to use class weigthing to address the issue:"
   ]
  },
  {
   "cell_type": "code",
   "execution_count": 29,
   "metadata": {},
   "outputs": [
    {
     "data": {
      "text/plain": [
       "array([0.80446429, 3.69262295, 0.80446429, 0.80446429])"
      ]
     },
     "execution_count": 29,
     "metadata": {},
     "output_type": "execute_result"
    }
   ],
   "source": [
    "train_set2 = train_set.copy()\n",
    "train_set2['label'] = train_set2['label'].map({'bacterial': 0, 'covid': 1, 'normal': 2, 'viral': 3})\n",
    "class_weight = compute_class_weight('balanced', [0, 1, 2, 3], train_set2['label'])\n",
    "class_weight"
   ]
  },
  {
   "cell_type": "code",
   "execution_count": 77,
   "metadata": {
    "scrolled": true
   },
   "outputs": [
    {
     "name": "stdout",
     "output_type": "stream",
     "text": [
      "Train on 896 samples, validate on 224 samples\n",
      "Epoch 1/50\n",
      "896/896 [==============================] - 2s 2ms/step - loss: 1.1800 - accuracy: 0.4554 - val_loss: 0.7872 - val_accuracy: 0.6250\n",
      "\n",
      "Epoch 00001: saving model to ./weights/weights-improvement-01-0.62.hdf5\n",
      "Epoch 2/50\n",
      "896/896 [==============================] - 1s 1ms/step - loss: 0.8864 - accuracy: 0.6049 - val_loss: 0.7317 - val_accuracy: 0.6473\n",
      "\n",
      "Epoch 00002: saving model to ./weights/weights-improvement-02-0.65.hdf5\n",
      "Epoch 3/50\n",
      "896/896 [==============================] - 1s 1ms/step - loss: 0.7767 - accuracy: 0.6496 - val_loss: 0.6716 - val_accuracy: 0.7054\n",
      "\n",
      "Epoch 00003: saving model to ./weights/weights-improvement-03-0.71.hdf5\n",
      "Epoch 4/50\n",
      "896/896 [==============================] - 1s 1ms/step - loss: 0.7191 - accuracy: 0.6897 - val_loss: 0.6437 - val_accuracy: 0.7455\n",
      "\n",
      "Epoch 00004: saving model to ./weights/weights-improvement-04-0.75.hdf5\n",
      "Epoch 5/50\n",
      "896/896 [==============================] - 1s 1ms/step - loss: 0.6237 - accuracy: 0.7266 - val_loss: 0.6081 - val_accuracy: 0.7232\n",
      "\n",
      "Epoch 00005: saving model to ./weights/weights-improvement-05-0.72.hdf5\n",
      "Epoch 6/50\n",
      "896/896 [==============================] - 1s 1ms/step - loss: 0.6116 - accuracy: 0.7355 - val_loss: 0.5794 - val_accuracy: 0.7143\n",
      "\n",
      "Epoch 00006: saving model to ./weights/weights-improvement-06-0.71.hdf5\n",
      "Epoch 7/50\n",
      "896/896 [==============================] - 1s 1ms/step - loss: 0.5636 - accuracy: 0.7522 - val_loss: 0.5445 - val_accuracy: 0.7679\n",
      "\n",
      "Epoch 00007: saving model to ./weights/weights-improvement-07-0.77.hdf5\n",
      "Epoch 8/50\n",
      "896/896 [==============================] - 1s 1ms/step - loss: 0.5398 - accuracy: 0.7667 - val_loss: 0.5225 - val_accuracy: 0.7500\n",
      "\n",
      "Epoch 00008: saving model to ./weights/weights-improvement-08-0.75.hdf5\n",
      "Epoch 9/50\n",
      "896/896 [==============================] - 1s 1ms/step - loss: 0.5169 - accuracy: 0.7846 - val_loss: 0.5424 - val_accuracy: 0.7545\n",
      "\n",
      "Epoch 00009: saving model to ./weights/weights-improvement-09-0.75.hdf5\n",
      "Epoch 10/50\n",
      "896/896 [==============================] - 1s 1ms/step - loss: 0.4716 - accuracy: 0.7980 - val_loss: 0.5754 - val_accuracy: 0.7500\n",
      "\n",
      "Epoch 00010: saving model to ./weights/weights-improvement-10-0.75.hdf5\n",
      "Epoch 11/50\n",
      "896/896 [==============================] - 1s 1ms/step - loss: 0.4261 - accuracy: 0.8359 - val_loss: 0.5138 - val_accuracy: 0.7500\n",
      "\n",
      "Epoch 00011: saving model to ./weights/weights-improvement-11-0.75.hdf5\n",
      "Epoch 12/50\n",
      "896/896 [==============================] - 1s 1ms/step - loss: 0.4054 - accuracy: 0.8281 - val_loss: 0.5333 - val_accuracy: 0.7545\n",
      "\n",
      "Epoch 00012: saving model to ./weights/weights-improvement-12-0.75.hdf5\n",
      "Epoch 13/50\n",
      "896/896 [==============================] - 1s 1ms/step - loss: 0.4023 - accuracy: 0.8348 - val_loss: 0.5359 - val_accuracy: 0.7589\n",
      "\n",
      "Epoch 00013: saving model to ./weights/weights-improvement-13-0.76.hdf5\n",
      "Epoch 14/50\n",
      "896/896 [==============================] - 1s 1ms/step - loss: 0.3810 - accuracy: 0.8493 - val_loss: 0.5751 - val_accuracy: 0.7723\n",
      "\n",
      "Epoch 00014: saving model to ./weights/weights-improvement-14-0.77.hdf5\n",
      "Epoch 15/50\n",
      "896/896 [==============================] - 1s 1ms/step - loss: 0.3250 - accuracy: 0.8873 - val_loss: 0.5828 - val_accuracy: 0.7589\n",
      "\n",
      "Epoch 00015: saving model to ./weights/weights-improvement-15-0.76.hdf5\n",
      "Epoch 16/50\n",
      "896/896 [==============================] - 1s 1ms/step - loss: 0.3368 - accuracy: 0.8560 - val_loss: 0.5261 - val_accuracy: 0.7589\n",
      "\n",
      "Epoch 00016: saving model to ./weights/weights-improvement-16-0.76.hdf5\n",
      "Epoch 17/50\n",
      "896/896 [==============================] - 1s 1ms/step - loss: 0.3068 - accuracy: 0.8850 - val_loss: 0.5021 - val_accuracy: 0.7768\n",
      "\n",
      "Epoch 00017: saving model to ./weights/weights-improvement-17-0.78.hdf5\n",
      "Epoch 18/50\n",
      "896/896 [==============================] - 1s 1ms/step - loss: 0.2919 - accuracy: 0.8884 - val_loss: 0.5378 - val_accuracy: 0.7634\n",
      "\n",
      "Epoch 00018: saving model to ./weights/weights-improvement-18-0.76.hdf5\n",
      "Epoch 19/50\n",
      "896/896 [==============================] - 1s 1ms/step - loss: 0.2745 - accuracy: 0.8951 - val_loss: 0.6079 - val_accuracy: 0.7589\n",
      "\n",
      "Epoch 00019: saving model to ./weights/weights-improvement-19-0.76.hdf5\n",
      "Epoch 20/50\n",
      "896/896 [==============================] - 1s 1ms/step - loss: 0.2786 - accuracy: 0.9040 - val_loss: 0.4640 - val_accuracy: 0.7768\n",
      "\n",
      "Epoch 00020: saving model to ./weights/weights-improvement-20-0.78.hdf5\n",
      "Epoch 21/50\n",
      "896/896 [==============================] - 1s 1ms/step - loss: 0.2346 - accuracy: 0.9163 - val_loss: 0.5599 - val_accuracy: 0.7723\n",
      "\n",
      "Epoch 00021: saving model to ./weights/weights-improvement-21-0.77.hdf5\n",
      "Epoch 22/50\n",
      "896/896 [==============================] - 1s 1ms/step - loss: 0.2218 - accuracy: 0.9286 - val_loss: 0.5738 - val_accuracy: 0.7768\n",
      "\n",
      "Epoch 00022: saving model to ./weights/weights-improvement-22-0.78.hdf5\n",
      "Epoch 23/50\n",
      "896/896 [==============================] - 1s 1ms/step - loss: 0.1965 - accuracy: 0.9364 - val_loss: 0.5464 - val_accuracy: 0.7812\n",
      "\n",
      "Epoch 00023: saving model to ./weights/weights-improvement-23-0.78.hdf5\n",
      "Epoch 24/50\n",
      "896/896 [==============================] - 1s 1ms/step - loss: 0.2067 - accuracy: 0.9308 - val_loss: 0.5551 - val_accuracy: 0.7723\n",
      "\n",
      "Epoch 00024: saving model to ./weights/weights-improvement-24-0.77.hdf5\n",
      "Epoch 25/50\n",
      "896/896 [==============================] - 1s 1ms/step - loss: 0.1672 - accuracy: 0.9554 - val_loss: 0.5597 - val_accuracy: 0.7679\n",
      "\n",
      "Epoch 00025: saving model to ./weights/weights-improvement-25-0.77.hdf5\n",
      "Epoch 26/50\n",
      "896/896 [==============================] - 1s 1ms/step - loss: 0.1640 - accuracy: 0.9542 - val_loss: 0.5843 - val_accuracy: 0.7946\n",
      "\n",
      "Epoch 00026: saving model to ./weights/weights-improvement-26-0.79.hdf5\n",
      "Epoch 27/50\n",
      "896/896 [==============================] - 1s 1ms/step - loss: 0.1668 - accuracy: 0.9464 - val_loss: 0.5460 - val_accuracy: 0.7857\n",
      "\n",
      "Epoch 00027: saving model to ./weights/weights-improvement-27-0.79.hdf5\n",
      "Epoch 28/50\n",
      "896/896 [==============================] - 1s 1ms/step - loss: 0.1468 - accuracy: 0.9587 - val_loss: 0.5458 - val_accuracy: 0.7812\n",
      "\n",
      "Epoch 00028: saving model to ./weights/weights-improvement-28-0.78.hdf5\n",
      "Epoch 29/50\n",
      "896/896 [==============================] - 1s 1ms/step - loss: 0.1327 - accuracy: 0.9643 - val_loss: 0.6531 - val_accuracy: 0.7857\n",
      "\n",
      "Epoch 00029: saving model to ./weights/weights-improvement-29-0.79.hdf5\n",
      "Epoch 30/50\n",
      "896/896 [==============================] - 1s 1ms/step - loss: 0.1306 - accuracy: 0.9621 - val_loss: 0.6390 - val_accuracy: 0.7857\n",
      "\n",
      "Epoch 00030: saving model to ./weights/weights-improvement-30-0.79.hdf5\n",
      "Epoch 31/50\n",
      "896/896 [==============================] - 1s 1ms/step - loss: 0.1277 - accuracy: 0.9587 - val_loss: 0.6106 - val_accuracy: 0.7946\n",
      "\n",
      "Epoch 00031: saving model to ./weights/weights-improvement-31-0.79.hdf5\n",
      "Epoch 32/50\n",
      "896/896 [==============================] - 1s 1ms/step - loss: 0.1089 - accuracy: 0.9732 - val_loss: 0.6385 - val_accuracy: 0.8125\n",
      "\n",
      "Epoch 00032: saving model to ./weights/weights-improvement-32-0.81.hdf5\n",
      "Epoch 33/50\n",
      "896/896 [==============================] - 1s 1ms/step - loss: 0.1047 - accuracy: 0.9754 - val_loss: 0.6680 - val_accuracy: 0.7812\n",
      "\n",
      "Epoch 00033: saving model to ./weights/weights-improvement-33-0.78.hdf5\n",
      "Epoch 34/50\n",
      "896/896 [==============================] - 1s 1ms/step - loss: 0.0928 - accuracy: 0.9777 - val_loss: 0.6453 - val_accuracy: 0.7812\n",
      "\n",
      "Epoch 00034: saving model to ./weights/weights-improvement-34-0.78.hdf5\n",
      "Epoch 35/50\n",
      "896/896 [==============================] - 1s 1ms/step - loss: 0.1081 - accuracy: 0.9766 - val_loss: 0.6415 - val_accuracy: 0.7768\n",
      "\n",
      "Epoch 00035: saving model to ./weights/weights-improvement-35-0.78.hdf5\n",
      "Epoch 36/50\n",
      "896/896 [==============================] - 1s 1ms/step - loss: 0.0885 - accuracy: 0.9766 - val_loss: 0.6281 - val_accuracy: 0.7768\n",
      "\n",
      "Epoch 00036: saving model to ./weights/weights-improvement-36-0.78.hdf5\n",
      "Epoch 37/50\n",
      "896/896 [==============================] - 1s 1ms/step - loss: 0.1025 - accuracy: 0.9688 - val_loss: 0.6182 - val_accuracy: 0.8170\n",
      "\n",
      "Epoch 00037: saving model to ./weights/weights-improvement-37-0.82.hdf5\n",
      "Epoch 38/50\n",
      "896/896 [==============================] - 1s 1ms/step - loss: 0.0906 - accuracy: 0.9766 - val_loss: 0.6649 - val_accuracy: 0.8036\n",
      "\n",
      "Epoch 00038: saving model to ./weights/weights-improvement-38-0.80.hdf5\n"
     ]
    },
    {
     "name": "stdout",
     "output_type": "stream",
     "text": [
      "Epoch 39/50\n",
      "896/896 [==============================] - 1s 1ms/step - loss: 0.0786 - accuracy: 0.9799 - val_loss: 0.6523 - val_accuracy: 0.7946\n",
      "\n",
      "Epoch 00039: saving model to ./weights/weights-improvement-39-0.79.hdf5\n",
      "Epoch 40/50\n",
      "896/896 [==============================] - 1s 1ms/step - loss: 0.0801 - accuracy: 0.9766 - val_loss: 0.6409 - val_accuracy: 0.7946\n",
      "\n",
      "Epoch 00040: saving model to ./weights/weights-improvement-40-0.79.hdf5\n",
      "Epoch 41/50\n",
      "896/896 [==============================] - 1s 1ms/step - loss: 0.0680 - accuracy: 0.9866 - val_loss: 0.6800 - val_accuracy: 0.7857\n",
      "\n",
      "Epoch 00041: saving model to ./weights/weights-improvement-41-0.79.hdf5\n",
      "Epoch 42/50\n",
      "896/896 [==============================] - 1s 1ms/step - loss: 0.0734 - accuracy: 0.9810 - val_loss: 0.6856 - val_accuracy: 0.7857\n",
      "\n",
      "Epoch 00042: saving model to ./weights/weights-improvement-42-0.79.hdf5\n",
      "Epoch 43/50\n",
      "896/896 [==============================] - 1s 1ms/step - loss: 0.0713 - accuracy: 0.9821 - val_loss: 0.7449 - val_accuracy: 0.7902\n",
      "\n",
      "Epoch 00043: saving model to ./weights/weights-improvement-43-0.79.hdf5\n",
      "Epoch 44/50\n",
      "896/896 [==============================] - 1s 1ms/step - loss: 0.0654 - accuracy: 0.9855 - val_loss: 0.7231 - val_accuracy: 0.7902\n",
      "\n",
      "Epoch 00044: saving model to ./weights/weights-improvement-44-0.79.hdf5\n",
      "Epoch 45/50\n",
      "896/896 [==============================] - 1s 1ms/step - loss: 0.0526 - accuracy: 0.9877 - val_loss: 0.6959 - val_accuracy: 0.7857\n",
      "\n",
      "Epoch 00045: saving model to ./weights/weights-improvement-45-0.79.hdf5\n",
      "Epoch 46/50\n",
      "896/896 [==============================] - 1s 1ms/step - loss: 0.0569 - accuracy: 0.9866 - val_loss: 0.6542 - val_accuracy: 0.7768\n",
      "\n",
      "Epoch 00046: saving model to ./weights/weights-improvement-46-0.78.hdf5\n",
      "Epoch 47/50\n",
      "896/896 [==============================] - 1s 1ms/step - loss: 0.0524 - accuracy: 0.9855 - val_loss: 0.7914 - val_accuracy: 0.7812\n",
      "\n",
      "Epoch 00047: saving model to ./weights/weights-improvement-47-0.78.hdf5\n",
      "Epoch 48/50\n",
      "896/896 [==============================] - 1s 1ms/step - loss: 0.0583 - accuracy: 0.9888 - val_loss: 0.7865 - val_accuracy: 0.7902\n",
      "\n",
      "Epoch 00048: saving model to ./weights/weights-improvement-48-0.79.hdf5\n",
      "Epoch 49/50\n",
      "896/896 [==============================] - 1s 1ms/step - loss: 0.0525 - accuracy: 0.9888 - val_loss: 0.7196 - val_accuracy: 0.7991\n",
      "\n",
      "Epoch 00049: saving model to ./weights/weights-improvement-49-0.80.hdf5\n",
      "Epoch 50/50\n",
      "896/896 [==============================] - 1s 1ms/step - loss: 0.0496 - accuracy: 0.9866 - val_loss: 0.6841 - val_accuracy: 0.7946\n",
      "\n",
      "Epoch 00050: saving model to ./weights/weights-improvement-50-0.79.hdf5\n"
     ]
    }
   ],
   "source": [
    "hist = top_model.fit(train_data, train_y,\n",
    "                 epochs= epochs, \n",
    "                 batch_size = BATCH_SIZE,\n",
    "                 verbose= 1, \n",
    "                 validation_data = (validation_data, validation_y),\n",
    "                 class_weight= class_weight,\n",
    "                 callbacks= [checkpoint])"
   ]
  },
  {
   "cell_type": "code",
   "execution_count": 78,
   "metadata": {
    "scrolled": true
   },
   "outputs": [
    {
     "data": {
      "image/png": "[encoded data removed]",
      "text/plain": [
       "<Figure size 1080x360 with 2 Axes>"
      ]
     },
     "metadata": {
      "needs_background": "light"
     },
     "output_type": "display_data"
    }
   ],
   "source": [
    "# Plotting the training curves\n",
    "\n",
    "fig, axs = plt.subplots(1, 2, figsize= (15, 5))\n",
    "\n",
    "# Plot training & validation accuracy values\n",
    "axs[0].plot(hist.history['accuracy'])\n",
    "axs[0].plot(hist.history['val_accuracy'])\n",
    "axs[0].set_title('Model accuracy')\n",
    "axs[0].set_ylabel('Accuracy')\n",
    "axs[0].set_xlabel('Epoch')\n",
    "axs[0].legend(['Train', 'Valid'], loc='upper left')\n",
    "axs[0].grid()\n",
    "\n",
    "# Plot training & validation loss values\n",
    "axs[1].plot(hist.history['loss'])\n",
    "axs[1].plot(hist.history['val_loss'])\n",
    "axs[1].set_title('Model loss')\n",
    "axs[1].set_ylabel('Loss')\n",
    "axs[1].set_xlabel('Epoch')\n",
    "axs[1].grid()\n",
    "axs[1].legend(['Train', 'Valid'], loc='upper left')\n",
    "plt.show()"
   ]
  },
  {
   "cell_type": "markdown",
   "metadata": {},
   "source": [
    "We can see that we were able to obtain better results than previously by using pre-trained weights!"
   ]
  },
  {
   "cell_type": "markdown",
   "metadata": {},
   "source": [
    "### Evaluating our model"
   ]
  },
  {
   "cell_type": "code",
   "execution_count": 37,
   "metadata": {},
   "outputs": [],
   "source": [
    "# Loading the best weights\n",
    "top_model.load_weights(\"./weights/weights-improvement-37-0.82.hdf5\")"
   ]
  },
  {
   "cell_type": "code",
   "execution_count": 38,
   "metadata": {
    "scrolled": true
   },
   "outputs": [
    {
     "name": "stdout",
     "output_type": "stream",
     "text": [
      "224/224 [==============================] - 0s 587us/step\n",
      "Accuracy on the validation set: 0.817\n"
     ]
    }
   ],
   "source": [
    "evaluation = top_model.evaluate(validation_data, validation_y)\n",
    "print('Accuracy on the validation set: {:.3f}'.format(evaluation[1]))"
   ]
  },
  {
   "cell_type": "code",
   "execution_count": 39,
   "metadata": {
    "scrolled": true
   },
   "outputs": [
    {
     "data": {
      "text/plain": [
       "array([1, 3, 0, 0, 2, 2, 0, 0, 3, 0])"
      ]
     },
     "execution_count": 39,
     "metadata": {},
     "output_type": "execute_result"
    }
   ],
   "source": [
    "pred = top_model.predict(validation_data)\n",
    "y_pred = pred.argmax(axis=1)\n",
    "y_pred[:10]"
   ]
  },
  {
   "cell_type": "code",
   "execution_count": 40,
   "metadata": {
    "scrolled": true
   },
   "outputs": [
    {
     "data": {
      "text/plain": [
       "{'bacterial': 0, 'covid': 1, 'normal': 2, 'viral': 3}"
      ]
     },
     "execution_count": 40,
     "metadata": {},
     "output_type": "execute_result"
    }
   ],
   "source": [
    "X_val.class_indices"
   ]
  },
  {
   "cell_type": "code",
   "execution_count": 41,
   "metadata": {},
   "outputs": [],
   "source": [
    "y_val = valid_set['label'].map(X_val.class_indices).values"
   ]
  },
  {
   "cell_type": "code",
   "execution_count": 42,
   "metadata": {
    "scrolled": true
   },
   "outputs": [
    {
     "data": {
      "image/png": "[encoded data removed]",
      "text/plain": [
       "<Figure size 432x288 with 2 Axes>"
      ]
     },
     "metadata": {
      "needs_background": "light"
     },
     "output_type": "display_data"
    }
   ],
   "source": [
    "data = {'y_val': y_val[:-2], 'y_pred': y_pred}\n",
    "df = pd.DataFrame(data)\n",
    "confusion_matrix = pd.crosstab(df['y_val'], df['y_pred'], \n",
    "                               rownames=['Actual'], \n",
    "                               colnames=['Predicted'],\n",
    "                               normalize= 'index')\n",
    "\n",
    "cmap = sns.diverging_palette(220, 10, as_cmap= True)\n",
    "sns.heatmap(confusion_matrix, annot=True, cmap= cmap)\n",
    "plt.title('Confusion matrix')\n",
    "plt.show()"
   ]
  },
  {
   "cell_type": "code",
   "execution_count": 43,
   "metadata": {
    "scrolled": true
   },
   "outputs": [
    {
     "name": "stdout",
     "output_type": "stream",
     "text": [
      "              precision    recall  f1-score   support\n",
      "\n",
      "           0       0.82      0.71      0.76        70\n",
      "           1       1.00      0.81      0.90        16\n",
      "           2       0.84      1.00      0.92        70\n",
      "           3       0.75      0.74      0.74        68\n",
      "\n",
      "    accuracy                           0.82       224\n",
      "   macro avg       0.85      0.82      0.83       224\n",
      "weighted avg       0.82      0.82      0.81       224\n",
      "\n"
     ]
    }
   ],
   "source": [
    "print(classification_report(y_val[:-2], y_pred))"
   ]
  },
  {
   "cell_type": "markdown",
   "metadata": {},
   "source": [
    "The performances are higher than previously without transfer learning."
   ]
  },
  {
   "cell_type": "markdown",
   "metadata": {},
   "source": [
    "# Going further: fine-tuning the top layers of the pre-trained network"
   ]
  },
  {
   "cell_type": "markdown",
   "metadata": {},
   "source": [
    "We are now going to train the last convolutional layers of VGG16 to try to tailor the network a bit more to our problem and improve furthermore our results:"
   ]
  },
  {
   "cell_type": "code",
   "execution_count": 8,
   "metadata": {},
   "outputs": [],
   "source": [
    "pretrained_model = VGG16(include_top=False, weights='imagenet', input_shape= (W, H, 3))"
   ]
  },
  {
   "cell_type": "code",
   "execution_count": 12,
   "metadata": {},
   "outputs": [],
   "source": [
    "top_model = Sequential()\n",
    "top_model.add(Flatten(input_shape=(train_data.shape[1:])))\n",
    "top_model.add(Dense(units= 128, activation= 'relu')) \n",
    "top_model.add(Dropout(0.5)) \n",
    "top_model.add(Dense(units= 64, activation= 'relu')) \n",
    "top_model.add(Dropout(0.3)) \n",
    "top_model.add(Dense(units= 4, activation= 'softmax'))\n",
    "\n",
    "top_model.compile(loss= 'categorical_crossentropy',\n",
    "              optimizer= Adam(lr= 1e-4), \n",
    "              metrics = ['accuracy'])\n",
    "\n",
    "top_model.load_weights(\"./weights/weights-improvement-37-0.82.hdf5\")"
   ]
  },
  {
   "cell_type": "code",
   "execution_count": 13,
   "metadata": {
    "scrolled": true
   },
   "outputs": [],
   "source": [
    "model = Sequential()\n",
    "model.add(pretrained_model)\n",
    "model.add(top_model)\n",
    "\n",
    "# Freezing all the layers but the last block\n",
    "for layer in pretrained_model.layers[:-4]:\n",
    "    layer.trainable = False"
   ]
  },
  {
   "cell_type": "code",
   "execution_count": 14,
   "metadata": {},
   "outputs": [],
   "source": [
    "model.compile(loss='categorical_crossentropy',\n",
    "              optimizer= SGD(lr=1e-4, momentum=0.9),\n",
    "              metrics=['accuracy'])"
   ]
  },
  {
   "cell_type": "markdown",
   "metadata": {},
   "source": [
    "### Training"
   ]
  },
  {
   "cell_type": "markdown",
   "metadata": {},
   "source": [
    "We are also going to use more data augmentation to make the classification more challenging and build a more robust model:"
   ]
  },
  {
   "cell_type": "code",
   "execution_count": 15,
   "metadata": {
    "scrolled": true
   },
   "outputs": [
    {
     "name": "stdout",
     "output_type": "stream",
     "text": [
      "Found 901 validated image filenames belonging to 4 classes.\n"
     ]
    }
   ],
   "source": [
    "train_datagen = ImageDataGenerator(samplewise_center=True,\n",
    "                                  samplewise_std_normalization=True, \n",
    "                                  shear_range=0.2,\n",
    "                                  zoom_range=0.2,\n",
    "                                  horizontal_flip=True)\n",
    "\n",
    "\n",
    "X_train = train_datagen.flow_from_dataframe(dataframe= train_set,\n",
    "                                            directory= '../train2/',\n",
    "                                            x_col = 'filename',\n",
    "                                            y_col = 'label', \n",
    "                                            target_size = (W, H),\n",
    "                                            batch_size= BATCH_SIZE, \n",
    "                                            seed= 0)"
   ]
  },
  {
   "cell_type": "code",
   "execution_count": 82,
   "metadata": {},
   "outputs": [],
   "source": [
    "epochs= 10\n",
    "\n",
    "filepath=\"./tuning/weights-improvement-{epoch:02d}-{val_accuracy:.2f}.hdf5\"\n",
    "checkpoint = ModelCheckpoint(filepath, monitor= 'val_accuracy', verbose= 1, period= 1)"
   ]
  },
  {
   "cell_type": "code",
   "execution_count": 83,
   "metadata": {
    "scrolled": false
   },
   "outputs": [
    {
     "name": "stdout",
     "output_type": "stream",
     "text": [
      "Epoch 1/10\n",
      "28/28 [==============================] - 272s 10s/step - loss: 0.3155 - accuracy: 0.8841 - val_loss: 0.1701 - val_accuracy: 0.9074\n",
      "\n",
      "Epoch 00001: saving model to ./tuning/weights-improvement-01-0.91.hdf5\n",
      "Epoch 2/10\n",
      "28/28 [==============================] - 260s 9s/step - loss: 0.3265 - accuracy: 0.8846 - val_loss: 0.4185 - val_accuracy: 0.8982\n",
      "\n",
      "Epoch 00002: saving model to ./tuning/weights-improvement-02-0.90.hdf5\n",
      "Epoch 3/10\n",
      "28/28 [==============================] - 263s 9s/step - loss: 0.3334 - accuracy: 0.8884 - val_loss: 0.2021 - val_accuracy: 0.9111\n",
      "\n",
      "Epoch 00003: saving model to ./tuning/weights-improvement-03-0.91.hdf5\n",
      "Epoch 4/10\n",
      "28/28 [==============================] - 264s 9s/step - loss: 0.3129 - accuracy: 0.8846 - val_loss: 0.3194 - val_accuracy: 0.9059\n",
      "\n",
      "Epoch 00004: saving model to ./tuning/weights-improvement-04-0.91.hdf5\n",
      "Epoch 5/10\n",
      "28/28 [==============================] - 266s 9s/step - loss: 0.3350 - accuracy: 0.8728 - val_loss: 0.2110 - val_accuracy: 0.9085\n",
      "\n",
      "Epoch 00005: saving model to ./tuning/weights-improvement-05-0.91.hdf5\n",
      "Epoch 6/10\n",
      "28/28 [==============================] - 277s 10s/step - loss: 0.3217 - accuracy: 0.8842 - val_loss: 0.4003 - val_accuracy: 0.9046\n",
      "\n",
      "Epoch 00006: saving model to ./tuning/weights-improvement-06-0.90.hdf5\n",
      "Epoch 7/10\n",
      "28/28 [==============================] - 266s 9s/step - loss: 0.3109 - accuracy: 0.8843 - val_loss: 0.3218 - val_accuracy: 0.9059\n",
      "\n",
      "Epoch 00007: saving model to ./tuning/weights-improvement-07-0.91.hdf5\n",
      "Epoch 8/10\n",
      "28/28 [==============================] - 259s 9s/step - loss: 0.3054 - accuracy: 0.8916 - val_loss: 0.3240 - val_accuracy: 0.9059\n",
      "\n",
      "Epoch 00008: saving model to ./tuning/weights-improvement-08-0.91.hdf5\n",
      "Epoch 9/10\n",
      "28/28 [==============================] - 271s 10s/step - loss: 0.3259 - accuracy: 0.8829 - val_loss: 0.1701 - val_accuracy: 0.9074\n",
      "\n",
      "Epoch 00009: saving model to ./tuning/weights-improvement-09-0.91.hdf5\n",
      "Epoch 10/10\n",
      "28/28 [==============================] - 303s 11s/step - loss: 0.3107 - accuracy: 0.8823 - val_loss: 0.4185 - val_accuracy: 0.8982\n",
      "\n",
      "Epoch 00010: saving model to ./tuning/weights-improvement-10-0.90.hdf5\n"
     ]
    }
   ],
   "source": [
    "hist = model.fit_generator(X_train,\n",
    "                           epochs= epochs, \n",
    "                           steps_per_epoch= len(train_set) // BATCH_SIZE,\n",
    "                           verbose= 1, \n",
    "                           validation_data = X_val,\n",
    "                           validation_steps= len(valid_set) // BATCH_SIZE,\n",
    "                           class_weight= class_weight,\n",
    "                           callbacks= [checkpoint])"
   ]
  },
  {
   "cell_type": "markdown",
   "metadata": {},
   "source": [
    "The results of the training look better than previously. Fine-tuning the top layers seem to lead to better performances."
   ]
  },
  {
   "cell_type": "markdown",
   "metadata": {},
   "source": [
    "### Evaluating our final model"
   ]
  },
  {
   "cell_type": "code",
   "execution_count": 16,
   "metadata": {},
   "outputs": [],
   "source": [
    "# Loading the best weights\n",
    "model.load_weights(\"./tuning/weights-improvement-07-0.91.hdf5\")"
   ]
  },
  {
   "cell_type": "code",
   "execution_count": 17,
   "metadata": {},
   "outputs": [
    {
     "name": "stdout",
     "output_type": "stream",
     "text": [
      "Found 226 validated image filenames belonging to 4 classes.\n"
     ]
    }
   ],
   "source": [
    "X_val2 = val_datagen.flow_from_dataframe(dataframe= valid_set,\n",
    "                                        directory= '../train2/',\n",
    "                                        x_col = 'filename',\n",
    "                                        y_col = 'label', \n",
    "                                        target_size = (W, H),\n",
    "                                        batch_size= BATCH_SIZE, \n",
    "                                        shuffle= False)"
   ]
  },
  {
   "cell_type": "code",
   "execution_count": 18,
   "metadata": {},
   "outputs": [
    {
     "name": "stdout",
     "output_type": "stream",
     "text": [
      "Accuracy on the validation set: 0.906\n"
     ]
    }
   ],
   "source": [
    "evaluation = model.evaluate_generator(X_val2)\n",
    "print('Accuracy on the validation set: {:.3f}'.format(evaluation[1]))"
   ]
  },
  {
   "cell_type": "code",
   "execution_count": 19,
   "metadata": {
    "scrolled": true
   },
   "outputs": [
    {
     "data": {
      "text/plain": [
       "array([1, 3, 0, 0, 2, 2, 0, 0, 3, 0])"
      ]
     },
     "execution_count": 19,
     "metadata": {},
     "output_type": "execute_result"
    }
   ],
   "source": [
    "pred = model.predict_generator(X_val2)\n",
    "y_pred = pred.argmax(axis=1)\n",
    "y_pred[:10]"
   ]
  },
  {
   "cell_type": "code",
   "execution_count": 20,
   "metadata": {},
   "outputs": [],
   "source": [
    "y_val = valid_set['label'].map(X_val2.class_indices).values"
   ]
  },
  {
   "cell_type": "code",
   "execution_count": 21,
   "metadata": {
    "scrolled": true
   },
   "outputs": [
    {
     "data": {
      "image/png": "[encoded data removed]",
      "text/plain": [
       "<Figure size 432x288 with 2 Axes>"
      ]
     },
     "metadata": {
      "needs_background": "light"
     },
     "output_type": "display_data"
    }
   ],
   "source": [
    "data = {'y_val': y_val, 'y_pred': y_pred}\n",
    "df = pd.DataFrame(data)\n",
    "confusion_matrix = pd.crosstab(df['y_val'], df['y_pred'], \n",
    "                               rownames=['Actual'], \n",
    "                               colnames=['Predicted'],\n",
    "                               normalize= 'index')\n",
    "\n",
    "cmap = sns.diverging_palette(220, 10, as_cmap= True)\n",
    "sns.heatmap(confusion_matrix, annot=True, cmap= cmap)\n",
    "plt.title('Confusion matrix')\n",
    "plt.show()"
   ]
  },
  {
   "cell_type": "code",
   "execution_count": 22,
   "metadata": {
    "scrolled": true
   },
   "outputs": [
    {
     "name": "stdout",
     "output_type": "stream",
     "text": [
      "              precision    recall  f1-score   support\n",
      "\n",
      "           0       0.81      0.71      0.76        70\n",
      "           1       1.00      0.81      0.90        16\n",
      "           2       0.84      1.00      0.92        70\n",
      "           3       0.75      0.73      0.74        70\n",
      "\n",
      "    accuracy                           0.81       226\n",
      "   macro avg       0.85      0.81      0.83       226\n",
      "weighted avg       0.81      0.81      0.81       226\n",
      "\n"
     ]
    }
   ],
   "source": [
    "print(classification_report(y_val, y_pred))"
   ]
  },
  {
   "cell_type": "markdown",
   "metadata": {},
   "source": [
    "Surprisingly, even though the results of the training look better, we don't observe much improvements"
   ]
  },
  {
   "cell_type": "markdown",
   "metadata": {},
   "source": [
    "# Predicting on the test set"
   ]
  },
  {
   "cell_type": "markdown",
   "metadata": {},
   "source": [
    "In this section, we are going to predict the labels of the test set using our improved model and save them."
   ]
  },
  {
   "cell_type": "markdown",
   "metadata": {},
   "source": [
    "### Loading the test set"
   ]
  },
  {
   "cell_type": "code",
   "execution_count": 103,
   "metadata": {
    "scrolled": true
   },
   "outputs": [],
   "source": [
    "test_df = pd.read_csv('../test.csv')"
   ]
  },
  {
   "cell_type": "code",
   "execution_count": 104,
   "metadata": {
    "scrolled": true
   },
   "outputs": [
    {
     "data": {
      "text/html": [
       "<div>\n",
       "<style scoped>\n",
       "    .dataframe tbody tr th:only-of-type {\n",
       "        vertical-align: middle;\n",
       "    }\n",
       "\n",
       "    .dataframe tbody tr th {\n",
       "        vertical-align: top;\n",
       "    }\n",
       "\n",
       "    .dataframe thead th {\n",
       "        text-align: right;\n",
       "    }\n",
       "</style>\n",
       "<table border=\"1\" class=\"dataframe\">\n",
       "  <thead>\n",
       "    <tr style=\"text-align: right;\">\n",
       "      <th></th>\n",
       "      <th>id</th>\n",
       "      <th>filename</th>\n",
       "    </tr>\n",
       "  </thead>\n",
       "  <tbody>\n",
       "    <tr>\n",
       "      <th>0</th>\n",
       "      <td>0</td>\n",
       "      <td>test/img-0.jpeg</td>\n",
       "    </tr>\n",
       "    <tr>\n",
       "      <th>1</th>\n",
       "      <td>1</td>\n",
       "      <td>test/img-1.jpeg</td>\n",
       "    </tr>\n",
       "    <tr>\n",
       "      <th>2</th>\n",
       "      <td>2</td>\n",
       "      <td>test/img-2.jpeg</td>\n",
       "    </tr>\n",
       "    <tr>\n",
       "      <th>3</th>\n",
       "      <td>3</td>\n",
       "      <td>test/img-3.jpeg</td>\n",
       "    </tr>\n",
       "    <tr>\n",
       "      <th>4</th>\n",
       "      <td>4</td>\n",
       "      <td>test/img-4.jpeg</td>\n",
       "    </tr>\n",
       "  </tbody>\n",
       "</table>\n",
       "</div>"
      ],
      "text/plain": [
       "   id         filename\n",
       "0   0  test/img-0.jpeg\n",
       "1   1  test/img-1.jpeg\n",
       "2   2  test/img-2.jpeg\n",
       "3   3  test/img-3.jpeg\n",
       "4   4  test/img-4.jpeg"
      ]
     },
     "execution_count": 104,
     "metadata": {},
     "output_type": "execute_result"
    }
   ],
   "source": [
    "test_df.head()"
   ]
  },
  {
   "cell_type": "code",
   "execution_count": 105,
   "metadata": {},
   "outputs": [
    {
     "data": {
      "text/plain": [
       "(484, 312, 251, 3)"
      ]
     },
     "execution_count": 105,
     "metadata": {},
     "output_type": "execute_result"
    }
   ],
   "source": [
    "# Loading the images from the test set\n",
    "\n",
    "n_rows = test_df.shape[0]\n",
    "all_images = []\n",
    "\n",
    "for i in range(n_rows):\n",
    "    image_path = '../test2/' + test_df.loc[i, 'filename']\n",
    "    img = image.load_img(image_path , target_size= (W, H))\n",
    "    img = np.array(img)\n",
    "    all_images.append(img)\n",
    "X_test = np.array(all_images)\n",
    "X_test.shape"
   ]
  },
  {
   "cell_type": "code",
   "execution_count": 106,
   "metadata": {},
   "outputs": [],
   "source": [
    "test_datagen = ImageDataGenerator(samplewise_center=True,\n",
    "                                 samplewise_std_normalization=True)\n",
    "\n",
    "BATCH_SIZE2 = 4\n",
    "\n",
    "def test_gen(x_test):\n",
    "    Y_trash = np.ones(x_test.shape[0])\n",
    "    flow = test_datagen.flow(x_test, Y_trash, batch_size= BATCH_SIZE2, shuffle= False)\n",
    "    for X,Y in flow:\n",
    "        yield X"
   ]
  },
  {
   "cell_type": "code",
   "execution_count": 109,
   "metadata": {},
   "outputs": [
    {
     "data": {
      "text/plain": [
       "array([0, 2, 1, 3, 2, 2, 0, 2, 2, 3])"
      ]
     },
     "execution_count": 109,
     "metadata": {},
     "output_type": "execute_result"
    }
   ],
   "source": [
    "pred = model.predict_generator(test_gen(X_test), steps= len(test_df) // BATCH_SIZE2)\n",
    "y_pred = pred.argmax(axis=1)\n",
    "y_pred[:10]"
   ]
  },
  {
   "cell_type": "code",
   "execution_count": 110,
   "metadata": {},
   "outputs": [
    {
     "data": {
      "text/plain": [
       "484"
      ]
     },
     "execution_count": 110,
     "metadata": {},
     "output_type": "execute_result"
    }
   ],
   "source": [
    "len(y_pred)"
   ]
  },
  {
   "cell_type": "markdown",
   "metadata": {},
   "source": [
    "### Formatting the output like the submission example"
   ]
  },
  {
   "cell_type": "code",
   "execution_count": 111,
   "metadata": {
    "scrolled": true
   },
   "outputs": [
    {
     "data": {
      "text/html": [
       "<div>\n",
       "<style scoped>\n",
       "    .dataframe tbody tr th:only-of-type {\n",
       "        vertical-align: middle;\n",
       "    }\n",
       "\n",
       "    .dataframe tbody tr th {\n",
       "        vertical-align: top;\n",
       "    }\n",
       "\n",
       "    .dataframe thead th {\n",
       "        text-align: right;\n",
       "    }\n",
       "</style>\n",
       "<table border=\"1\" class=\"dataframe\">\n",
       "  <thead>\n",
       "    <tr style=\"text-align: right;\">\n",
       "      <th></th>\n",
       "      <th>Id</th>\n",
       "      <th>label</th>\n",
       "    </tr>\n",
       "  </thead>\n",
       "  <tbody>\n",
       "    <tr>\n",
       "      <th>0</th>\n",
       "      <td>0</td>\n",
       "      <td>bacterial</td>\n",
       "    </tr>\n",
       "    <tr>\n",
       "      <th>1</th>\n",
       "      <td>1</td>\n",
       "      <td>viral</td>\n",
       "    </tr>\n",
       "    <tr>\n",
       "      <th>2</th>\n",
       "      <td>2</td>\n",
       "      <td>normal</td>\n",
       "    </tr>\n",
       "    <tr>\n",
       "      <th>3</th>\n",
       "      <td>3</td>\n",
       "      <td>normal</td>\n",
       "    </tr>\n",
       "    <tr>\n",
       "      <th>4</th>\n",
       "      <td>4</td>\n",
       "      <td>bacterial</td>\n",
       "    </tr>\n",
       "  </tbody>\n",
       "</table>\n",
       "</div>"
      ],
      "text/plain": [
       "   Id      label\n",
       "0   0  bacterial\n",
       "1   1      viral\n",
       "2   2     normal\n",
       "3   3     normal\n",
       "4   4  bacterial"
      ]
     },
     "execution_count": 111,
     "metadata": {},
     "output_type": "execute_result"
    }
   ],
   "source": [
    "submission = pd.read_csv('../submission.csv')\n",
    "submission.head()"
   ]
  },
  {
   "cell_type": "code",
   "execution_count": 112,
   "metadata": {
    "scrolled": false
   },
   "outputs": [
    {
     "data": {
      "text/html": [
       "<div>\n",
       "<style scoped>\n",
       "    .dataframe tbody tr th:only-of-type {\n",
       "        vertical-align: middle;\n",
       "    }\n",
       "\n",
       "    .dataframe tbody tr th {\n",
       "        vertical-align: top;\n",
       "    }\n",
       "\n",
       "    .dataframe thead th {\n",
       "        text-align: right;\n",
       "    }\n",
       "</style>\n",
       "<table border=\"1\" class=\"dataframe\">\n",
       "  <thead>\n",
       "    <tr style=\"text-align: right;\">\n",
       "      <th></th>\n",
       "      <th>Id</th>\n",
       "      <th>label</th>\n",
       "    </tr>\n",
       "  </thead>\n",
       "  <tbody>\n",
       "    <tr>\n",
       "      <th>0</th>\n",
       "      <td>0</td>\n",
       "      <td>bacterial</td>\n",
       "    </tr>\n",
       "    <tr>\n",
       "      <th>1</th>\n",
       "      <td>1</td>\n",
       "      <td>normal</td>\n",
       "    </tr>\n",
       "    <tr>\n",
       "      <th>2</th>\n",
       "      <td>2</td>\n",
       "      <td>covid</td>\n",
       "    </tr>\n",
       "    <tr>\n",
       "      <th>3</th>\n",
       "      <td>3</td>\n",
       "      <td>viral</td>\n",
       "    </tr>\n",
       "    <tr>\n",
       "      <th>4</th>\n",
       "      <td>4</td>\n",
       "      <td>normal</td>\n",
       "    </tr>\n",
       "    <tr>\n",
       "      <th>...</th>\n",
       "      <td>...</td>\n",
       "      <td>...</td>\n",
       "    </tr>\n",
       "    <tr>\n",
       "      <th>479</th>\n",
       "      <td>479</td>\n",
       "      <td>viral</td>\n",
       "    </tr>\n",
       "    <tr>\n",
       "      <th>480</th>\n",
       "      <td>480</td>\n",
       "      <td>viral</td>\n",
       "    </tr>\n",
       "    <tr>\n",
       "      <th>481</th>\n",
       "      <td>481</td>\n",
       "      <td>viral</td>\n",
       "    </tr>\n",
       "    <tr>\n",
       "      <th>482</th>\n",
       "      <td>482</td>\n",
       "      <td>viral</td>\n",
       "    </tr>\n",
       "    <tr>\n",
       "      <th>483</th>\n",
       "      <td>483</td>\n",
       "      <td>covid</td>\n",
       "    </tr>\n",
       "  </tbody>\n",
       "</table>\n",
       "<p>484 rows × 2 columns</p>\n",
       "</div>"
      ],
      "text/plain": [
       "      Id      label\n",
       "0      0  bacterial\n",
       "1      1     normal\n",
       "2      2      covid\n",
       "3      3      viral\n",
       "4      4     normal\n",
       "..   ...        ...\n",
       "479  479      viral\n",
       "480  480      viral\n",
       "481  481      viral\n",
       "482  482      viral\n",
       "483  483      covid\n",
       "\n",
       "[484 rows x 2 columns]"
      ]
     },
     "execution_count": 112,
     "metadata": {},
     "output_type": "execute_result"
    }
   ],
   "source": [
    "data = {'Id': test_df['id'], 'label': y_pred}\n",
    "output = pd.DataFrame(data)\n",
    "output['label'] = output['label'].map({0:'bacterial', 1: 'covid', 2: 'normal', 3: 'viral'})\n",
    "output"
   ]
  },
  {
   "cell_type": "code",
   "execution_count": 113,
   "metadata": {},
   "outputs": [],
   "source": [
    "# saving the output\n",
    "output.to_csv('output_best_tuned.csv', index= False)"
   ]
  },
  {
   "cell_type": "code",
   "execution_count": null,
   "metadata": {},
   "outputs": [],
   "source": []
  },
  {
   "cell_type": "markdown",
   "metadata": {},
   "source": [
    "--- \n",
    "\n",
    "# Appendix"
   ]
  },
  {
   "cell_type": "markdown",
   "metadata": {},
   "source": [
    "### Looking into the output of the model before fine-tuning the top layers"
   ]
  },
  {
   "cell_type": "code",
   "execution_count": 12,
   "metadata": {},
   "outputs": [],
   "source": [
    "model = VGG16(include_top=False, weights='imagenet')\n",
    "\n",
    "bottleneck_features_test = model.predict_generator(test_gen(X_test),steps= len(test_df) // BATCH_SIZE2)\n",
    "np.save(open('bottleneck_features_test.npy', 'wb'), bottleneck_features_test)"
   ]
  },
  {
   "cell_type": "code",
   "execution_count": 46,
   "metadata": {
    "scrolled": true
   },
   "outputs": [
    {
     "data": {
      "text/plain": [
       "array([0, 2, 1, 3, 2, 2, 0, 2, 2, 3])"
      ]
     },
     "execution_count": 46,
     "metadata": {},
     "output_type": "execute_result"
    }
   ],
   "source": [
    "test_data = np.load(open('bottleneck_features_test.npy', 'rb'))\n",
    "\n",
    "pred = top_model.predict(test_data)\n",
    "y_pred = pred.argmax(axis=1)\n",
    "y_pred[:10]"
   ]
  },
  {
   "cell_type": "code",
   "execution_count": null,
   "metadata": {},
   "outputs": [],
   "source": []
  }
 ],
 "metadata": {
  "kernelspec": {
   "display_name": "Python 3",
   "language": "python",
   "name": "python3"
  },
  "language_info": {
   "codemirror_mode": {
    "name": "ipython",
    "version": 3
   },
   "file_extension": ".py",
   "mimetype": "text/x-python",
   "name": "python",
   "nbconvert_exporter": "python",
   "pygments_lexer": "ipython3",
   "version": "3.7.5"
  }
 },
 "nbformat": 4,
 "nbformat_minor": 2
}
